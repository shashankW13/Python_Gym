{
 "cells": [
  {
   "cell_type": "code",
   "id": "initial_id",
   "metadata": {
    "collapsed": true,
    "ExecuteTime": {
     "end_time": "2025-06-17T17:37:33.922790Z",
     "start_time": "2025-06-17T17:37:33.920504Z"
    }
   },
   "source": [
    "#Beginner Level (Function Basics):\n",
    "INT_LIST = [3, 56, 67, 4]\n",
    "PI = 3.14"
   ],
   "outputs": [],
   "execution_count": 11
  },
  {
   "metadata": {
    "ExecuteTime": {
     "end_time": "2025-06-17T17:29:12.530913Z",
     "start_time": "2025-06-17T17:29:09.782307Z"
    }
   },
   "cell_type": "code",
   "source": [
    "#1\n",
    "name = input(\"What is your name? \")\n",
    "def greeting(your_name):\n",
    "    print(f\"Hello, {your_name}!\")\n",
    "greeting(name)"
   ],
   "id": "2e6cbaa13877101e",
   "outputs": [
    {
     "name": "stdout",
     "output_type": "stream",
     "text": [
      "Hello, shadow!\n"
     ]
    }
   ],
   "execution_count": 3
  },
  {
   "metadata": {
    "ExecuteTime": {
     "end_time": "2025-06-17T17:30:58.748588Z",
     "start_time": "2025-06-17T17:30:55.926301Z"
    }
   },
   "cell_type": "code",
   "source": [
    "#2\n",
    "num = int(input(\"What is your number1? \"))\n",
    "num1 = int(input(\"What is your number2? \"))\n",
    "\n",
    "def add_nums(num, num1):\n",
    "    return num + num1\n",
    "print(\"Addition = \", add_nums(num, num1))"
   ],
   "id": "9efe6cbd21595500",
   "outputs": [
    {
     "name": "stdout",
     "output_type": "stream",
     "text": [
      "Addition =  12\n"
     ]
    }
   ],
   "execution_count": 5
  },
  {
   "metadata": {
    "ExecuteTime": {
     "end_time": "2025-06-17T17:32:21.631569Z",
     "start_time": "2025-06-17T17:32:20.120821Z"
    }
   },
   "cell_type": "code",
   "source": [
    "#3\n",
    "num = int(input(\"What is your number? \"))\n",
    "\n",
    "def even_odd(num):\n",
    "    if num % 2 == 0:\n",
    "        return \"Even\"\n",
    "    else:\n",
    "        return \"Odd\"\n",
    "print(f\"Number {num} =\", even_odd(num))"
   ],
   "id": "7db9fd8cb1cd9633",
   "outputs": [
    {
     "name": "stdout",
     "output_type": "stream",
     "text": [
      "Number 4 = Even\n"
     ]
    }
   ],
   "execution_count": 7
  },
  {
   "metadata": {
    "ExecuteTime": {
     "end_time": "2025-06-17T17:37:01.795283Z",
     "start_time": "2025-06-17T17:37:01.792356Z"
    }
   },
   "cell_type": "code",
   "source": [
    "#4\n",
    "def max_num(int_list):\n",
    "    max_num = 0\n",
    "    for num in int_list:\n",
    "        if num > max_num:\n",
    "            max_num = num\n",
    "    return max_num\n",
    "\n",
    "print(f\"Max number from {INT_LIST} = \", max_num(INT_LIST))"
   ],
   "id": "620c447d4542082d",
   "outputs": [
    {
     "name": "stdout",
     "output_type": "stream",
     "text": [
      "Max number from [3, 56, 67, 4] =  67\n"
     ]
    }
   ],
   "execution_count": 10
  },
  {
   "metadata": {
    "ExecuteTime": {
     "end_time": "2025-06-17T17:38:42.886615Z",
     "start_time": "2025-06-17T17:38:40.522701Z"
    }
   },
   "cell_type": "code",
   "source": [
    "#5\n",
    "input_radius = int(input(\"What is your radius? \"))\n",
    "def area_of_circle(radius):\n",
    "    area = PI * radius ** 2\n",
    "    return area\n",
    "print(f\"Area of circle =\", area_of_circle(input_radius))"
   ],
   "id": "e8a35ec9c6037191",
   "outputs": [
    {
     "name": "stdout",
     "output_type": "stream",
     "text": [
      "Area of circle = 78.5\n"
     ]
    }
   ],
   "execution_count": 12
  },
  {
   "metadata": {
    "ExecuteTime": {
     "end_time": "2025-06-17T17:41:13.418735Z",
     "start_time": "2025-06-17T17:41:13.415525Z"
    }
   },
   "cell_type": "code",
   "source": [
    "#6\n",
    "def even_numbers(int_list):\n",
    "    count = 0\n",
    "    for num in int_list:\n",
    "        if num % 2 == 0:\n",
    "            count += 1\n",
    "    return count\n",
    "print(f\"Number of even numbers in {INT_LIST} =\",\n",
    "      even_numbers(INT_LIST))"
   ],
   "id": "fddd23769424ced2",
   "outputs": [
    {
     "name": "stdout",
     "output_type": "stream",
     "text": [
      "Number of even numbers in [3, 56, 67, 4] = 2\n"
     ]
    }
   ],
   "execution_count": 13
  },
  {
   "metadata": {
    "ExecuteTime": {
     "end_time": "2025-06-17T17:42:09.236693Z",
     "start_time": "2025-06-17T17:42:05.805771Z"
    }
   },
   "cell_type": "code",
   "source": [
    "#7\n",
    "random_string = input(\"What is your random string? \")\n",
    "def reverse_string(string):\n",
    "    return string[::-1]\n",
    "print(f\"Reverse {random_string} =\", reverse_string(random_string))"
   ],
   "id": "5a1e65f1875fc129",
   "outputs": [
    {
     "name": "stdout",
     "output_type": "stream",
     "text": [
      "Reverse shadow = wodahs\n"
     ]
    }
   ],
   "execution_count": 14
  },
  {
   "metadata": {
    "ExecuteTime": {
     "end_time": "2025-06-17T17:46:58.072706Z",
     "start_time": "2025-06-17T17:46:56.389365Z"
    }
   },
   "cell_type": "code",
   "source": [
    "#8\n",
    "num = int(input(\"Enter a number: \"))\n",
    "factor = num\n",
    "\n",
    "def fact_num(num):\n",
    "    for num1 in range(num, 0, -1):\n",
    "        if num1 - 1 > 0:\n",
    "            num *= (num1 - 1)\n",
    "    return num\n",
    "\n",
    "print(f\"Factorial of {factor} = \", fact_num(num))"
   ],
   "id": "b112f2299aae20c5",
   "outputs": [
    {
     "name": "stdout",
     "output_type": "stream",
     "text": [
      "Factorial of 5 =  120\n"
     ]
    }
   ],
   "execution_count": 16
  },
  {
   "metadata": {
    "ExecuteTime": {
     "end_time": "2025-06-17T17:52:12.133851Z",
     "start_time": "2025-06-17T17:52:09.224095Z"
    }
   },
   "cell_type": "code",
   "source": [
    "#9\n",
    "num = int(input(\"Enter a number: \"))\n",
    "\n",
    "def square_cube(int_num):\n",
    "    return int_num ** 3, int_num ** 2\n",
    "\n",
    "print(square_cube(num))"
   ],
   "id": "6d88c4e02636c6b4",
   "outputs": [
    {
     "name": "stdout",
     "output_type": "stream",
     "text": [
      "(125, 25)\n"
     ]
    }
   ],
   "execution_count": 17
  },
  {
   "metadata": {
    "ExecuteTime": {
     "end_time": "2025-06-17T17:56:15.583289Z",
     "start_time": "2025-06-17T17:56:13.706844Z"
    }
   },
   "cell_type": "code",
   "source": [
    "#10\n",
    "name = input(\"What is your name? \")\n",
    "def greet(your_name:str, msg=\"Good morning!\"):\n",
    "    print(f\"Hello, {your_name}!, {msg}\")\n",
    "greet(name)"
   ],
   "id": "1a310b841dd64e25",
   "outputs": [
    {
     "name": "stdout",
     "output_type": "stream",
     "text": [
      "Hello, 4!, Good morning!\n"
     ]
    }
   ],
   "execution_count": 20
  },
  {
   "metadata": {
    "ExecuteTime": {
     "end_time": "2025-06-18T17:23:14.022059Z",
     "start_time": "2025-06-18T17:23:14.016675Z"
    }
   },
   "cell_type": "code",
   "source": [
    "#Intermediate Level (Arguments, Scope, Lambda):\n",
    "from functools import reduce"
   ],
   "id": "3a28d5a5566bf6d2",
   "outputs": [],
   "execution_count": 43
  },
  {
   "metadata": {
    "ExecuteTime": {
     "end_time": "2025-06-18T13:54:52.836715Z",
     "start_time": "2025-06-18T13:54:52.833547Z"
    }
   },
   "cell_type": "code",
   "source": [
    "#11\n",
    "avg = lambda lst: sum(lst) / len(lst)\n",
    "print(\"Average = \", avg(INT_LIST))"
   ],
   "id": "ed205511c39e95a",
   "outputs": [
    {
     "name": "stdout",
     "output_type": "stream",
     "text": [
      "Average =  32.5\n"
     ]
    }
   ],
   "execution_count": 28
  },
  {
   "metadata": {
    "ExecuteTime": {
     "end_time": "2025-06-18T13:56:40.560486Z",
     "start_time": "2025-06-18T13:56:38.356491Z"
    }
   },
   "cell_type": "code",
   "source": [
    "#12\n",
    "random_string = input(\"What is your random string? \")\n",
    "is_palindrome = lambda random_string: random_string == random_string[::-1]\n",
    "print(f\"'{random_string}' is palindrome: \", is_palindrome(random_string))"
   ],
   "id": "fd4531998d6df0e0",
   "outputs": [
    {
     "name": "stdout",
     "output_type": "stream",
     "text": [
      "'madam' is palindrome:  True\n"
     ]
    }
   ],
   "execution_count": 30
  },
  {
   "metadata": {
    "ExecuteTime": {
     "end_time": "2025-06-18T14:02:14.174177Z",
     "start_time": "2025-06-18T14:02:14.170846Z"
    }
   },
   "cell_type": "code",
   "source": [
    "#13\n",
    "dict_func = lambda new_dict: print(new_dict.keys(), new_dict.values())\n",
    "print(dict_func({\"a\": 1, \"b\": 2, \"c\": 3}))"
   ],
   "id": "c9601069d465e53a",
   "outputs": [
    {
     "name": "stdout",
     "output_type": "stream",
     "text": [
      "dict_keys(['a', 'b', 'c']) dict_values([1, 2, 3])\n",
      "None\n"
     ]
    }
   ],
   "execution_count": 32
  },
  {
   "metadata": {
    "ExecuteTime": {
     "end_time": "2025-06-18T14:04:58.665352Z",
     "start_time": "2025-06-18T14:04:58.662027Z"
    }
   },
   "cell_type": "code",
   "source": [
    "#14\n",
    "small_large = lambda lst: print(max(lst), min(lst))\n",
    "print(small_large(INT_LIST))"
   ],
   "id": "3b8f9d9dd3bfd0ac",
   "outputs": [
    {
     "name": "stdout",
     "output_type": "stream",
     "text": [
      "67 3\n",
      "None\n"
     ]
    }
   ],
   "execution_count": 35
  },
  {
   "metadata": {
    "ExecuteTime": {
     "end_time": "2025-06-19T03:22:18.054325Z",
     "start_time": "2025-06-19T03:22:18.050417Z"
    }
   },
   "cell_type": "code",
   "source": [
    "#15\n",
    "ctr = 5\n",
    "def modify():\n",
    "    global ctr\n",
    "    ctr += 1\n",
    "    print(ctr)\n",
    "modify()\n"
   ],
   "id": "e3235b73504ec3ad",
   "outputs": [
    {
     "name": "stdout",
     "output_type": "stream",
     "text": [
      "6\n"
     ]
    }
   ],
   "execution_count": 47
  },
  {
   "metadata": {
    "ExecuteTime": {
     "end_time": "2025-06-18T14:10:23.016175Z",
     "start_time": "2025-06-18T14:10:21.983196Z"
    }
   },
   "cell_type": "code",
   "source": [
    "#16\n",
    "num = int(input(\"Enter a number: \"))\n",
    "square_num = lambda num : num ** 2\n",
    "print(square_num(num))"
   ],
   "id": "613b76bf4391bf04",
   "outputs": [
    {
     "name": "stdout",
     "output_type": "stream",
     "text": [
      "25\n"
     ]
    }
   ],
   "execution_count": 37
  },
  {
   "metadata": {
    "ExecuteTime": {
     "end_time": "2025-06-18T14:13:36.563417Z",
     "start_time": "2025-06-18T14:13:36.560360Z"
    }
   },
   "cell_type": "code",
   "source": [
    "#17\n",
    "temp_list = [1, 2, 3, 4]\n",
    "print(list(map(lambda x: x * 2, temp_list)))"
   ],
   "id": "424a15f08e924702",
   "outputs": [
    {
     "name": "stdout",
     "output_type": "stream",
     "text": [
      "[2, 4, 6, 8]\n"
     ]
    }
   ],
   "execution_count": 41
  },
  {
   "metadata": {
    "ExecuteTime": {
     "end_time": "2025-06-18T14:18:06.516533Z",
     "start_time": "2025-06-18T14:18:06.513262Z"
    }
   },
   "cell_type": "code",
   "source": [
    "#18\n",
    "even_numbers = list(filter(lambda x: x % 2 == 0, temp_list))\n",
    "print(even_numbers)"
   ],
   "id": "a5c0fd9534cd03f",
   "outputs": [
    {
     "name": "stdout",
     "output_type": "stream",
     "text": [
      "[2, 4]\n"
     ]
    }
   ],
   "execution_count": 42
  },
  {
   "metadata": {
    "ExecuteTime": {
     "end_time": "2025-06-19T03:34:35.087538Z",
     "start_time": "2025-06-19T03:34:35.081989Z"
    }
   },
   "cell_type": "code",
   "source": [
    "#19\n",
    "list_tuple = [(1, 3), (2, 2), (3, 1)]\n",
    "sorted(list_tuple, key=lambda x: x[1])"
   ],
   "id": "43c12e8ec8c5e5eb",
   "outputs": [
    {
     "data": {
      "text/plain": [
       "[(3, 1), (2, 2), (1, 3)]"
      ]
     },
     "execution_count": 48,
     "metadata": {},
     "output_type": "execute_result"
    }
   ],
   "execution_count": 48
  },
  {
   "metadata": {
    "ExecuteTime": {
     "end_time": "2025-06-18T17:24:21.983597Z",
     "start_time": "2025-06-18T17:24:21.978860Z"
    }
   },
   "cell_type": "code",
   "source": [
    "#20\n",
    "product = reduce(lambda x, y: x * y, INT_LIST)\n",
    "print(f\"Product of {INT_LIST} = \", product)"
   ],
   "id": "d8aa3ac653bdf16d",
   "outputs": [
    {
     "name": "stdout",
     "output_type": "stream",
     "text": [
      "Product of [3, 56, 67, 4] =  45024\n"
     ]
    }
   ],
   "execution_count": 45
  },
  {
   "metadata": {},
   "cell_type": "code",
   "outputs": [],
   "execution_count": null,
   "source": "",
   "id": "13740396643fe487"
  }
 ],
 "metadata": {
  "kernelspec": {
   "display_name": "Python 3",
   "language": "python",
   "name": "python3"
  },
  "language_info": {
   "codemirror_mode": {
    "name": "ipython",
    "version": 2
   },
   "file_extension": ".py",
   "mimetype": "text/x-python",
   "name": "python",
   "nbconvert_exporter": "python",
   "pygments_lexer": "ipython2",
   "version": "2.7.6"
  }
 },
 "nbformat": 4,
 "nbformat_minor": 5
}
