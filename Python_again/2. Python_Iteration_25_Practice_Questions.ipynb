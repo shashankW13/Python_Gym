{
 "cells": [
  {
   "cell_type": "code",
   "execution_count": null,
   "id": "initial_id",
   "metadata": {
    "collapsed": true
   },
   "outputs": [],
   "source": "#BASIC ITERATION"
  },
  {
   "metadata": {
    "ExecuteTime": {
     "end_time": "2025-06-15T09:47:20.908303Z",
     "start_time": "2025-06-15T09:47:20.904098Z"
    }
   },
   "cell_type": "code",
   "source": [
    "import math\n",
    "from math import factorial\n",
    "\n",
    "#1\n",
    "print([num for num in range(1,11)])"
   ],
   "id": "1ea5fe009c9b11b0",
   "outputs": [
    {
     "name": "stdout",
     "output_type": "stream",
     "text": [
      "[1, 2, 3, 4, 5, 6, 7, 8, 9, 10]\n"
     ]
    }
   ],
   "execution_count": 6
  },
  {
   "metadata": {
    "ExecuteTime": {
     "end_time": "2025-06-15T09:57:10.506764Z",
     "start_time": "2025-06-15T09:57:07.435970Z"
    }
   },
   "cell_type": "code",
   "source": [
    "#2\n",
    "count = int(input(\"Total numbers = \"))\n",
    "print(f\"Sum of first {count} natural numbers = \",\n",
    "      sum(num for num in range(0,count)))"
   ],
   "id": "54a97223eb61f688",
   "outputs": [
    {
     "name": "stdout",
     "output_type": "stream",
     "text": [
      "Sum of first 100 natural numbers =  4950\n"
     ]
    }
   ],
   "execution_count": 12
  },
  {
   "metadata": {
    "ExecuteTime": {
     "end_time": "2025-06-15T09:59:18.120512Z",
     "start_time": "2025-06-15T09:59:18.116203Z"
    }
   },
   "cell_type": "code",
   "source": [
    "#3\n",
    "print(\"Even numbers =\\n\",\n",
    "      [num for num in range(0, 100) if num % 2 == 0 ])"
   ],
   "id": "37605a14b389ac99",
   "outputs": [
    {
     "name": "stdout",
     "output_type": "stream",
     "text": [
      "Even numbers =\n",
      " [0, 2, 4, 6, 8, 10, 12, 14, 16, 18, 20, 22, 24, 26, 28, 30, 32, 34, 36, 38, 40, 42, 44, 46, 48, 50, 52, 54, 56, 58, 60, 62, 64, 66, 68, 70, 72, 74, 76, 78, 80, 82, 84, 86, 88, 90, 92, 94, 96, 98]\n"
     ]
    }
   ],
   "execution_count": 18
  },
  {
   "metadata": {
    "ExecuteTime": {
     "end_time": "2025-06-15T10:01:38.835959Z",
     "start_time": "2025-06-15T10:01:38.832178Z"
    }
   },
   "cell_type": "code",
   "source": [
    "#4\n",
    "count = 10\n",
    "while count > 0:\n",
    "    print(count)\n",
    "    count -= 1"
   ],
   "id": "c20f25decdd7fc95",
   "outputs": [
    {
     "name": "stdout",
     "output_type": "stream",
     "text": [
      "10\n",
      "9\n",
      "8\n",
      "7\n",
      "6\n",
      "5\n",
      "4\n",
      "3\n",
      "2\n",
      "1\n"
     ]
    }
   ],
   "execution_count": 21
  },
  {
   "metadata": {
    "ExecuteTime": {
     "end_time": "2025-06-15T10:06:31.088703Z",
     "start_time": "2025-06-15T10:06:28.801279Z"
    }
   },
   "cell_type": "code",
   "source": [
    "#5\n",
    "num = int(input(\"Enter a number: \"))\n",
    "print(f\"Table of {num} = \", [num * multiply for multiply in range(1, 10)])"
   ],
   "id": "7bb64fde1fe350ce",
   "outputs": [
    {
     "name": "stdout",
     "output_type": "stream",
     "text": [
      "Table of 7 =  [7, 14, 21, 28, 35, 42, 49, 56, 63]\n"
     ]
    }
   ],
   "execution_count": 26
  },
  {
   "metadata": {
    "ExecuteTime": {
     "end_time": "2025-06-18T17:25:56.186517Z",
     "start_time": "2025-06-18T17:25:56.180422Z"
    }
   },
   "cell_type": "code",
   "source": [
    "#WORKING WITH COLLECTIONS\n",
    "TEMP_LIST = [2, 5, 8, 3, 10]\n",
    "TEMP_STRING = \"Encyclopedia\"\n",
    "TEMP_SENTENCE = \"The quick brown fox jumps over the lazy dog.\""
   ],
   "id": "7fb11839464c05",
   "outputs": [],
   "execution_count": 18
  },
  {
   "metadata": {
    "ExecuteTime": {
     "end_time": "2025-06-15T10:10:14.305529Z",
     "start_time": "2025-06-15T10:10:14.301842Z"
    }
   },
   "cell_type": "code",
   "source": [
    "#6\n",
    "print(f\"Sum of list {TEMP_LIST} = \", sum(TEMP_LIST))"
   ],
   "id": "e46204248bd9acf8",
   "outputs": [
    {
     "name": "stdout",
     "output_type": "stream",
     "text": [
      "Sum of list [2, 5, 8, 3, 10] =  28\n"
     ]
    }
   ],
   "execution_count": 28
  },
  {
   "metadata": {
    "ExecuteTime": {
     "end_time": "2025-07-11T13:11:44.187700Z",
     "start_time": "2025-07-11T13:11:38.987677Z"
    }
   },
   "cell_type": "code",
   "source": [
    "#7\n",
    "VOWELS = ['a', 'e', 'i', 'o', 'u']\n",
    "input_string = input(\"Enter a string: \").lower()\n",
    "count = 0\n",
    "for word in input_string:\n",
    "    if word in VOWELS:\n",
    "        count += 1\n",
    "print(\"Number of vowels =\", count)"
   ],
   "id": "e79d7c08b2f1c8bd",
   "outputs": [
    {
     "name": "stdout",
     "output_type": "stream",
     "text": [
      "Number of vowels = 6\n"
     ]
    }
   ],
   "execution_count": 1
  },
  {
   "metadata": {
    "ExecuteTime": {
     "end_time": "2025-06-16T13:34:22.235799Z",
     "start_time": "2025-06-16T13:34:22.231164Z"
    }
   },
   "cell_type": "code",
   "source": [
    "#8\n",
    "max_element = 0\n",
    "for element in TEMP_LIST:\n",
    "    if element >= max_element:\n",
    "        max_element = element\n",
    "print(f\"Max element from {TEMP_LIST} = \", {max_element})"
   ],
   "id": "eb83a04ef92bf3c0",
   "outputs": [
    {
     "name": "stdout",
     "output_type": "stream",
     "text": [
      "Max element from [2, 5, 8, 3, 10] =  {10}\n"
     ]
    }
   ],
   "execution_count": 48
  },
  {
   "metadata": {
    "ExecuteTime": {
     "end_time": "2025-06-16T13:51:14.566840Z",
     "start_time": "2025-06-16T13:51:14.563052Z"
    }
   },
   "cell_type": "code",
   "source": [
    "#9\n",
    "print(\"Reverse string = \", ''.join\n",
    "                            ([str(word) for word in TEMP_STRING][::-1]))"
   ],
   "id": "480e32b1f23b6119",
   "outputs": [
    {
     "name": "stdout",
     "output_type": "stream",
     "text": [
      "Reverse order =  aidepolcycnE\n"
     ]
    }
   ],
   "execution_count": 60
  },
  {
   "metadata": {
    "ExecuteTime": {
     "end_time": "2025-06-16T14:00:53.343386Z",
     "start_time": "2025-06-16T14:00:53.340496Z"
    }
   },
   "cell_type": "code",
   "source": [
    "#10\n",
    "print(\"Even numbers count = \",\n",
    "      sum([True for count in TEMP_LIST if count % 2 == 0]))"
   ],
   "id": "508b36a7275bf9db",
   "outputs": [
    {
     "name": "stdout",
     "output_type": "stream",
     "text": [
      "Even numbers count =  3\n"
     ]
    }
   ],
   "execution_count": 64
  },
  {
   "metadata": {},
   "cell_type": "code",
   "outputs": [],
   "execution_count": null,
   "source": "#PATTERNS AND NESTED LOOPS",
   "id": "51dd04be7ded6ada"
  },
  {
   "metadata": {
    "ExecuteTime": {
     "end_time": "2025-06-16T14:06:21.806233Z",
     "start_time": "2025-06-16T14:06:21.803061Z"
    }
   },
   "cell_type": "code",
   "source": [
    "#11\n",
    "for i in range(2):\n",
    "    for j in range(2):\n",
    "        print('****')"
   ],
   "id": "9e7589c60941d4e3",
   "outputs": [
    {
     "name": "stdout",
     "output_type": "stream",
     "text": [
      "****\n",
      "****\n",
      "****\n",
      "****\n"
     ]
    }
   ],
   "execution_count": 66
  },
  {
   "metadata": {
    "ExecuteTime": {
     "end_time": "2025-06-16T14:11:18.459828Z",
     "start_time": "2025-06-16T14:11:18.456676Z"
    }
   },
   "cell_type": "code",
   "source": [
    "#12\n",
    "for i in range(5):\n",
    "    print('*' * (i + 1))"
   ],
   "id": "bdd976c4c21180d1",
   "outputs": [
    {
     "name": "stdout",
     "output_type": "stream",
     "text": [
      "*\n",
      "**\n",
      "***\n",
      "****\n",
      "*****\n"
     ]
    }
   ],
   "execution_count": 70
  },
  {
   "metadata": {
    "ExecuteTime": {
     "end_time": "2025-06-16T14:15:35.511817Z",
     "start_time": "2025-06-16T14:15:35.507637Z"
    }
   },
   "cell_type": "code",
   "source": [
    "#13\n",
    "for i in range(1, 6):\n",
    "    for j in range(1, 11):\n",
    "        print(f'{i} x {j} = {j * i}')\n",
    "    print('\\n')\n"
   ],
   "id": "b5a944ed2d392489",
   "outputs": [
    {
     "name": "stdout",
     "output_type": "stream",
     "text": [
      "1 x 1 = 1\n",
      "1 x 2 = 2\n",
      "1 x 3 = 3\n",
      "1 x 4 = 4\n",
      "1 x 5 = 5\n",
      "1 x 6 = 6\n",
      "1 x 7 = 7\n",
      "1 x 8 = 8\n",
      "1 x 9 = 9\n",
      "1 x 10 = 10\n",
      "\n",
      "\n",
      "2 x 1 = 2\n",
      "2 x 2 = 4\n",
      "2 x 3 = 6\n",
      "2 x 4 = 8\n",
      "2 x 5 = 10\n",
      "2 x 6 = 12\n",
      "2 x 7 = 14\n",
      "2 x 8 = 16\n",
      "2 x 9 = 18\n",
      "2 x 10 = 20\n",
      "\n",
      "\n",
      "3 x 1 = 3\n",
      "3 x 2 = 6\n",
      "3 x 3 = 9\n",
      "3 x 4 = 12\n",
      "3 x 5 = 15\n",
      "3 x 6 = 18\n",
      "3 x 7 = 21\n",
      "3 x 8 = 24\n",
      "3 x 9 = 27\n",
      "3 x 10 = 30\n",
      "\n",
      "\n",
      "4 x 1 = 4\n",
      "4 x 2 = 8\n",
      "4 x 3 = 12\n",
      "4 x 4 = 16\n",
      "4 x 5 = 20\n",
      "4 x 6 = 24\n",
      "4 x 7 = 28\n",
      "4 x 8 = 32\n",
      "4 x 9 = 36\n",
      "4 x 10 = 40\n",
      "\n",
      "\n",
      "5 x 1 = 5\n",
      "5 x 2 = 10\n",
      "5 x 3 = 15\n",
      "5 x 4 = 20\n",
      "5 x 5 = 25\n",
      "5 x 6 = 30\n",
      "5 x 7 = 35\n",
      "5 x 8 = 40\n",
      "5 x 9 = 45\n",
      "5 x 10 = 50\n",
      "\n",
      "\n"
     ]
    }
   ],
   "execution_count": 74
  },
  {
   "metadata": {
    "ExecuteTime": {
     "end_time": "2025-06-16T14:56:53.067865Z",
     "start_time": "2025-06-16T14:56:53.064210Z"
    }
   },
   "cell_type": "code",
   "source": [
    "#14\n",
    "prime_list = []\n",
    "for num in range(2, 51):\n",
    "    divisible_count = 0\n",
    "    for num2 in range(1, num + 1):\n",
    "        if num % num2 == 0:\n",
    "            divisible_count += 1\n",
    "    prime_list.append(num if divisible_count <= 2 else 0)\n",
    "\n",
    "prime_list = list(set(prime_list))\n",
    "prime_list.remove(0)\n",
    "print(\"Prime numbers from 2 to 51 = \", prime_list)\n"
   ],
   "id": "5135071af6e4139c",
   "outputs": [
    {
     "name": "stdout",
     "output_type": "stream",
     "text": [
      "Prime numbers from 2 to 51 =  [2, 3, 5, 37, 7, 41, 11, 43, 13, 47, 17, 19, 23, 29, 31]\n"
     ]
    }
   ],
   "execution_count": 105
  },
  {
   "metadata": {
    "ExecuteTime": {
     "end_time": "2025-06-16T15:05:34.453621Z",
     "start_time": "2025-06-16T15:05:34.449920Z"
    }
   },
   "cell_type": "code",
   "source": [
    "#15\n",
    "for num in range(1, 51):\n",
    "    if num % 3 and num % 5 == 0:\n",
    "        print(f\"{num}: FizzBuzz\")\n",
    "    elif num % 3 == 0:\n",
    "        print(f\"{num}: Fizz\")\n",
    "    elif num % 5 == 0:\n",
    "        print(f\"{num}: Buzz\")"
   ],
   "id": "e46b730c9a6bf060",
   "outputs": [
    {
     "name": "stdout",
     "output_type": "stream",
     "text": [
      "3: Fizz\n",
      "5: FizzBuzz\n",
      "6: Fizz\n",
      "9: Fizz\n",
      "10: FizzBuzz\n",
      "12: Fizz\n",
      "15: Fizz\n",
      "18: Fizz\n",
      "20: FizzBuzz\n",
      "21: Fizz\n",
      "24: Fizz\n",
      "25: FizzBuzz\n",
      "27: Fizz\n",
      "30: Fizz\n",
      "33: Fizz\n",
      "35: FizzBuzz\n",
      "36: Fizz\n",
      "39: Fizz\n",
      "40: FizzBuzz\n",
      "42: Fizz\n",
      "45: Fizz\n",
      "48: Fizz\n",
      "50: FizzBuzz\n"
     ]
    }
   ],
   "execution_count": 107
  },
  {
   "metadata": {},
   "cell_type": "code",
   "outputs": [],
   "execution_count": null,
   "source": "#Intermediate/Complex Iteration Challenges",
   "id": "d3d18979a0d5be65"
  },
  {
   "metadata": {
    "ExecuteTime": {
     "end_time": "2025-06-17T03:10:37.938424Z",
     "start_time": "2025-06-17T03:10:37.933946Z"
    }
   },
   "cell_type": "code",
   "source": [
    "#16\n",
    "print(f\"{TEMP_STRING} is Palindrome: \",\n",
    "      True if TEMP_STRING[::-1] == TEMP_STRING else False)"
   ],
   "id": "9be03f55f30efb9a",
   "outputs": [
    {
     "name": "stdout",
     "output_type": "stream",
     "text": [
      "madam is Palindrome:  True\n"
     ]
    }
   ],
   "execution_count": 113
  },
  {
   "metadata": {
    "ExecuteTime": {
     "end_time": "2025-06-19T13:52:45.587707Z",
     "start_time": "2025-06-19T13:52:43.335351Z"
    }
   },
   "cell_type": "code",
   "source": [
    "#17\n",
    "def print_pyramid(n):\n",
    "    for i in range(1, n + 1):\n",
    "        spaces = \" \" * (n - i)\n",
    "        stars = \"*\" * (2 * i - 1)\n",
    "        print(spaces + stars)\n",
    "\n",
    "# Input from the user\n",
    "n = int(input(\"Enter the number of levels for the pyramid: \"))\n",
    "print_pyramid(n)\n"
   ],
   "id": "62ef386a450611c",
   "outputs": [
    {
     "name": "stdout",
     "output_type": "stream",
     "text": [
      "                   *\n",
      "                  ***\n",
      "                 *****\n",
      "                *******\n",
      "               *********\n",
      "              ***********\n",
      "             *************\n",
      "            ***************\n",
      "           *****************\n",
      "          *******************\n",
      "         *********************\n",
      "        ***********************\n",
      "       *************************\n",
      "      ***************************\n",
      "     *****************************\n",
      "    *******************************\n",
      "   *********************************\n",
      "  ***********************************\n",
      " *************************************\n",
      "***************************************\n"
     ]
    }
   ],
   "execution_count": 24
  },
  {
   "metadata": {
    "ExecuteTime": {
     "end_time": "2025-06-19T13:52:38.903075Z",
     "start_time": "2025-06-19T13:52:35.403920Z"
    }
   },
   "cell_type": "code",
   "source": [
    "#18\n",
    "def decimal_to_binary(n):\n",
    "    if n == 0:\n",
    "        return \"0\"\n",
    "    binary = \"\"\n",
    "    while n > 0:\n",
    "        binary = str(n % 2) + binary\n",
    "        n //= 2\n",
    "    return binary\n",
    "\n",
    "number = int(input(\"Enter a number: \"))\n",
    "print(f\"Binary representation of {number} is: {decimal_to_binary(number)}\")"
   ],
   "id": "30bd540cd749f2ec",
   "outputs": [
    {
     "name": "stdout",
     "output_type": "stream",
     "text": [
      "Binary representation of 20 is: 10100\n"
     ]
    }
   ],
   "execution_count": 23
  },
  {
   "metadata": {
    "ExecuteTime": {
     "end_time": "2025-06-18T17:27:52.430302Z",
     "start_time": "2025-06-18T17:27:49.814368Z"
    }
   },
   "cell_type": "code",
   "source": [
    "#19\n",
    "num = int(input(\"Enter a number: \"))\n",
    "factor = num\n",
    "for num1 in range(num, 0, -1):\n",
    "    if num1 - 1 > 0:\n",
    "        num *= (num1 - 1)\n",
    "print(f\"Factorial of {factor} = {num}\")"
   ],
   "id": "2476932ecdf05ef2",
   "outputs": [
    {
     "name": "stdout",
     "output_type": "stream",
     "text": [
      "Factorial of 6 = 720\n"
     ]
    }
   ],
   "execution_count": 21
  },
  {
   "metadata": {
    "ExecuteTime": {
     "end_time": "2025-06-18T17:26:08.272056Z",
     "start_time": "2025-06-18T17:26:05.250249Z"
    }
   },
   "cell_type": "code",
   "source": [
    "#20\n",
    "value = int(input(\"Enter a number: \"))\n",
    "unique_pairs = set()\n",
    "\n",
    "TEMP_LIST.sort()\n",
    "\n",
    "for i in range(len(TEMP_LIST)):\n",
    "    for j in range(i + 1, len(TEMP_LIST)):\n",
    "        if TEMP_LIST[i] + TEMP_LIST[j] == value:\n",
    "            unique_pairs.add((TEMP_LIST[i], TEMP_LIST[j]))\n",
    "\n",
    "print(\"Unique pairs:\", list(unique_pairs))\n"
   ],
   "id": "a4c830566d56de0d",
   "outputs": [
    {
     "name": "stdout",
     "output_type": "stream",
     "text": [
      "Unique pairs: [(2, 8)]\n"
     ]
    }
   ],
   "execution_count": 19
  },
  {
   "metadata": {
    "ExecuteTime": {
     "end_time": "2025-06-17T04:50:47.399684Z",
     "start_time": "2025-06-17T04:50:47.395962Z"
    }
   },
   "cell_type": "code",
   "source": [
    "#21\n",
    "fib = [0, 1]\n",
    "[fib.append(fib[i] + fib[i + 1]) for i in range(10)]\n",
    "print(\"Fibonacci sequence = \", fib)"
   ],
   "id": "6277dd67696d3139",
   "outputs": [
    {
     "name": "stdout",
     "output_type": "stream",
     "text": [
      "Fibonacci sequence =  [0, 1, 1, 2, 3, 5, 8, 13, 21, 34, 55, 89]\n"
     ]
    }
   ],
   "execution_count": 132
  },
  {
   "metadata": {},
   "cell_type": "code",
   "outputs": [
    {
     "name": "stdout",
     "output_type": "stream",
     "text": [
      "Reversed list [2, 3, 5, 8, 10] = [10, 8, 5, 3, 2]\n"
     ]
    }
   ],
   "execution_count": 169,
   "source": [
    "#22\n",
    "reversed_list = []\n",
    "for element in range(len(TEMP_LIST) - 1, -1, -1):\n",
    "    reversed_list.append(TEMP_LIST[element])\n",
    "print(f\"Reversed list {TEMP_LIST} = {reversed_list}\")\n"
   ],
   "id": "fa4f8e3fea43a391"
  },
  {
   "metadata": {},
   "cell_type": "code",
   "outputs": [
    {
     "name": "stdout",
     "output_type": "stream",
     "text": [
      "Count of words in \"Hello world, hi there!\" =  4\n"
     ]
    }
   ],
   "execution_count": 186,
   "source": [
    "#23\n",
    "print(f'Count of words in \"{TEMP_SENTENCE}\" = ',\n",
    "      len(TEMP_SENTENCE.split()))"
   ],
   "id": "8ac3a38cf7cb9405"
  },
  {
   "metadata": {
    "ExecuteTime": {
     "end_time": "2025-06-17T07:26:12.420813Z",
     "start_time": "2025-06-17T07:26:12.414983Z"
    }
   },
   "cell_type": "code",
   "source": [
    "#24\n",
    "char_histogram = {}\n",
    "word_list = TEMP_SENTENCE.lower().split()\n",
    "char_list = []\n",
    "for word in word_list:\n",
    "    for char in word:\n",
    "        char_list.append(char)\n",
    "        if char not in char_histogram.keys():\n",
    "            char_histogram[char] = char_list.count(char)\n",
    "        else:\n",
    "            char_histogram.update({char: char_list.count(char)})\n",
    "\n",
    "print(f\"Histogram of '{TEMP_SENTENCE}': \\n\", char_histogram)\n",
    "print(word_list)"
   ],
   "id": "6cb32bbb7103bd1e",
   "outputs": [
    {
     "name": "stdout",
     "output_type": "stream",
     "text": [
      "Histogram of 'The quick brown fox jumps over the lazy dog.': \n",
      " {'t': 2, 'h': 2, 'e': 3, 'q': 1, 'u': 2, 'i': 1, 'c': 1, 'k': 1, 'b': 1, 'r': 2, 'o': 4, 'w': 1, 'n': 1, 'f': 1, 'x': 1, 'j': 1, 'm': 1, 'p': 1, 's': 1, 'v': 1, 'l': 1, 'a': 1, 'z': 1, 'y': 1, 'd': 1, 'g': 1, '.': 1}\n",
      "['the', 'quick', 'brown', 'fox', 'jumps', 'over', 'the', 'lazy', 'dog.']\n"
     ]
    }
   ],
   "execution_count": 236
  },
  {
   "metadata": {
    "ExecuteTime": {
     "end_time": "2025-06-17T07:26:44.126843Z",
     "start_time": "2025-06-17T07:26:44.121620Z"
    }
   },
   "cell_type": "code",
   "source": [
    "#25\n",
    "l1 = set()\n",
    "special_chars = list('[@_!#$%^&*()<>?/|}{~:] ,')\n",
    "for word in range(len(TEMP_SENTENCE)):\n",
    "    if TEMP_SENTENCE[word] not in special_chars:\n",
    "        l1.add(TEMP_SENTENCE[word])\n",
    "print(f\"'{TEMP_SENTENCE}' is panagram: \", len(l1) > 26)"
   ],
   "id": "a1e9df409e2a6f08",
   "outputs": [
    {
     "name": "stdout",
     "output_type": "stream",
     "text": [
      "'The quick brown fox jumps over the lazy dog.' is panagram:  True\n"
     ]
    }
   ],
   "execution_count": 238
  },
  {
   "metadata": {},
   "cell_type": "code",
   "outputs": [],
   "execution_count": null,
   "source": "",
   "id": "4c751dec735cdbff"
  }
 ],
 "metadata": {
  "kernelspec": {
   "display_name": "Python 3",
   "language": "python",
   "name": "python3"
  },
  "language_info": {
   "codemirror_mode": {
    "name": "ipython",
    "version": 2
   },
   "file_extension": ".py",
   "mimetype": "text/x-python",
   "name": "python",
   "nbconvert_exporter": "python",
   "pygments_lexer": "ipython2",
   "version": "2.7.6"
  }
 },
 "nbformat": 4,
 "nbformat_minor": 5
}
