{
 "cells": [
  {
   "metadata": {
    "ExecuteTime": {
     "end_time": "2025-06-26T03:14:06.585310Z",
     "start_time": "2025-06-26T03:14:06.578932Z"
    }
   },
   "cell_type": "code",
   "source": "#CLOSURES",
   "id": "529e0a6bf201a57f",
   "outputs": [],
   "execution_count": 3
  },
  {
   "metadata": {
    "ExecuteTime": {
     "end_time": "2025-06-27T11:20:07.595622Z",
     "start_time": "2025-06-27T11:20:07.591177Z"
    }
   },
   "cell_type": "code",
   "source": [
    "from pygments.util import guess_decode\n",
    "\n",
    "\n",
    "#1Create a closure that calculates the power of a number with a fixed base.\n",
    "def power_function(base):\n",
    "    def calculate_power(exponent):\n",
    "        return base ** exponent\n",
    "    return calculate_power\n",
    "\n",
    "# Test the closure\n",
    "square = power_function(2)  # Base is 2\n",
    "cube = power_function(3)    # Base is 3\n",
    "\n",
    "print(square(5))  # Expected Output: 32\n",
    "print(cube(4))    # Expected Output: 81"
   ],
   "id": "247427c6a4ec4ca5",
   "outputs": [
    {
     "name": "stdout",
     "output_type": "stream",
     "text": [
      "32\n",
      "81\n"
     ]
    }
   ],
   "execution_count": 8
  },
  {
   "metadata": {
    "ExecuteTime": {
     "end_time": "2025-06-27T11:27:14.421113Z",
     "start_time": "2025-06-27T11:27:14.414829Z"
    }
   },
   "cell_type": "code",
   "source": [
    "#2Create a closure that acts as a counter, incrementing the count each time it is called.\n",
    "\n",
    "def make_counter():\n",
    "    counter = 0\n",
    "    def increment():\n",
    "        nonlocal counter\n",
    "        counter += 1\n",
    "        return counter\n",
    "    return increment\n",
    "\n",
    "\n",
    "counter1 = make_counter()\n",
    "counter2 = make_counter()\n",
    "\n",
    "print(counter1())  # Expected Output: 1\n",
    "print(counter1())  # Expected Output: 2\n",
    "print(counter2())  # Expected Output: 1 (Separate counter)"
   ],
   "id": "64b84ee4d914c8d1",
   "outputs": [
    {
     "name": "stdout",
     "output_type": "stream",
     "text": [
      "1\n",
      "2\n",
      "1\n"
     ]
    }
   ],
   "execution_count": 10
  },
  {
   "metadata": {
    "ExecuteTime": {
     "end_time": "2025-06-27T11:32:05.524770Z",
     "start_time": "2025-06-27T11:32:05.520345Z"
    }
   },
   "cell_type": "code",
   "source": [
    "#3Write a closure that generates a greeting message with a fixed salutation.\n",
    "\n",
    "def greeter(salutation):\n",
    "    def greet(name):\n",
    "        return f'{salutation}, {name}!'\n",
    "    return greet\n",
    "\n",
    "hello_greeter = greeter(\"Hello\")\n",
    "hi_greeter = greeter(\"Hi\")\n",
    "\n",
    "print(hello_greeter(\"Alice\"))  # Expected Output: Hello, Alice!\n",
    "print(hi_greeter(\"Bob\"))       # Expected Output: Hi, Bob!"
   ],
   "id": "8b45e2e04821e15f",
   "outputs": [
    {
     "name": "stdout",
     "output_type": "stream",
     "text": [
      "Hello, Alice!\n",
      "Hi, Bob!\n"
     ]
    }
   ],
   "execution_count": 11
  },
  {
   "metadata": {
    "ExecuteTime": {
     "end_time": "2025-06-27T11:36:10.677268Z",
     "start_time": "2025-06-27T11:36:10.672316Z"
    }
   },
   "cell_type": "code",
   "source": [
    "#4Write a closure that limits the number of times a function can be called.\n",
    "\n",
    "def rate_limiter(max_calls):\n",
    "    call_count = 0\n",
    "    def function_limit():\n",
    "        nonlocal call_count\n",
    "        call_count += 1\n",
    "        while call_count <= max_calls:\n",
    "            return \"Allowed\"\n",
    "        else: return \"Rate limit exceeded!\"\n",
    "    return function_limit\n",
    "\n",
    "limited_function = rate_limiter(3)\n",
    "\n",
    "print(limited_function())  # Expected Output: Allowed\n",
    "print(limited_function())  # Expected Output: Allowed\n",
    "print(limited_function())  # Expected Output: Allowed\n",
    "print(limited_function())  # Expected Output: Rate limit exceeded!"
   ],
   "id": "b01093739c075aeb",
   "outputs": [
    {
     "name": "stdout",
     "output_type": "stream",
     "text": [
      "Allowed\n",
      "Allowed\n",
      "Allowed\n",
      "Rate limit exceeded!\n"
     ]
    }
   ],
   "execution_count": 16
  },
  {
   "metadata": {
    "ExecuteTime": {
     "end_time": "2025-06-27T12:02:32.533753Z",
     "start_time": "2025-06-27T12:02:32.528458Z"
    }
   },
   "cell_type": "code",
   "source": [
    "#5Create a closure that caches the results of expensive computations.\n",
    "\n",
    "def cached_function(func):\n",
    "    cache = {}\n",
    "    def compute(number):\n",
    "        nonlocal cache\n",
    "        if number in cache:\n",
    "            return cache[number], \"(from cache)\"\n",
    "        else:\n",
    "            cache[number] = func(number)\n",
    "            return cache[number]\n",
    "    return compute\n",
    "\n",
    "@cached_function\n",
    "def expensive_computation(x):\n",
    "    print(f\"Computing {x}...\")\n",
    "    return x * x\n",
    "\n",
    "print(expensive_computation(5))  # Expected Output: Computing 5... 25\n",
    "print(expensive_computation(5))  # Expected Output: 25 (from cache)\n",
    "print(expensive_computation(6))\n",
    "print(expensive_computation(6))\n",
    "print(expensive_computation(5))# Expected Output: Computing 6... 36"
   ],
   "id": "d48823f02457496",
   "outputs": [
    {
     "name": "stdout",
     "output_type": "stream",
     "text": [
      "Computing 5...\n",
      "25\n",
      "(25, '(from cache)')\n",
      "Computing 6...\n",
      "36\n",
      "(36, '(from cache)')\n",
      "(25, '(from cache)')\n"
     ]
    }
   ],
   "execution_count": 25
  },
  {
   "metadata": {},
   "cell_type": "code",
   "outputs": [],
   "execution_count": null,
   "source": "#DECORATORS",
   "id": "b9869dad0b57aee"
  },
  {
   "metadata": {
    "ExecuteTime": {
     "end_time": "2025-06-27T12:18:34.381452Z",
     "start_time": "2025-06-27T12:18:34.374956Z"
    }
   },
   "cell_type": "code",
   "source": [
    "#1Create a decorator that logs the function name and arguments whenever a function is called.\n",
    "import logging\n",
    "logging.basicConfig(\n",
    "    level=logging.DEBUG,\n",
    "    format=\"%(asctime)s - %(name)s - %(levelname)s - %(message)s\",\n",
    "    datefmt=\"%m/%d/%Y %I:%M:%S %p\",\n",
    "    filename=\"temp.log\",\n",
    ")\n",
    "\n",
    "def logger(func):\n",
    "    def wrapper(*args, **kwargs):\n",
    "        logging.info(f\"Calling {func.__name__}() with {args}, {kwargs}\")\n",
    "        return func(*args, **kwargs)\n",
    "    return wrapper\n",
    "\n",
    "@logger\n",
    "def add(a, b):\n",
    "    return a + b\n",
    "\n",
    "@logger\n",
    "def greet(name):\n",
    "    return f\"Hello, {name}!\"\n",
    "\n",
    "print(add(6, 5))  # Expected: Function 'add' called with (3, 5)\n",
    "print(greet(\"John\"))  # Expected: Function 'greet' called with ('Alice',)"
   ],
   "id": "88ec14e06eec11e0",
   "outputs": [
    {
     "name": "stdout",
     "output_type": "stream",
     "text": [
      "11\n",
      "Hello, John!\n"
     ]
    }
   ],
   "execution_count": 27
  },
  {
   "metadata": {
    "ExecuteTime": {
     "end_time": "2025-06-27T12:31:01.229964Z",
     "start_time": "2025-06-27T12:30:59.224328Z"
    }
   },
   "cell_type": "code",
   "source": [
    "#2Create a decorator that measures and prints the time taken by a function to execute.\n",
    "\n",
    "import time\n",
    "\n",
    "def timer(func):\n",
    "    def exec_time():\n",
    "        t1 = time.time()\n",
    "        func()\n",
    "        return \\\n",
    "            f\"Function {func.__name__} executed in {time.time() - t1} seconds.\"\n",
    "    return exec_time\n",
    "\n",
    "@timer\n",
    "def slow_function():\n",
    "    time.sleep(2)\n",
    "    print(\"Done!\")\n",
    "\n",
    "slow_function()\n",
    "# Expected Output:\n",
    "# Done!\n",
    "# Function 'slow_function' executed in 2.00 seconds."
   ],
   "id": "25eb3b2baebd1bd9",
   "outputs": [
    {
     "name": "stdout",
     "output_type": "stream",
     "text": [
      "Done!\n"
     ]
    },
    {
     "data": {
      "text/plain": [
       "'Function slow_function executed in 2.000349998474121 seconds.'"
      ]
     },
     "execution_count": 35,
     "metadata": {},
     "output_type": "execute_result"
    }
   ],
   "execution_count": 35
  },
  {
   "metadata": {
    "ExecuteTime": {
     "end_time": "2025-06-27T12:47:09.514648Z",
     "start_time": "2025-06-27T12:47:09.511262Z"
    }
   },
   "cell_type": "code",
   "source": [
    "#2Write a decorator that repeats the execution of a function n times.\n",
    "\n",
    "def repeat(n):\n",
    "    def run_function(func):\n",
    "        def wrapper():\n",
    "            for _ in range(n):\n",
    "                func()\n",
    "        return wrapper\n",
    "    return run_function\n",
    "\n",
    "@repeat(3)\n",
    "def say_hello():\n",
    "    print(\"Hello!\")\n",
    "\n",
    "say_hello()\n",
    "# Expected Output:\n",
    "# Hello!\n",
    "# Hello!\n",
    "# Hello!"
   ],
   "id": "7ae91795c02dc9ef",
   "outputs": [
    {
     "name": "stdout",
     "output_type": "stream",
     "text": [
      "Hello!\n",
      "Hello!\n",
      "Hello!\n"
     ]
    }
   ],
   "execution_count": 37
  },
  {
   "metadata": {
    "ExecuteTime": {
     "end_time": "2025-06-27T13:48:21.366244Z",
     "start_time": "2025-06-27T13:48:21.359507Z"
    }
   },
   "cell_type": "code",
   "source": [
    "#4Create a decorator that restricts access to a function based on a user's role.\n",
    "\n",
    "def restrict_access(role):\n",
    "    def decorator(user_func):\n",
    "        def wrapper(*args, **kwargs):\n",
    "            nonlocal role\n",
    "            print(f\"Role: {role}\")\n",
    "            if role == \"admin\":\n",
    "                user_func(*args, **kwargs)\n",
    "            else:\n",
    "                \"Access denied!\"\n",
    "\n",
    "        return wrapper\n",
    "    return decorator\n",
    "\n",
    "@restrict_access(\"guest\")\n",
    "def delete_user(user_id):\n",
    "    print(f\"User {user_id} deleted.\")\n",
    "\n",
    "@restrict_access(\"guest\")\n",
    "def view_dashboard():\n",
    "    print(\"Viewing dashboard.\")\n",
    "\n",
    "delete_user(101)  # Expected Output: Access Denied for non-admin\n",
    "view_dashboard()  # Expected Output: Viewing dashboard"
   ],
   "id": "4ad4d6f6a19afedb",
   "outputs": [
    {
     "name": "stdout",
     "output_type": "stream",
     "text": [
      "Role: guest\n",
      "Role: guest\n"
     ]
    }
   ],
   "execution_count": 52
  },
  {
   "metadata": {
    "ExecuteTime": {
     "end_time": "2025-06-27T16:18:19.913956Z",
     "start_time": "2025-06-27T16:18:19.906752Z"
    }
   },
   "cell_type": "code",
   "source": [
    "#5Combine multiple decorators to apply multiple functionalities to a single function.\n",
    "from functools import wraps\n",
    "\n",
    "def logger(func):\n",
    "    @wraps(func)\n",
    "    def wrapper(*args, **kwargs):\n",
    "        print(f\"Calling {func.__name__}() with {args}, {kwargs}\")\n",
    "        return func(*args, **kwargs)\n",
    "    return wrapper\n",
    "\n",
    "def timer(func):\n",
    "    @wraps(func)\n",
    "    def wrapper(*args, **kwargs):\n",
    "        t1 = time.time()\n",
    "        result = func(*args, **kwargs)\n",
    "        print(f\"Execution of {func.__name__} took {time.time() - t1} seconds.\")\n",
    "        return result\n",
    "    return wrapper\n",
    "\n",
    "@logger\n",
    "@timer\n",
    "def process_data(data):\n",
    "    return sum(data)\n",
    "\n",
    "print(process_data([1, 2, 3]))\n",
    "# Expected Output:\n",
    "# Function 'process_data' called with ([1, 2, 3],)\n",
    "# Execution time: X seconds\n",
    "# 6"
   ],
   "id": "c64f3a8c6b9cfdb2",
   "outputs": [
    {
     "name": "stdout",
     "output_type": "stream",
     "text": [
      "Calling process_data() with ([1, 2, 3],), {}\n",
      "Execution of process_data took 3.814697265625e-06 seconds.\n",
      "6\n"
     ]
    }
   ],
   "execution_count": 60
  },
  {
   "metadata": {},
   "cell_type": "code",
   "outputs": [],
   "execution_count": null,
   "source": [
    "#6Write a decorator that caches the results of a function to avoid redundant calculations.\n",
    "result = {}\n",
    "\n",
    "def memoize(func):\n",
    "    pass  # Define the decorator\n",
    "\n",
    "@memoize\n",
    "def fibonacci(n):\n",
    "    if n <= 1:\n",
    "        return n\n",
    "    return fibonacci(n - 1) + fibonacci(n - 2)\n",
    "\n",
    "print(fibonacci(10))  # Expected: 55\n",
    "# Avoid redundant calculations for the same inputs"
   ],
   "id": "e459d38dcdecdfca"
  },
  {
   "metadata": {
    "ExecuteTime": {
     "end_time": "2025-07-08T14:39:06.696120Z",
     "start_time": "2025-07-08T14:39:06.692559Z"
    }
   },
   "cell_type": "code",
   "source": [
    "abc = 100, 'python'\n",
    "print(abc)"
   ],
   "id": "7ef851d5f685a418",
   "outputs": [
    {
     "name": "stdout",
     "output_type": "stream",
     "text": [
      "(100, 'python')\n"
     ]
    }
   ],
   "execution_count": 1
  },
  {
   "metadata": {
    "ExecuteTime": {
     "end_time": "2025-07-08T14:42:06.396561Z",
     "start_time": "2025-07-08T14:42:06.393690Z"
    }
   },
   "cell_type": "code",
   "source": [
    "x = 1\n",
    "y = 2\n",
    "x, y = y, x\n",
    "print(x, y)"
   ],
   "id": "ed146367d20b540b",
   "outputs": [
    {
     "name": "stdout",
     "output_type": "stream",
     "text": [
      "2 1\n"
     ]
    }
   ],
   "execution_count": 2
  },
  {
   "metadata": {
    "ExecuteTime": {
     "end_time": "2025-07-08T14:42:49.171889Z",
     "start_time": "2025-07-08T14:42:49.168290Z"
    }
   },
   "cell_type": "code",
   "source": "print(f\"Python {3 + .2}\")",
   "id": "927c0fcb8ec025ee",
   "outputs": [
    {
     "name": "stdout",
     "output_type": "stream",
     "text": [
      "Python 3.2\n"
     ]
    }
   ],
   "execution_count": 3
  },
  {
   "metadata": {
    "ExecuteTime": {
     "end_time": "2025-07-08T15:09:46.730691Z",
     "start_time": "2025-07-08T15:09:46.726678Z"
    }
   },
   "cell_type": "code",
   "source": [
    "x = 2\n",
    "def test():\n",
    "    x = 33\n",
    "    return x\n",
    "print(test())\n",
    "test()"
   ],
   "id": "f0795b88b2a6b3dd",
   "outputs": [
    {
     "name": "stdout",
     "output_type": "stream",
     "text": [
      "33\n"
     ]
    },
    {
     "data": {
      "text/plain": [
       "33"
      ]
     },
     "execution_count": 21,
     "metadata": {},
     "output_type": "execute_result"
    }
   ],
   "execution_count": 21
  },
  {
   "metadata": {
    "ExecuteTime": {
     "end_time": "2025-07-08T17:00:47.798154Z",
     "start_time": "2025-07-08T17:00:47.791873Z"
    }
   },
   "cell_type": "code",
   "source": [
    "x = float('inf')\n",
    "type(x)"
   ],
   "id": "86e58fb6061e42d4",
   "outputs": [
    {
     "data": {
      "text/plain": [
       "float"
      ]
     },
     "execution_count": 31,
     "metadata": {},
     "output_type": "execute_result"
    }
   ],
   "execution_count": 31
  },
  {
   "metadata": {},
   "cell_type": "code",
   "outputs": [],
   "execution_count": null,
   "source": "",
   "id": "a9167d17656ecf49"
  }
 ],
 "metadata": {
  "kernelspec": {
   "display_name": "Python 3",
   "language": "python",
   "name": "python3"
  },
  "language_info": {
   "codemirror_mode": {
    "name": "ipython",
    "version": 2
   },
   "file_extension": ".py",
   "mimetype": "text/x-python",
   "name": "python",
   "nbconvert_exporter": "python",
   "pygments_lexer": "ipython2",
   "version": "2.7.6"
  }
 },
 "nbformat": 4,
 "nbformat_minor": 5
}
