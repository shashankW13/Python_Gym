{
 "cells": [
  {
   "metadata": {
    "ExecuteTime": {
     "end_time": "2025-06-20T07:10:41.024483Z",
     "start_time": "2025-06-20T07:10:41.019864Z"
    }
   },
   "cell_type": "code",
   "source": [
    "#Functions\n",
    "import random\n",
    "from functools import reduce\n",
    "\n",
    "INT_LIST = [random.randrange(1, 1000),\n",
    "            random.randrange(1, 1000),\n",
    "            random.randrange(1, 1000),\n",
    "            random.randrange(1, 1000),\n",
    "            random.randrange(1, 1000),\n",
    "            random.randrange(-1000, -1),\n",
    "            random.randrange(-1000, -1),]\n",
    "RANDOM_LIST = [1, 2, 1,\n",
    "               \"hello\", 2.5, 2.5, \"ok\", \"new\", \"encyclopedia\",\n",
    "               None, None]\n",
    "STRING_LIST = [\"shadow\", \"shadow\", \"ok\", \"new\", \"encyclopedia\", \"hello\",\n",
    "               \"             space\", \"    new space        \",\n",
    "               \"\", \"\", \"\",\n",
    "               \"madam\", \"racecar\", \"level\"]\n",
    "RANDOM_DICTIONARY = [{'name': 'A', 'age': 25}, {'name': 'B', 'age': 20}]\n",
    "FIRST_NAME_LIST = [\"Shadow\", \"Naruto\", \"Sasuke\", \"Sakura\"]\n",
    "LAST_NAME_LIST = [\"Garcia\", \"Uzumaki\", \"Uchiha\", \"Haruno\"]\n",
    "VOWELS = ['a', 'e', 'i', 'o', 'u']"
   ],
   "id": "7d5d7cf55ff32efb",
   "outputs": [],
   "execution_count": 142
  },
  {
   "metadata": {
    "ExecuteTime": {
     "end_time": "2025-06-20T03:46:45.734208Z",
     "start_time": "2025-06-20T03:46:41.874930Z"
    }
   },
   "cell_type": "code",
   "source": [
    "#1\n",
    "name = input(\"What is your name? \")\n",
    "def greet(your_name):\n",
    "    print(f\"Hello, {your_name}, Good morning!\")\n",
    "greet(name)"
   ],
   "id": "initial_id",
   "outputs": [
    {
     "name": "stdout",
     "output_type": "stream",
     "text": [
      "Hello, shadow, Good morning!\n"
     ]
    }
   ],
   "execution_count": 1
  },
  {
   "metadata": {
    "ExecuteTime": {
     "end_time": "2025-06-20T04:03:31.606026Z",
     "start_time": "2025-06-20T04:03:31.602710Z"
    }
   },
   "cell_type": "code",
   "source": [
    "#2\n",
    "def sum_list(lst):\n",
    "    return sum(lst)\n",
    "print(sum_list(INT_LIST))"
   ],
   "id": "5ff4d6fdd1ec114e",
   "outputs": [
    {
     "name": "stdout",
     "output_type": "stream",
     "text": [
      "1649\n"
     ]
    }
   ],
   "execution_count": 6
  },
  {
   "metadata": {
    "ExecuteTime": {
     "end_time": "2025-06-20T04:32:03.943600Z",
     "start_time": "2025-06-20T04:32:02.804912Z"
    }
   },
   "cell_type": "code",
   "source": [
    "#3\n",
    "def is_prime(n):\n",
    "    if n <=1:\n",
    "        return False\n",
    "    prime = [num for num in range(2, int(n ** 0.5) + 1)\n",
    "                if n % num == 0]\n",
    "    return False if prime else True\n",
    "\n",
    "number = int(input(\"Enter a number: \"))\n",
    "print(f\"{number} is prime: \", is_prime(number))"
   ],
   "id": "b54e2f99d4d00274",
   "outputs": [
    {
     "name": "stdout",
     "output_type": "stream",
     "text": [
      "3 is prime:  True\n"
     ]
    }
   ],
   "execution_count": 23
  },
  {
   "metadata": {
    "ExecuteTime": {
     "end_time": "2025-06-20T04:33:15.646536Z",
     "start_time": "2025-06-20T04:33:12.653167Z"
    }
   },
   "cell_type": "code",
   "source": [
    "#4\n",
    "def reverse_string(string):\n",
    "    return \"\".join(reversed(string))\n",
    "\n",
    "input_string = input(\"Enter a string: \")\n",
    "print(f\"Reverse of {input_string}: \", reverse_string(input_string))"
   ],
   "id": "cdb92cec281e6f77",
   "outputs": [
    {
     "name": "stdout",
     "output_type": "stream",
     "text": [
      "Reverse of shadow:  wodahs\n"
     ]
    }
   ],
   "execution_count": 24
  },
  {
   "metadata": {
    "ExecuteTime": {
     "end_time": "2025-06-20T04:35:05.874486Z",
     "start_time": "2025-06-20T04:35:05.870505Z"
    }
   },
   "cell_type": "code",
   "source": [
    "#5\n",
    "def unique_elements(lst):\n",
    "    return set(lst)\n",
    "print(f\"Unique elements from {RANDOM_LIST}: \", unique_elements(RANDOM_LIST))"
   ],
   "id": "560177f8170e3ad8",
   "outputs": [
    {
     "name": "stdout",
     "output_type": "stream",
     "text": [
      "Unique elements from [1, 2, 1, 'shadow', 'shadow', 'hello', 2.5, 2.5]:  {'shadow', 1, 2, 2.5, 'hello'}\n"
     ]
    }
   ],
   "execution_count": 27
  },
  {
   "metadata": {
    "ExecuteTime": {
     "end_time": "2025-06-20T04:36:56.969109Z",
     "start_time": "2025-06-20T04:36:52.414403Z"
    }
   },
   "cell_type": "code",
   "source": [
    "#6\n",
    "def max_of_three(num1, num2, num3):\n",
    "    return max(num1, num2, num3)\n",
    "\n",
    "number1 = int(input(\"Enter a number: \"))\n",
    "number2 = int(input(\"Enter a number: \"))\n",
    "number3 = int(input(\"Enter a number: \"))\n",
    "print(f\"Max of ({number1}, {number2}, {number3}): \",\n",
    "      max_of_three(number1, number2, number3))"
   ],
   "id": "a6cced5935930240",
   "outputs": [
    {
     "name": "stdout",
     "output_type": "stream",
     "text": [
      "Max of (6, 4, 8):  8\n"
     ]
    }
   ],
   "execution_count": 28
  },
  {
   "metadata": {
    "ExecuteTime": {
     "end_time": "2025-06-20T04:40:05.949644Z",
     "start_time": "2025-06-20T04:40:02.617809Z"
    }
   },
   "cell_type": "code",
   "source": [
    "#7\n",
    "def count_vowels(string):\n",
    "    count = 0\n",
    "    for word in string:\n",
    "        if word in VOWELS:\n",
    "            count += 1\n",
    "    return count\n",
    "\n",
    "input_string = input(\"Enter a string: \").lower()\n",
    "print(f\"Count of vowels in {input_string}: \", count_vowels(input_string))"
   ],
   "id": "50fc669be69e4eb0",
   "outputs": [
    {
     "name": "stdout",
     "output_type": "stream",
     "text": [
      "Count of vowels in aeiou:  5\n"
     ]
    }
   ],
   "execution_count": 32
  },
  {
   "metadata": {
    "ExecuteTime": {
     "end_time": "2025-06-20T04:41:35.989304Z",
     "start_time": "2025-06-20T04:41:35.984103Z"
    }
   },
   "cell_type": "code",
   "source": [
    "#8\n",
    "def fibonacci(n):\n",
    "    fib = [0, 1]\n",
    "    [fib.append(fib[i] + fib[i + 1]) for i in range(n)]\n",
    "    return fib\n",
    "\n",
    "print(\"Fibonacci series: \", fibonacci(5))"
   ],
   "id": "7c5973ecb06334cc",
   "outputs": [
    {
     "name": "stdout",
     "output_type": "stream",
     "text": [
      "Fibonacci series:  [0, 1, 1, 2, 3, 5, 8]\n"
     ]
    }
   ],
   "execution_count": 33
  },
  {
   "metadata": {
    "ExecuteTime": {
     "end_time": "2025-06-20T04:43:01.653456Z",
     "start_time": "2025-06-20T04:43:01.649632Z"
    }
   },
   "cell_type": "code",
   "source": [
    "#9\n",
    "def to_celsius(temp):\n",
    "    return (temp - 32) * 5/9\n",
    "\n",
    "print(\"Temperature in Celsius: \", to_celsius(100))"
   ],
   "id": "c61669f9d0dd4641",
   "outputs": [
    {
     "name": "stdout",
     "output_type": "stream",
     "text": [
      "Temperature in Celsius:  37.77777777777778\n"
     ]
    }
   ],
   "execution_count": 35
  },
  {
   "metadata": {
    "ExecuteTime": {
     "end_time": "2025-06-20T04:50:42.009329Z",
     "start_time": "2025-06-20T04:50:42.003969Z"
    }
   },
   "cell_type": "code",
   "source": [
    "#10\n",
    "def calculate_area(shape, **parameters):\n",
    "    if shape.lower() == \"rectangle\":\n",
    "        return f\"Area of {shape} = \", parameters[\"length\"] * parameters[\"breadth\"]\n",
    "    elif shape.lower() == \"circle\":\n",
    "        return f\"Area of {shape} = \", 3.14 * parameters[\"radius\"]\n",
    "    elif shape.lower() == \"triangle\":\n",
    "        return f\"Area of {shape} = \", 0.5 * parameters[\"base\"] * parameters[\"height\"]\n",
    "    else:\n",
    "        return \"Shape does not exist.\"\n",
    "\n",
    "print(calculate_area(\"TRIANGLE\", base=5, height=10))"
   ],
   "id": "9e668993150d6a3c",
   "outputs": [
    {
     "name": "stdout",
     "output_type": "stream",
     "text": [
      "('Area of TRIANGLE = ', 25.0)\n"
     ]
    }
   ],
   "execution_count": 39
  },
  {
   "metadata": {},
   "cell_type": "code",
   "outputs": [],
   "execution_count": null,
   "source": "#Lambda Functions",
   "id": "dbd8b1c6e84f7dd2"
  },
  {
   "metadata": {
    "ExecuteTime": {
     "end_time": "2025-06-20T04:54:26.621517Z",
     "start_time": "2025-06-20T04:54:26.616530Z"
    }
   },
   "cell_type": "code",
   "source": [
    "#1\n",
    "add = lambda num1, num2: num1 + num2\n",
    "print(\"Sum of 2 numbers: \", add(5, 5))"
   ],
   "id": "655b6b3274fac11d",
   "outputs": [
    {
     "name": "stdout",
     "output_type": "stream",
     "text": [
      "Sum of 2 numbers:  10\n"
     ]
    }
   ],
   "execution_count": 42
  },
  {
   "metadata": {
    "ExecuteTime": {
     "end_time": "2025-06-20T05:00:20.020063Z",
     "start_time": "2025-06-20T05:00:20.015794Z"
    }
   },
   "cell_type": "code",
   "source": [
    "#2\n",
    "temp_list_tuple = [('a', 1),  ('b', 2), ('c', 3)]\n",
    "second_item = list(map(lambda x: x[1], temp_list_tuple))\n",
    "print(f\"Second item from {temp_list_tuple}: \", second_item)"
   ],
   "id": "d30454ce05d4a3de",
   "outputs": [
    {
     "name": "stdout",
     "output_type": "stream",
     "text": [
      "Second item from [('a', 1), ('b', 2), ('c', 3)]:  [1, 2, 3]\n"
     ]
    }
   ],
   "execution_count": 48
  },
  {
   "metadata": {
    "ExecuteTime": {
     "end_time": "2025-06-20T05:01:58.937758Z",
     "start_time": "2025-06-20T05:01:57.515857Z"
    }
   },
   "cell_type": "code",
   "source": [
    "#3\n",
    "number = int(input(\"Enter a number: \"))\n",
    "odd_even = lambda x: \"Even\" if x % 2 == 0 else \"Odd\"\n",
    "print(f\"{number} is odd or even: {odd_even(number)}\")"
   ],
   "id": "3b04a16f7fb27e4d",
   "outputs": [
    {
     "name": "stdout",
     "output_type": "stream",
     "text": [
      "4 is odd or even: Even\n"
     ]
    }
   ],
   "execution_count": 49
  },
  {
   "metadata": {
    "ExecuteTime": {
     "end_time": "2025-06-20T05:03:14.667864Z",
     "start_time": "2025-06-20T05:03:14.662153Z"
    }
   },
   "cell_type": "code",
   "source": [
    "#4\n",
    "triple_numbers = list(map(lambda x: x * 3, [1, 2, 3]))\n",
    "print(\"Triple numbers = \", triple_numbers)"
   ],
   "id": "b27cf32c469a6961",
   "outputs": [
    {
     "name": "stdout",
     "output_type": "stream",
     "text": [
      "Triple numbers =  [3, 6, 9]\n"
     ]
    }
   ],
   "execution_count": 50
  },
  {
   "metadata": {
    "ExecuteTime": {
     "end_time": "2025-06-20T05:07:21.514845Z",
     "start_time": "2025-06-20T05:07:21.510005Z"
    }
   },
   "cell_type": "code",
   "source": [
    "#5\n",
    "long_words = list(filter(lambda words: len(words) > 5, STRING_LIST))\n",
    "print(f\"Word length greater than 5 from {STRING_LIST}: \", long_words)"
   ],
   "id": "225ee63785fe65b4",
   "outputs": [
    {
     "name": "stdout",
     "output_type": "stream",
     "text": [
      "Word length greater than 5 from ['shadow', 'shadow', 'ok', 'new', 'encyclopedia', 'hello']:  ['shadow', 'shadow', 'encyclopedia']\n"
     ]
    }
   ],
   "execution_count": 61
  },
  {
   "metadata": {
    "ExecuteTime": {
     "end_time": "2025-06-20T05:13:51.220051Z",
     "start_time": "2025-06-20T05:13:51.216084Z"
    }
   },
   "cell_type": "code",
   "source": [
    "#6\n",
    "dict_sort = sorted(RANDOM_DICTIONARY, key=lambda item: item[\"age\"])\n",
    "print(f\"Sorted {RANDOM_DICTIONARY} by 'age': \", dict_sort)"
   ],
   "id": "3e8e3ed3175b19a7",
   "outputs": [
    {
     "name": "stdout",
     "output_type": "stream",
     "text": [
      "Sorted [{'name': 'A', 'age': 25}, {'name': 'B', 'age': 20}] by 'age':  [{'name': 'B', 'age': 20}, {'name': 'A', 'age': 25}]\n"
     ]
    }
   ],
   "execution_count": 66
  },
  {
   "metadata": {},
   "cell_type": "code",
   "outputs": [
    {
     "name": "stdout",
     "output_type": "stream",
     "text": [
      "Cube of [407, 700, 904]:  [67419143, 343000000, 738763264]\n"
     ]
    }
   ],
   "execution_count": 67,
   "source": [
    "#7\n",
    "list_cube = list(map(lambda x: x ** 3, INT_LIST))\n",
    "print(f\"Cube of {INT_LIST}: \", list_cube)"
   ],
   "id": "e9bb54e1ecd93195"
  },
  {
   "metadata": {},
   "cell_type": "code",
   "outputs": [],
   "execution_count": null,
   "source": "#8",
   "id": "655bb9a7adead981"
  },
  {
   "metadata": {
    "ExecuteTime": {
     "end_time": "2025-06-20T05:19:03.029807Z",
     "start_time": "2025-06-20T05:19:03.024200Z"
    }
   },
   "cell_type": "code",
   "source": [
    "#9\n",
    "list_product = reduce(lambda x, y: x * y, INT_LIST)\n",
    "print(f\"Product of {INT_LIST}: \", list_product)"
   ],
   "id": "7315b97865c89746",
   "outputs": [
    {
     "name": "stdout",
     "output_type": "stream",
     "text": [
      "Product of [51, 816, 620]:  25801920\n"
     ]
    }
   ],
   "execution_count": 70
  },
  {
   "metadata": {
    "ExecuteTime": {
     "end_time": "2025-06-20T05:21:10.376537Z",
     "start_time": "2025-06-20T05:21:07.301542Z"
    }
   },
   "cell_type": "code",
   "source": [
    "#10\n",
    "random_string = input(\"Enter a string: \")\n",
    "last_character = lambda string: string[-1]\n",
    "print(f\"Last character of {random_string}: \", last_character(random_string))"
   ],
   "id": "9c0dfb0ff5fe4908",
   "outputs": [
    {
     "name": "stdout",
     "output_type": "stream",
     "text": [
      "Last character of shadoWWW:  W\n"
     ]
    }
   ],
   "execution_count": 73
  },
  {
   "metadata": {},
   "cell_type": "code",
   "outputs": [],
   "execution_count": null,
   "source": "#map()",
   "id": "83e6fccfaef44229"
  },
  {
   "metadata": {
    "ExecuteTime": {
     "end_time": "2025-06-20T05:25:13.217194Z",
     "start_time": "2025-06-20T05:25:13.212341Z"
    }
   },
   "cell_type": "code",
   "source": [
    "#1\n",
    "print(\"Square numbers in [1, 2, 3, 4] = \",\n",
    "      list(map(lambda x: x ** 2, [1, 2, 3, 4])))"
   ],
   "id": "788fe10e03a9181",
   "outputs": [
    {
     "name": "stdout",
     "output_type": "stream",
     "text": [
      "Square numbers in [1, 2, 3, 4] =  [1, 4, 9, 16]\n"
     ]
    }
   ],
   "execution_count": 74
  },
  {
   "metadata": {
    "ExecuteTime": {
     "end_time": "2025-06-20T05:47:53.190331Z",
     "start_time": "2025-06-20T05:47:53.185301Z"
    }
   },
   "cell_type": "code",
   "source": [
    "#2\n",
    "print(f\"Celsius to fahrenheit {INT_LIST} = \",\n",
    "      list(map(lambda temp: (temp * 9 / 5) + 32, INT_LIST)))"
   ],
   "id": "18c26efa50a71840",
   "outputs": [
    {
     "name": "stdout",
     "output_type": "stream",
     "text": [
      "Celsius to fahrenheit [51, 816, 620] =  [123.8, 1500.8, 1148.0]\n"
     ]
    }
   ],
   "execution_count": 76
  },
  {
   "metadata": {
    "ExecuteTime": {
     "end_time": "2025-06-20T05:58:22.154608Z",
     "start_time": "2025-06-20T05:58:22.150293Z"
    }
   },
   "cell_type": "code",
   "source": [
    "#3\n",
    "new_list = []\n",
    "print(f\"Corresponding element list from {INT_LIST} and {RANDOM_LIST}: \",\n",
    "      list(map(lambda element1, element2:\n",
    "               (element1, element2), INT_LIST, RANDOM_LIST)))\n",
    "#new_list.append((element1, element2))"
   ],
   "id": "8a35ee0f9442b160",
   "outputs": [
    {
     "name": "stdout",
     "output_type": "stream",
     "text": [
      "Corresponding element list from [565, 397, 178, 628, 759] and [1, 2, 1, 'hello', 2.5, 2.5, 'ok', 'new', 'encyclopedia']:  [(565, 1), (397, 2), (178, 1), (628, 'hello'), (759, 2.5)]\n"
     ]
    }
   ],
   "execution_count": 85
  },
  {
   "metadata": {
    "ExecuteTime": {
     "end_time": "2025-06-20T05:59:40.226661Z",
     "start_time": "2025-06-20T05:59:40.221658Z"
    }
   },
   "cell_type": "code",
   "source": [
    "#4\n",
    "print(f\"Uppercased {STRING_LIST}: \",\n",
    "      list(map(lambda word: word.upper(), STRING_LIST)))"
   ],
   "id": "46a8b622b28a179b",
   "outputs": [
    {
     "name": "stdout",
     "output_type": "stream",
     "text": [
      "Uppercased ['shadow', 'shadow', 'ok', 'new', 'encyclopedia', 'hello']:  ['SHADOW', 'SHADOW', 'OK', 'NEW', 'ENCYCLOPEDIA', 'HELLO']\n"
     ]
    }
   ],
   "execution_count": 86
  },
  {
   "metadata": {
    "ExecuteTime": {
     "end_time": "2025-06-20T06:04:06.781281Z",
     "start_time": "2025-06-20T06:04:06.775515Z"
    }
   },
   "cell_type": "code",
   "source": [
    "#5\n",
    "print(f\"First character from {STRING_LIST}: \",\n",
    "      list(map(lambda word: word[0], STRING_LIST)))\n"
   ],
   "id": "9c0538224c391141",
   "outputs": [
    {
     "name": "stdout",
     "output_type": "stream",
     "text": [
      "First character from ['shadow', 'shadow', 'ok', 'new', 'encyclopedia', 'hello']:  ['s', 's', 'o', 'n', 'e', 'h']\n"
     ]
    }
   ],
   "execution_count": 87
  },
  {
   "metadata": {
    "ExecuteTime": {
     "end_time": "2025-06-20T06:27:53.115969Z",
     "start_time": "2025-06-20T06:27:53.112827Z"
    }
   },
   "cell_type": "code",
   "source": [
    "#6\n",
    "print(f\"Double values of 'age' in {RANDOM_DICTIONARY} = \",\n",
    "      #**new_dict creates new dictionary\n",
    "      list(map(lambda new_dict:\n",
    "               {**new_dict, new_dict[\"age\"]: new_dict[\"age\"] * 2},\n",
    "               RANDOM_DICTIONARY)))"
   ],
   "id": "96ebd3bff9e052d0",
   "outputs": [
    {
     "name": "stdout",
     "output_type": "stream",
     "text": [
      "Double values of 'age' in [{'name': 'A', 'age': 25}, {'name': 'B', 'age': 20}] =  [{'name': 'A', 'age': 25, 25: 50}, {'name': 'B', 'age': 20, 20: 40}]\n"
     ]
    }
   ],
   "execution_count": 103
  },
  {
   "metadata": {
    "ExecuteTime": {
     "end_time": "2025-06-20T06:33:39.790719Z",
     "start_time": "2025-06-20T06:33:39.786744Z"
    }
   },
   "cell_type": "code",
   "source": [
    "#7\n",
    "print(f\"Full name from {FIRST_NAME_LIST} and {LAST_NAME_LIST}: \",\n",
    "      list(map(lambda fname, lname: (fname, lname),\n",
    "                      FIRST_NAME_LIST, LAST_NAME_LIST)))"
   ],
   "id": "afb6cdebe8de9499",
   "outputs": [
    {
     "name": "stdout",
     "output_type": "stream",
     "text": [
      "Full name from ['Shadow', 'Naruto', 'Sasuke', 'Sakura'] and ['Garcia', 'Uzumaki', 'Uchiha', 'Haruno']:  [('Shadow', 'Garcia'), ('Naruto', 'Uzumaki'), ('Sasuke', 'Uchiha'), ('Sakura', 'Haruno')]\n"
     ]
    }
   ],
   "execution_count": 106
  },
  {
   "metadata": {
    "ExecuteTime": {
     "end_time": "2025-06-20T06:38:15.440483Z",
     "start_time": "2025-06-20T06:38:15.437426Z"
    }
   },
   "cell_type": "code",
   "source": [
    "#8\n",
    "print(\"Decimals of binary strings ['1010', '0101'] = \",\n",
    "      list(map(lambda binary: int(binary, 2), ['1010', '0101'])))"
   ],
   "id": "1167f37056432df3",
   "outputs": [
    {
     "name": "stdout",
     "output_type": "stream",
     "text": [
      "Decimals of binary strings ['1010', '0101'] =  [10, 5]\n"
     ]
    }
   ],
   "execution_count": 107
  },
  {
   "metadata": {
    "ExecuteTime": {
     "end_time": "2025-06-20T06:40:12.107487Z",
     "start_time": "2025-06-20T06:40:12.104768Z"
    }
   },
   "cell_type": "code",
   "source": [
    "#9\n",
    "print(f\"Lengths of strings in {STRING_LIST}: \",\n",
    "      list(map(lambda string: (string, len(string)), STRING_LIST)))"
   ],
   "id": "dbb285d442bba14",
   "outputs": [
    {
     "name": "stdout",
     "output_type": "stream",
     "text": [
      "Lengths of strings in ['shadow', 'shadow', 'ok', 'new', 'encyclopedia', 'hello']:  [('shadow', 6), ('shadow', 6), ('ok', 2), ('new', 3), ('encyclopedia', 12), ('hello', 5)]\n"
     ]
    }
   ],
   "execution_count": 108
  },
  {
   "metadata": {
    "ExecuteTime": {
     "end_time": "2025-06-20T06:41:47.207382Z",
     "start_time": "2025-06-20T06:41:47.203994Z"
    }
   },
   "cell_type": "code",
   "source": [
    "#10\n",
    "print(f\"Stripped whitespaces from {STRING_LIST}: \\n\",\n",
    "      list(map(lambda string: string.strip(), STRING_LIST)))"
   ],
   "id": "52f81f82220c03f0",
   "outputs": [
    {
     "name": "stdout",
     "output_type": "stream",
     "text": [
      "Stripped whitespaces from ['shadow', 'shadow', 'ok', 'new', 'encyclopedia', 'hello', '             space', '    new space        ']: \n",
      " ['shadow', 'shadow', 'ok', 'new', 'encyclopedia', 'hello', 'space', 'new space']\n"
     ]
    }
   ],
   "execution_count": 112
  },
  {
   "metadata": {},
   "cell_type": "code",
   "outputs": [],
   "execution_count": null,
   "source": "#filter()",
   "id": "9f9aedf955faad63"
  },
  {
   "metadata": {
    "ExecuteTime": {
     "end_time": "2025-06-20T06:43:51.271251Z",
     "start_time": "2025-06-20T06:43:51.268141Z"
    }
   },
   "cell_type": "code",
   "source": [
    "#1\n",
    "print(f\"Positive numbers from {INT_LIST} = \",\n",
    "      list(filter(lambda x: x > 0, INT_LIST)))"
   ],
   "id": "d2921b466f387b6",
   "outputs": [
    {
     "name": "stdout",
     "output_type": "stream",
     "text": [
      "Positive numbers from [771, 708, 545, 897, 996, -560, -809] =  [771, 708, 545, 897, 996]\n"
     ]
    }
   ],
   "execution_count": 116
  },
  {
   "metadata": {
    "ExecuteTime": {
     "end_time": "2025-06-20T06:44:36.653528Z",
     "start_time": "2025-06-20T06:44:36.650131Z"
    }
   },
   "cell_type": "code",
   "source": [
    "#2\n",
    "print(f\"Odd numbers from {INT_LIST} = \",\n",
    "      list(filter(lambda x: x % 2 != 0, INT_LIST)))"
   ],
   "id": "58167d61fcddf13b",
   "outputs": [
    {
     "name": "stdout",
     "output_type": "stream",
     "text": [
      "Odd numbers from [771, 708, 545, 897, 996, -560, -809] =  [771, 545, 897, -809]\n"
     ]
    }
   ],
   "execution_count": 117
  },
  {
   "metadata": {
    "ExecuteTime": {
     "end_time": "2025-06-20T06:46:39.571497Z",
     "start_time": "2025-06-20T06:46:39.568486Z"
    }
   },
   "cell_type": "code",
   "source": [
    "#3\n",
    "print(f\"Strings that start with a vowel from {STRING_LIST}: \",\n",
    "      list(filter(lambda x: x[0] in VOWELS, STRING_LIST)))"
   ],
   "id": "d0ce1e9279c857af",
   "outputs": [
    {
     "name": "stdout",
     "output_type": "stream",
     "text": [
      "Strings that start with a vowel from ['shadow', 'shadow', 'ok', 'new', 'encyclopedia', 'hello', '             space', '    new space        ']:  ['ok', 'encyclopedia']\n"
     ]
    }
   ],
   "execution_count": 119
  },
  {
   "metadata": {
    "ExecuteTime": {
     "end_time": "2025-06-20T06:54:01.851552Z",
     "start_time": "2025-06-20T06:54:01.848816Z"
    }
   },
   "cell_type": "code",
   "source": [
    "#4\n",
    "print(f\"Removed empty strings from {STRING_LIST}: \",\n",
    "      list(filter(lambda string: string != \"\", STRING_LIST)))"
   ],
   "id": "11c3e0c0f4f88768",
   "outputs": [
    {
     "name": "stdout",
     "output_type": "stream",
     "text": [
      "Removed empty strings from ['shadow', 'shadow', 'ok', 'new', 'encyclopedia', 'hello', '             space', '    new space        ', '', '', '']:  ['shadow', 'shadow', 'ok', 'new', 'encyclopedia', 'hello', '             space', '    new space        ']\n"
     ]
    }
   ],
   "execution_count": 122
  },
  {
   "metadata": {
    "ExecuteTime": {
     "end_time": "2025-06-20T06:57:48.361761Z",
     "start_time": "2025-06-20T06:57:48.358976Z"
    }
   },
   "cell_type": "code",
   "source": [
    "#5\n",
    "print(f\"Only integers list from {RANDOM_LIST}: \",\n",
    "      list(filter(lambda element: type(element) is int, RANDOM_LIST)))"
   ],
   "id": "21b0816a1d010fdc",
   "outputs": [
    {
     "name": "stdout",
     "output_type": "stream",
     "text": [
      "Only integers list from [1, 2, 1, 'hello', 2.5, 2.5, 'ok', 'new', 'encyclopedia']:  [1, 2, 1]\n"
     ]
    }
   ],
   "execution_count": 129
  },
  {
   "metadata": {
    "ExecuteTime": {
     "end_time": "2025-06-20T07:06:05.139480Z",
     "start_time": "2025-06-20T07:06:05.135832Z"
    }
   },
   "cell_type": "code",
   "source": [
    "#6\n",
    "print(f\"Only prime numbers from {INT_LIST}: \",\n",
    "      list(filter(lambda num: num > 1 and\n",
    "      #all() returns True if all elements are True\n",
    "                              all(num % i != 0\n",
    "                                  for i in range(2, int(num ** 0.5) + 1)),\n",
    "                                    INT_LIST)))"
   ],
   "id": "edfaf4514280c7a8",
   "outputs": [
    {
     "name": "stdout",
     "output_type": "stream",
     "text": [
      "Only prime numbers from [554, 280, 411, 911, 562, -264, -158]:  [911]\n"
     ]
    }
   ],
   "execution_count": 135
  },
  {
   "metadata": {
    "ExecuteTime": {
     "end_time": "2025-06-20T07:07:27.809771Z",
     "start_time": "2025-06-20T07:07:27.806685Z"
    }
   },
   "cell_type": "code",
   "source": [
    "#7\n",
    "print(f\"Names longer than 6 characters from {STRING_LIST}: \",\n",
    "      list(filter(lambda name: len(name) > 6, STRING_LIST)))"
   ],
   "id": "f70d0eeeacffd150",
   "outputs": [
    {
     "name": "stdout",
     "output_type": "stream",
     "text": [
      "Names longer than 6 characters from ['shadow', 'shadow', 'ok', 'new', 'encyclopedia', 'hello', '             space', '    new space        ', '', '', '']:  ['encyclopedia', '             space', '    new space        ']\n"
     ]
    }
   ],
   "execution_count": 137
  },
  {
   "metadata": {
    "ExecuteTime": {
     "end_time": "2025-06-20T07:09:30.354612Z",
     "start_time": "2025-06-20T07:09:30.351829Z"
    }
   },
   "cell_type": "code",
   "source": [
    "#8\n",
    "print(f\"Removing None values from {RANDOM_LIST}: \",\n",
    "      list(filter(lambda element: element is not None, RANDOM_LIST)))"
   ],
   "id": "eb8d6731c3b6a814",
   "outputs": [
    {
     "name": "stdout",
     "output_type": "stream",
     "text": [
      "Removing None values from [1, 2, 1, 'hello', 2.5, 2.5, 'ok', 'new', 'encyclopedia', None, None]:  [1, 2, 1, 'hello', 2.5, 2.5, 'ok', 'new', 'encyclopedia']\n"
     ]
    }
   ],
   "execution_count": 141
  },
  {
   "metadata": {
    "ExecuteTime": {
     "end_time": "2025-06-20T07:12:24.436872Z",
     "start_time": "2025-06-20T07:12:24.433735Z"
    }
   },
   "cell_type": "code",
   "source": [
    "#9\n",
    "print(f\"Palindromes from {STRING_LIST}: \",\n",
    "      list(filter(lambda string: string[::-1] == string, STRING_LIST)))"
   ],
   "id": "714854f9e3587612",
   "outputs": [
    {
     "name": "stdout",
     "output_type": "stream",
     "text": [
      "Palindromes from ['shadow', 'shadow', 'ok', 'new', 'encyclopedia', 'hello', '             space', '    new space        ', '', '', '', 'madam', 'racecar', 'level']:  ['', '', '', 'madam', 'racecar', 'level']\n"
     ]
    }
   ],
   "execution_count": 145
  },
  {
   "metadata": {
    "ExecuteTime": {
     "end_time": "2025-06-20T07:15:30.837618Z",
     "start_time": "2025-06-20T07:15:30.834578Z"
    }
   },
   "cell_type": "code",
   "source": [
    "#10\n",
    "print(f\"Even numbers both divisible by 2 and 4 from {INT_LIST}: \",\n",
    "      list(filter(lambda number:\n",
    "                  number % 2 == 0 and number % 4 == 0, INT_LIST)))"
   ],
   "id": "c70b2a69777d2815",
   "outputs": [
    {
     "name": "stdout",
     "output_type": "stream",
     "text": [
      "Even numbers both divisible by 2 and 4 from [901, 50, 561, 753, 572, -796, -710]:  [572, -796]\n"
     ]
    }
   ],
   "execution_count": 146
  },
  {
   "metadata": {},
   "cell_type": "code",
   "outputs": [],
   "execution_count": null,
   "source": "",
   "id": "b020ea2c5af874be"
  }
 ],
 "metadata": {
  "kernelspec": {
   "display_name": "Python 3",
   "language": "python",
   "name": "python3"
  },
  "language_info": {
   "codemirror_mode": {
    "name": "ipython",
    "version": 2
   },
   "file_extension": ".py",
   "mimetype": "text/x-python",
   "name": "python",
   "nbconvert_exporter": "python",
   "pygments_lexer": "ipython2",
   "version": "2.7.6"
  }
 },
 "nbformat": 4,
 "nbformat_minor": 5
}
