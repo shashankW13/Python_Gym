{
 "cells": [
  {
   "cell_type": "code",
   "id": "initial_id",
   "metadata": {
    "collapsed": true,
    "ExecuteTime": {
     "end_time": "2025-07-11T13:19:49.995683Z",
     "start_time": "2025-07-11T13:19:49.991929Z"
    }
   },
   "source": [
    "from itertools import count\n",
    "\n",
    "import pandas as pd\n",
    "import numpy as np\n",
    "from dateutil.parser import parse\n",
    "data = [1, 3, 5, 6, 3, 6, 7, 8, 9]\n",
    "s1 = [2, 4, 6, 8, 10]\n",
    "s2 = [1, 3, 5, 7, 9]\n",
    "str_series = pd.Series(['php', 'python', 'java', 'c#'])\n",
    "date_series = pd.Series(['01 Jan 2015', '10-02-2016', '20180307', '2014/05/06', '2016-04-12', '2019-04-06T11:20'])\n",
    "date_series1 = pd.Series(['Jan 2015', 'Feb 2016', 'Mar 2017', 'Apr 2018', 'May 2019'])\n",
    "color_series = pd.Series(['Red', 'Green', 'Orange', 'Pink', 'Yellow', 'White'])\n",
    "\n"
   ],
   "outputs": [],
   "execution_count": 275
  },
  {
   "metadata": {
    "ExecuteTime": {
     "end_time": "2025-07-11T10:16:41.284211Z",
     "start_time": "2025-07-11T10:16:41.280644Z"
    }
   },
   "cell_type": "code",
   "source": [
    "#1\n",
    "s = pd.Series(data)\n",
    "print(s)"
   ],
   "id": "db0872977e7e60bb",
   "outputs": [
    {
     "name": "stdout",
     "output_type": "stream",
     "text": [
      "0    1\n",
      "1    3\n",
      "2    5\n",
      "3    6\n",
      "4    3\n",
      "5    6\n",
      "dtype: int64\n"
     ]
    }
   ],
   "execution_count": 153
  },
  {
   "metadata": {},
   "cell_type": "code",
   "outputs": [],
   "execution_count": null,
   "source": [
    "#2\n",
    "s = pd.Series(data).tolist()\n",
    "print(type(s))"
   ],
   "id": "bedeb59bd44d81fc"
  },
  {
   "metadata": {
    "ExecuteTime": {
     "end_time": "2025-07-11T10:17:02.707955Z",
     "start_time": "2025-07-11T10:17:02.701019Z"
    }
   },
   "cell_type": "code",
   "source": [
    "#3\n",
    "series1 = pd.Series(s1)\n",
    "series2 = pd.Series(s2)\n",
    "print(series1 - series2)\n",
    "print(series1 + series2)\n",
    "print(series1 * series2)\n",
    "print(series1 / series2)"
   ],
   "id": "28c3e7c6f07d51a7",
   "outputs": [
    {
     "name": "stdout",
     "output_type": "stream",
     "text": [
      "0    1\n",
      "1    1\n",
      "2    1\n",
      "3    1\n",
      "4    1\n",
      "dtype: int64\n",
      "0     3\n",
      "1     7\n",
      "2    11\n",
      "3    15\n",
      "4    19\n",
      "dtype: int64\n",
      "0     2\n",
      "1    12\n",
      "2    30\n",
      "3    56\n",
      "4    90\n",
      "dtype: int64\n",
      "0    2.000000\n",
      "1    1.333333\n",
      "2    1.200000\n",
      "3    1.142857\n",
      "4    1.111111\n",
      "dtype: float64\n"
     ]
    }
   ],
   "execution_count": 154
  },
  {
   "metadata": {
    "ExecuteTime": {
     "end_time": "2025-07-08T17:37:53.751103Z",
     "start_time": "2025-07-08T17:37:53.744822Z"
    }
   },
   "cell_type": "code",
   "source": [
    "#4\n",
    "print(\"Equals:\\n\",series1 == series2)\n",
    "print(\"Greater than:\\n\",series1 > series2)\n",
    "print(\"Less than:\\n\",series1 < series2)"
   ],
   "id": "193affd912769a1d",
   "outputs": [
    {
     "name": "stdout",
     "output_type": "stream",
     "text": [
      "Equals:\n",
      " 0    False\n",
      "1    False\n",
      "2    False\n",
      "3    False\n",
      "4    False\n",
      "dtype: bool\n",
      "Greater than:\n",
      " 0    True\n",
      "1    True\n",
      "2    True\n",
      "3    True\n",
      "4    True\n",
      "dtype: bool\n",
      "Less than:\n",
      " 0    False\n",
      "1    False\n",
      "2    False\n",
      "3    False\n",
      "4    False\n",
      "dtype: bool\n"
     ]
    }
   ],
   "execution_count": 18
  },
  {
   "metadata": {
    "ExecuteTime": {
     "end_time": "2025-07-08T17:39:58.180394Z",
     "start_time": "2025-07-08T17:39:58.174029Z"
    }
   },
   "cell_type": "code",
   "source": [
    "#5\n",
    "sample_dict = {'a': 100, 'b': 200, 'c': 300, 'd': 400, 'e': 800}\n",
    "dict_series = pd.Series(sample_dict)\n",
    "print(dict_series)"
   ],
   "id": "9ad675c8b70543ad",
   "outputs": [
    {
     "name": "stdout",
     "output_type": "stream",
     "text": [
      "a    100\n",
      "b    200\n",
      "c    300\n",
      "d    400\n",
      "e    800\n",
      "dtype: int64\n"
     ]
    }
   ],
   "execution_count": 19
  },
  {
   "metadata": {
    "ExecuteTime": {
     "end_time": "2025-07-08T17:41:44.690544Z",
     "start_time": "2025-07-08T17:41:44.686624Z"
    }
   },
   "cell_type": "code",
   "source": [
    "#6\n",
    "numpy_array = np.array([1, 2, 3, 4, 5])\n",
    "numpy_series = pd.Series(numpy_array)\n",
    "print(numpy_series)"
   ],
   "id": "44d7e21f22769742",
   "outputs": [
    {
     "name": "stdout",
     "output_type": "stream",
     "text": [
      "0    1\n",
      "1    2\n",
      "2    3\n",
      "3    4\n",
      "4    5\n",
      "dtype: int64\n"
     ]
    }
   ],
   "execution_count": 22
  },
  {
   "metadata": {
    "ExecuteTime": {
     "end_time": "2025-07-09T10:43:57.439005Z",
     "start_time": "2025-07-09T10:43:57.386455Z"
    }
   },
   "cell_type": "code",
   "source": [
    "#7\n",
    "s1 = pd.Series(['100', '200', 'python', '300.12', '400'])\n",
    "s2 = pd.to_numeric(s1, errors='coerce')\n",
    "s2"
   ],
   "id": "356ffaa8e879fb58",
   "outputs": [
    {
     "data": {
      "text/plain": [
       "0    100.00\n",
       "1    200.00\n",
       "2       NaN\n",
       "3    300.12\n",
       "4    400.00\n",
       "dtype: float64"
      ]
     },
     "execution_count": 51,
     "metadata": {},
     "output_type": "execute_result"
    }
   ],
   "execution_count": 51
  },
  {
   "metadata": {
    "ExecuteTime": {
     "end_time": "2025-07-08T17:51:34.376526Z",
     "start_time": "2025-07-08T17:51:34.370515Z"
    }
   },
   "cell_type": "code",
   "source": [
    "#8\n",
    "d = {'col1': [1, 2, 3, 4, 7, 11], 'col2': [4, 5, 6, 9, 5, 0], 'col3': [7, 5, 8, 12, 1, 11]}\n",
    "df = pd.DataFrame(data=d)\n",
    "d_series = df['col1']\n",
    "print(d_series)"
   ],
   "id": "4230751ec167ea6a",
   "outputs": [
    {
     "name": "stdout",
     "output_type": "stream",
     "text": [
      "0     1\n",
      "1     2\n",
      "2     3\n",
      "3     4\n",
      "4     7\n",
      "5    11\n",
      "Name: col1, dtype: int64\n"
     ]
    }
   ],
   "execution_count": 30
  },
  {
   "metadata": {
    "ExecuteTime": {
     "end_time": "2025-07-08T17:55:23.190994Z",
     "start_time": "2025-07-08T17:55:23.186182Z"
    }
   },
   "cell_type": "code",
   "source": [
    "#9\n",
    "print(s1.to_numpy())\n",
    "print(s1.values)"
   ],
   "id": "4beef6d26133bc31",
   "outputs": [
    {
     "name": "stdout",
     "output_type": "stream",
     "text": [
      "['100' '200' 'python' '300.12' '400']\n",
      "['100' '200' 'python' '300.12' '400']\n"
     ]
    }
   ],
   "execution_count": 35
  },
  {
   "metadata": {
    "ExecuteTime": {
     "end_time": "2025-07-08T18:12:28.656282Z",
     "start_time": "2025-07-08T18:12:28.648237Z"
    }
   },
   "cell_type": "code",
   "source": [
    "#10\n",
    "list_series = pd.Series([\n",
    "    ['Red', 'Green', 'White'],\n",
    "    ['Red', 'Black'],\n",
    "    ['Yellow']])\n",
    "list_series.apply(pd.Series).stack().reset_index(drop=True)"
   ],
   "id": "e06802587365dcf",
   "outputs": [
    {
     "data": {
      "text/plain": [
       "0       Red\n",
       "1     Green\n",
       "2     White\n",
       "3       Red\n",
       "4     Black\n",
       "5    Yellow\n",
       "dtype: object"
      ]
     },
     "execution_count": 41,
     "metadata": {},
     "output_type": "execute_result"
    }
   ],
   "execution_count": 41
  },
  {
   "metadata": {
    "ExecuteTime": {
     "end_time": "2025-07-08T18:32:14.115151Z",
     "start_time": "2025-07-08T18:32:14.109038Z"
    }
   },
   "cell_type": "code",
   "source": [
    "#11\n",
    "s1.sort_values()"
   ],
   "id": "80b47d920e430c65",
   "outputs": [
    {
     "data": {
      "text/plain": [
       "0       100\n",
       "1       200\n",
       "3    300.12\n",
       "4       400\n",
       "2    python\n",
       "dtype: object"
      ]
     },
     "execution_count": 43,
     "metadata": {},
     "output_type": "execute_result"
    }
   ],
   "execution_count": 43
  },
  {
   "metadata": {
    "ExecuteTime": {
     "end_time": "2025-07-09T10:48:50.000180Z",
     "start_time": "2025-07-09T10:48:49.992749Z"
    }
   },
   "cell_type": "code",
   "source": [
    "#12\n",
    "new_s = pd.concat([s1, pd.Series([1, 2, 4, 5])], ignore_index=True)\n",
    "new_s"
   ],
   "id": "3d2bd51e3a12a5bb",
   "outputs": [
    {
     "data": {
      "text/plain": [
       "0       100\n",
       "1       200\n",
       "2    python\n",
       "3    300.12\n",
       "4       400\n",
       "5         1\n",
       "6         2\n",
       "7         4\n",
       "8         5\n",
       "dtype: object"
      ]
     },
     "execution_count": 61,
     "metadata": {},
     "output_type": "execute_result"
    }
   ],
   "execution_count": 61
  },
  {
   "metadata": {
    "ExecuteTime": {
     "end_time": "2025-07-09T10:56:10.074706Z",
     "start_time": "2025-07-09T10:56:10.063791Z"
    }
   },
   "cell_type": "code",
   "source": [
    "#13\n",
    "print(\"Original Series:\\n\", s)\n",
    "print(\"Subset of above series\\n\", s[s < 5])"
   ],
   "id": "ce977d6465ed0ec9",
   "outputs": [
    {
     "name": "stdout",
     "output_type": "stream",
     "text": [
      "Original Series:\n",
      " 0    1\n",
      "1    3\n",
      "2    5\n",
      "3    6\n",
      "4    3\n",
      "5    6\n",
      "dtype: int64\n",
      "Subset of above series\n",
      " 0    1\n",
      "1    3\n",
      "4    3\n",
      "dtype: int64\n"
     ]
    }
   ],
   "execution_count": 64
  },
  {
   "metadata": {
    "ExecuteTime": {
     "end_time": "2025-07-09T11:02:13.520637Z",
     "start_time": "2025-07-09T11:02:13.512715Z"
    }
   },
   "cell_type": "code",
   "source": [
    "#14\n",
    "s = pd.Series(data, index=['a', 'b', 'c', 'd', 'e', 'f'])\n",
    "print(\"Original Series:\\n\", s)\n",
    "s = s.reindex(['e', 'd', 'f', 'c', 'a', 'b'])\n",
    "print(\"Index reindexed:\\n\", s)"
   ],
   "id": "27f53ca2e17ae8bd",
   "outputs": [
    {
     "name": "stdout",
     "output_type": "stream",
     "text": [
      "Original Series:\n",
      " a    1\n",
      "b    3\n",
      "c    5\n",
      "d    6\n",
      "e    3\n",
      "f    6\n",
      "dtype: int64\n",
      "Index reindexed:\n",
      " e    3\n",
      "d    6\n",
      "f    6\n",
      "c    5\n",
      "a    1\n",
      "b    3\n",
      "dtype: int64\n"
     ]
    }
   ],
   "execution_count": 73
  },
  {
   "metadata": {
    "ExecuteTime": {
     "end_time": "2025-07-09T11:08:05.916251Z",
     "start_time": "2025-07-09T11:08:05.908705Z"
    }
   },
   "cell_type": "code",
   "source": [
    "#15\n",
    "s1 = pd.Series(data)\n",
    "print(\"Original Series:\\n\", s1)\n",
    "print(\"Mean values:\\n\", s.mean())\n",
    "print(f\"Standard deviations:\\n {s.std():.6f}\")\n"
   ],
   "id": "d405f741f8589087",
   "outputs": [
    {
     "name": "stdout",
     "output_type": "stream",
     "text": [
      "Original Series:\n",
      " 0    1\n",
      "1    3\n",
      "2    5\n",
      "3    6\n",
      "4    3\n",
      "5    6\n",
      "dtype: int64\n",
      "Mean values:\n",
      " 4.0\n",
      "Standard deviations:\n",
      " 2.000000\n"
     ]
    }
   ],
   "execution_count": 81
  },
  {
   "metadata": {
    "ExecuteTime": {
     "end_time": "2025-07-09T11:16:03.150150Z",
     "start_time": "2025-07-09T11:16:03.142961Z"
    }
   },
   "cell_type": "code",
   "source": [
    "#16\n",
    "print(\"Original Series:\\n\", s1)\n",
    "s2 = pd.Series([1, 2, 4, 5, 6])\n",
    "print(\"Original Series:\\n\", s2)\n",
    "print(\"Differences:\\n\", s1[~s1.isin(s2)])"
   ],
   "id": "3db498729dfadd28",
   "outputs": [
    {
     "name": "stdout",
     "output_type": "stream",
     "text": [
      "Original Series:\n",
      " 0    1\n",
      "1    3\n",
      "2    5\n",
      "3    6\n",
      "4    3\n",
      "5    6\n",
      "dtype: int64\n",
      "Original Series:\n",
      " 0    1\n",
      "1    2\n",
      "2    4\n",
      "3    5\n",
      "4    6\n",
      "dtype: int64\n",
      "Differences:\n",
      " 1    3\n",
      "4    3\n",
      "dtype: int64\n"
     ]
    }
   ],
   "execution_count": 89
  },
  {
   "metadata": {
    "ExecuteTime": {
     "end_time": "2025-07-09T11:23:34.246134Z",
     "start_time": "2025-07-09T11:23:34.238935Z"
    }
   },
   "cell_type": "code",
   "source": [
    "#17\n",
    "sr1 = pd.Series([1, 2, 3, 4, 5])\n",
    "sr2 = pd.Series([2, 4, 6, 8, 10])\n",
    "print(\"Original Series:\\n\", sr1)\n",
    "print(\"Original Series:\\n\", sr2)\n",
    "not_common = pd.concat([sr1[~sr1.isin(sr2)], sr2[~sr2.isin(sr1)]], ignore_index=True)\n",
    "print(\"Not common:\\n\", not_common)"
   ],
   "id": "16b8850a042dffab",
   "outputs": [
    {
     "name": "stdout",
     "output_type": "stream",
     "text": [
      "Original Series:\n",
      " 0    1\n",
      "1    2\n",
      "2    3\n",
      "3    4\n",
      "4    5\n",
      "dtype: int64\n",
      "Original Series:\n",
      " 0     2\n",
      "1     4\n",
      "2     6\n",
      "3     8\n",
      "4    10\n",
      "dtype: int64\n",
      "Not common:\n",
      " 0     1\n",
      "1     3\n",
      "2     5\n",
      "3     6\n",
      "4     8\n",
      "5    10\n",
      "dtype: int64\n"
     ]
    }
   ],
   "execution_count": 97
  },
  {
   "metadata": {
    "ExecuteTime": {
     "end_time": "2025-07-09T11:27:34.483348Z",
     "start_time": "2025-07-09T11:27:34.476047Z"
    }
   },
   "cell_type": "code",
   "source": [
    "#18\n",
    "num_state = np.random.RandomState(100)\n",
    "num_series = pd.Series(num_state.normal(10, 4, 20))\n",
    "print(num_series)\n",
    "print(\"Minimum values:\\n\", num_series.min())\n",
    "print(\"25th percentile:\\n\", num_series.quantile(0.25))\n",
    "print(\"Median values:\\n\", num_series.median())\n",
    "print(\"75th percentile:\\n\", num_series.quantile(0.75))\n",
    "print(\"Max values:\\n\", num_series.max())\n"
   ],
   "id": "bb2968a9df2ea4be",
   "outputs": [
    {
     "name": "stdout",
     "output_type": "stream",
     "text": [
      "0      3.000938\n",
      "1     11.370722\n",
      "2     14.612143\n",
      "3      8.990256\n",
      "4     13.925283\n",
      "5     12.056875\n",
      "6     10.884719\n",
      "7      5.719827\n",
      "8      9.242017\n",
      "9     11.020006\n",
      "10     8.167892\n",
      "11    11.740654\n",
      "12     7.665620\n",
      "13    13.267388\n",
      "14    12.690883\n",
      "15     9.582355\n",
      "16     7.874878\n",
      "17    14.118931\n",
      "18     8.247458\n",
      "19     5.526727\n",
      "dtype: float64\n",
      "Minimum values:\n",
      " 3.0009381077812103\n",
      "25th percentile:\n",
      " 8.094638666640218\n",
      "Median values:\n",
      " 10.233537051661546\n",
      "75th percentile:\n",
      " 12.215377329892807\n",
      "Max values:\n",
      " 14.612143210254576\n"
     ]
    }
   ],
   "execution_count": 105
  },
  {
   "metadata": {
    "ExecuteTime": {
     "end_time": "2025-07-09T14:27:03.464254Z",
     "start_time": "2025-07-09T14:27:03.457591Z"
    }
   },
   "cell_type": "code",
   "source": [
    "#19\n",
    "num_series = pd.Series(np.take(list('0123456789'), np.random.randint(10, size=40)))\n",
    "print(num_series)\n",
    "num_series.value_counts()"
   ],
   "id": "97077d95a8ec1c69",
   "outputs": [
    {
     "name": "stdout",
     "output_type": "stream",
     "text": [
      "0     5\n",
      "1     0\n",
      "2     8\n",
      "3     3\n",
      "4     0\n",
      "5     8\n",
      "6     6\n",
      "7     0\n",
      "8     6\n",
      "9     2\n",
      "10    9\n",
      "11    9\n",
      "12    9\n",
      "13    9\n",
      "14    1\n",
      "15    8\n",
      "16    3\n",
      "17    0\n",
      "18    5\n",
      "19    8\n",
      "20    2\n",
      "21    6\n",
      "22    4\n",
      "23    4\n",
      "24    9\n",
      "25    0\n",
      "26    9\n",
      "27    4\n",
      "28    0\n",
      "29    3\n",
      "30    4\n",
      "31    0\n",
      "32    3\n",
      "33    7\n",
      "34    6\n",
      "35    6\n",
      "36    3\n",
      "37    1\n",
      "38    9\n",
      "39    7\n",
      "dtype: object\n"
     ]
    },
    {
     "data": {
      "text/plain": [
       "0    7\n",
       "9    7\n",
       "6    5\n",
       "3    5\n",
       "4    4\n",
       "8    4\n",
       "5    2\n",
       "2    2\n",
       "1    2\n",
       "7    2\n",
       "Name: count, dtype: int64"
      ]
     },
     "execution_count": 123,
     "metadata": {},
     "output_type": "execute_result"
    }
   ],
   "execution_count": 123
  },
  {
   "metadata": {
    "ExecuteTime": {
     "end_time": "2025-07-09T14:23:08.600350Z",
     "start_time": "2025-07-09T14:23:08.594344Z"
    }
   },
   "cell_type": "code",
   "source": [
    "#20\n",
    "num_series.value_counts()\n",
    "result = num_series[~num_series.isin(num_series.value_counts().index[:1])] = 'Other'\n",
    "print(num_series)"
   ],
   "id": "4701b9ddabfa6de7",
   "outputs": [
    {
     "name": "stdout",
     "output_type": "stream",
     "text": [
      "0         4\n",
      "1     Other\n",
      "2     Other\n",
      "3     Other\n",
      "4         4\n",
      "5     Other\n",
      "6     Other\n",
      "7     Other\n",
      "8     Other\n",
      "9     Other\n",
      "10    Other\n",
      "11    Other\n",
      "12    Other\n",
      "13    Other\n",
      "14    Other\n",
      "15    Other\n",
      "16    Other\n",
      "17        4\n",
      "18    Other\n",
      "19    Other\n",
      "20    Other\n",
      "21        4\n",
      "22        4\n",
      "23    Other\n",
      "24    Other\n",
      "25        4\n",
      "26    Other\n",
      "27    Other\n",
      "28    Other\n",
      "29    Other\n",
      "30    Other\n",
      "31    Other\n",
      "32    Other\n",
      "33    Other\n",
      "34    Other\n",
      "35        4\n",
      "36    Other\n",
      "37    Other\n",
      "38    Other\n",
      "39        4\n",
      "dtype: object\n"
     ]
    }
   ],
   "execution_count": 120
  },
  {
   "metadata": {
    "ExecuteTime": {
     "end_time": "2025-07-11T10:07:49.328711Z",
     "start_time": "2025-07-11T10:07:49.323562Z"
    }
   },
   "cell_type": "code",
   "source": [
    "#21\n",
    "print(s1)\n",
    "pos = np.where(s1 % 5 == 0)\n",
    "pos"
   ],
   "id": "fca24cb0e12799f",
   "outputs": [
    {
     "name": "stdout",
     "output_type": "stream",
     "text": [
      "0    1\n",
      "1    3\n",
      "2    5\n",
      "3    6\n",
      "4    3\n",
      "5    6\n",
      "dtype: int64\n"
     ]
    },
    {
     "data": {
      "text/plain": [
       "(array([2]),)"
      ]
     },
     "execution_count": 145,
     "metadata": {},
     "output_type": "execute_result"
    }
   ],
   "execution_count": 145
  },
  {
   "metadata": {
    "ExecuteTime": {
     "end_time": "2025-07-11T10:09:46.071019Z",
     "start_time": "2025-07-11T10:09:46.062133Z"
    }
   },
   "cell_type": "code",
   "source": [
    "#22\n",
    "num_series = pd.Series(list('2390238923902390239023'))\n",
    "element_pos = [0, 2, 6, 11, 21]\n",
    "print(num_series.take(element_pos))"
   ],
   "id": "6d69d909430d13d8",
   "outputs": [
    {
     "name": "stdout",
     "output_type": "stream",
     "text": [
      "0     2\n",
      "2     9\n",
      "6     8\n",
      "11    0\n",
      "21    3\n",
      "dtype: object\n"
     ]
    }
   ],
   "execution_count": 147
  },
  {
   "metadata": {
    "ExecuteTime": {
     "end_time": "2025-07-11T10:24:08.780103Z",
     "start_time": "2025-07-11T10:24:08.774573Z"
    }
   },
   "cell_type": "code",
   "source": [
    "#23\n",
    "data_series = pd.Series(data)\n",
    "s2_series = pd.Series(s2)\n",
    "print(\"Original Series:\\n\", data_series)\n",
    "print(s2_series)\n",
    "\n",
    "s2_pos = np.where(data_series.isin(s2_series))\n",
    "s2_pos"
   ],
   "id": "167271df11badb45",
   "outputs": [
    {
     "name": "stdout",
     "output_type": "stream",
     "text": [
      "Original Series:\n",
      " 0    1\n",
      "1    3\n",
      "2    5\n",
      "3    6\n",
      "4    3\n",
      "5    6\n",
      "6    7\n",
      "7    8\n",
      "8    9\n",
      "dtype: int64\n",
      "0    1\n",
      "1    3\n",
      "2    5\n",
      "3    7\n",
      "4    9\n",
      "dtype: int64\n"
     ]
    },
    {
     "data": {
      "text/plain": [
       "(array([0, 1, 2, 4, 6, 8]),)"
      ]
     },
     "execution_count": 164,
     "metadata": {},
     "output_type": "execute_result"
    }
   ],
   "execution_count": 164
  },
  {
   "metadata": {
    "ExecuteTime": {
     "end_time": "2025-07-11T10:46:40.340940Z",
     "start_time": "2025-07-11T10:46:40.336040Z"
    }
   },
   "cell_type": "code",
   "source": [
    "#24\n",
    "print(\"Original Series:\\n\", str_series)\n",
    "str_series = str_series.apply(lambda x: x[0].upper() + x[1:-1] + x[-1].upper())\n",
    "str_series\n"
   ],
   "id": "8ac513c33f34c8da",
   "outputs": [
    {
     "name": "stdout",
     "output_type": "stream",
     "text": [
      "Original Series:\n",
      " 0       php\n",
      "1    python\n",
      "2      java\n",
      "3        c#\n",
      "dtype: object\n"
     ]
    },
    {
     "data": {
      "text/plain": [
       "0       PhP\n",
       "1    PythoN\n",
       "2      JavA\n",
       "3        C#\n",
       "dtype: object"
      ]
     },
     "execution_count": 203,
     "metadata": {},
     "output_type": "execute_result"
    }
   ],
   "execution_count": 203
  },
  {
   "metadata": {
    "ExecuteTime": {
     "end_time": "2025-07-11T11:10:48.880353Z",
     "start_time": "2025-07-11T11:10:48.875249Z"
    }
   },
   "cell_type": "code",
   "source": [
    "#25\n",
    "print(\"Original Series:\\n\", str_series)\n",
    "str_series.map(lambda x: len(x))"
   ],
   "id": "a8698dab15aa1a43",
   "outputs": [
    {
     "name": "stdout",
     "output_type": "stream",
     "text": [
      "Original Series:\n",
      " 0       PhP\n",
      "1    PythoN\n",
      "2      JavA\n",
      "3        C#\n",
      "dtype: object\n"
     ]
    },
    {
     "data": {
      "text/plain": [
       "0    3\n",
       "1    6\n",
       "2    4\n",
       "3    2\n",
       "dtype: int64"
      ]
     },
     "execution_count": 213,
     "metadata": {},
     "output_type": "execute_result"
    }
   ],
   "execution_count": 213
  },
  {
   "metadata": {
    "ExecuteTime": {
     "end_time": "2025-07-11T11:17:38.590862Z",
     "start_time": "2025-07-11T11:17:38.586599Z"
    }
   },
   "cell_type": "code",
   "source": [
    "#26\n",
    "print(\"Original Series:\\n\", data_series)\n",
    "print(data_series.diff().tolist())\n",
    "print(data_series.diff().diff().tolist())"
   ],
   "id": "35abf51004016943",
   "outputs": [
    {
     "name": "stdout",
     "output_type": "stream",
     "text": [
      "Original Series:\n",
      " 0    1\n",
      "1    3\n",
      "2    5\n",
      "3    6\n",
      "4    3\n",
      "5    6\n",
      "6    7\n",
      "7    8\n",
      "8    9\n",
      "dtype: int64\n",
      "[nan, 2.0, 2.0, 1.0, -3.0, 3.0, 1.0, 1.0, 1.0]\n",
      "[nan, nan, 0.0, -1.0, -4.0, 6.0, -2.0, 0.0, 0.0]\n"
     ]
    }
   ],
   "execution_count": 216
  },
  {
   "metadata": {
    "ExecuteTime": {
     "end_time": "2025-07-11T12:19:42.208887Z",
     "start_time": "2025-07-11T12:19:42.201380Z"
    }
   },
   "cell_type": "code",
   "source": [
    "#27\n",
    "print(date_series)\n",
    "date_series = date_series.apply(lambda x: pd.to_datetime(x))\n",
    "date_series"
   ],
   "id": "d609f2638d0af016",
   "outputs": [
    {
     "name": "stdout",
     "output_type": "stream",
     "text": [
      "0         01 Jan 2015\n",
      "1          10-02-2016\n",
      "2            20180307\n",
      "3          2014/05/06\n",
      "4          2016-04-12\n",
      "5    2019-04-06T11:20\n",
      "dtype: object\n"
     ]
    },
    {
     "data": {
      "text/plain": [
       "0   2015-01-01 00:00:00\n",
       "1   2016-10-02 00:00:00\n",
       "2   2018-03-07 00:00:00\n",
       "3   2014-05-06 00:00:00\n",
       "4   2016-04-12 00:00:00\n",
       "5   2019-04-06 11:20:00\n",
       "dtype: datetime64[ns]"
      ]
     },
     "execution_count": 222,
     "metadata": {},
     "output_type": "execute_result"
    }
   ],
   "execution_count": 222
  },
  {
   "metadata": {
    "ExecuteTime": {
     "end_time": "2025-07-11T12:43:13.182316Z",
     "start_time": "2025-07-11T12:43:13.170795Z"
    }
   },
   "cell_type": "code",
   "source": [
    "#28\n",
    "print(date_series)\n",
    "iso_date_series = date_series.apply(lambda x: pd.to_datetime(x))\n",
    "print(\"Day of month\\n\", iso_date_series.dt.day.tolist())\n",
    "print(\"Day of year\\n\", iso_date_series.dt.dayofyear.tolist())\n",
    "print(\"Week number\\n\", iso_date_series.dt.isocalendar().week.tolist())\n",
    "print(\"Day of the week\\n\", iso_date_series.dt.day_name().tolist())"
   ],
   "id": "d0c88b68824e2056",
   "outputs": [
    {
     "name": "stdout",
     "output_type": "stream",
     "text": [
      "0         01 Jan 2015\n",
      "1          10-02-2016\n",
      "2            20180307\n",
      "3          2014/05/06\n",
      "4          2016-04-12\n",
      "5    2019-04-06T11:20\n",
      "dtype: object\n",
      "Day of month\n",
      " [1, 2, 7, 6, 12, 6]\n",
      "Day of year\n",
      " [1, 276, 66, 126, 103, 96]\n",
      "Week number\n",
      " [1, 39, 10, 19, 15, 14]\n",
      "Day of the week\n",
      " ['Thursday', 'Sunday', 'Wednesday', 'Tuesday', 'Tuesday', 'Saturday']\n"
     ]
    }
   ],
   "execution_count": 257
  },
  {
   "metadata": {
    "ExecuteTime": {
     "end_time": "2025-07-11T12:50:11.766828Z",
     "start_time": "2025-07-11T12:50:11.761176Z"
    }
   },
   "cell_type": "code",
   "source": [
    "#29\n",
    "iso_date_series1 = date_series1.apply(lambda d: parse('11 ' + d))\n",
    "iso_date_series1"
   ],
   "id": "a1856d5dbf958ec5",
   "outputs": [
    {
     "data": {
      "text/plain": [
       "0   2015-01-11\n",
       "1   2016-02-11\n",
       "2   2017-03-11\n",
       "3   2018-04-11\n",
       "4   2019-05-11\n",
       "dtype: datetime64[ns]"
      ]
     },
     "execution_count": 265,
     "metadata": {},
     "output_type": "execute_result"
    }
   ],
   "execution_count": 265
  },
  {
   "metadata": {
    "ExecuteTime": {
     "end_time": "2025-07-11T13:33:45.437824Z",
     "start_time": "2025-07-11T13:33:45.432949Z"
    }
   },
   "cell_type": "code",
   "source": [
    "#30\n",
    "vowels = ['a', 'e', 'i', 'o', 'u']\n",
    "def count_vowels(word):\n",
    "    count = 0\n",
    "    for char in word.lower():\n",
    "        if char in vowels:\n",
    "            count += 1\n",
    "    return count >= 2\n",
    "\n",
    "new_color_series = color_series[color_series.apply(count_vowels)]\n",
    "new_color_series"
   ],
   "id": "f579435383ae9f03",
   "outputs": [
    {
     "data": {
      "text/plain": [
       "1     Green\n",
       "2    Orange\n",
       "4    Yellow\n",
       "5     White\n",
       "dtype: object"
      ]
     },
     "execution_count": 280,
     "metadata": {},
     "output_type": "execute_result"
    }
   ],
   "execution_count": 280
  },
  {
   "metadata": {},
   "cell_type": "code",
   "outputs": [],
   "execution_count": null,
   "source": "",
   "id": "1dcdd582a39e31ba"
  }
 ],
 "metadata": {
  "kernelspec": {
   "display_name": "Python 3",
   "language": "python",
   "name": "python3"
  },
  "language_info": {
   "codemirror_mode": {
    "name": "ipython",
    "version": 2
   },
   "file_extension": ".py",
   "mimetype": "text/x-python",
   "name": "python",
   "nbconvert_exporter": "python",
   "pygments_lexer": "ipython2",
   "version": "2.7.6"
  }
 },
 "nbformat": 4,
 "nbformat_minor": 5
}
