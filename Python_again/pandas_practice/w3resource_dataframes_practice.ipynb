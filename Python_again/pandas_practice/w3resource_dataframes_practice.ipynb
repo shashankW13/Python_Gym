{
 "cells": [
  {
   "cell_type": "code",
   "id": "initial_id",
   "metadata": {
    "collapsed": true,
    "ExecuteTime": {
     "end_time": "2025-07-13T10:51:24.376232Z",
     "start_time": "2025-07-13T10:51:24.371412Z"
    }
   },
   "source": [
    "import pandas as pd\n",
    "import numpy as np\n",
    "\n",
    "sample_data = {'X':[78,85,96,80,86], 'Y':[84,94,89,83,86],'Z':[86,97,96,72,83]}\n",
    "exam_data = {'name': ['Anastasia', 'Dima', 'Katherine', 'James', 'Emily', 'Michael', 'Matthew', 'Laura', 'Kevin', 'Jonas'],\n",
    "'score': [12.5, 9, 16.5, np.nan, 9, 20, 14.5, np.nan, 8, 19],\n",
    "'attempts': [1, 3, 2, 3, 2, 3, 1, 1, 2, 1],\n",
    "'qualify': ['yes', 'no', 'yes', 'no', 'no', 'yes', 'yes', 'no', 'no', 'yes']}\n",
    "labels = ['a', 'b', 'c', 'd', 'e', 'f', 'g', 'h', 'i', 'j']\n",
    "temp_df = pd.DataFrame({'col1': [1, 2, 3], 'col2': [4, 5, 6], 'col3': [7, 8, 9]})\n",
    "temp_df1 = pd.DataFrame({'col1': [1, 4, 3, 4, 5], 'col2': [4, 5, 6, 7, 8], 'col3': [7, 8, 9, 0, 1]})\n",
    "sample_city_data = pd.DataFrame({'name': ['Anastasia', 'Dima', 'Katherine', 'James', 'Emily', 'Michael', 'Matthew', 'Laura', 'Kevin', 'Jonas'],\n",
    "'city': ['California', 'Los Angeles', 'California', 'California', 'California', 'Los Angeles', 'Los Angeles', 'Georgia', 'Georgia', 'Los Angeles']})"
   ],
   "outputs": [],
   "execution_count": 129
  },
  {
   "metadata": {
    "ExecuteTime": {
     "end_time": "2025-07-13T08:25:36.008766Z",
     "start_time": "2025-07-13T08:25:35.997806Z"
    }
   },
   "cell_type": "code",
   "source": [
    "#1\n",
    "sample_df = pd.DataFrame(sample_data)\n",
    "print(sample_df)"
   ],
   "id": "1bed29e2b95eaed0",
   "outputs": [
    {
     "name": "stdout",
     "output_type": "stream",
     "text": [
      "    X   Y   Z\n",
      "0  78  84  86\n",
      "1  85  94  97\n",
      "2  96  89  96\n",
      "3  80  83  72\n",
      "4  86  86  83\n"
     ]
    }
   ],
   "execution_count": 4
  },
  {
   "metadata": {
    "ExecuteTime": {
     "end_time": "2025-07-13T09:29:16.507441Z",
     "start_time": "2025-07-13T09:29:16.502544Z"
    }
   },
   "cell_type": "code",
   "source": [
    "#2\n",
    "exam_df = pd.DataFrame(exam_data, index=labels)\n",
    "print(exam_df)"
   ],
   "id": "229ac3dfa4bbef94",
   "outputs": [
    {
     "name": "stdout",
     "output_type": "stream",
     "text": [
      "        name  score  attempts qualify\n",
      "a  Anastasia   12.5         1     yes\n",
      "b       Dima    9.0         3      no\n",
      "c  Katherine   16.5         2     yes\n",
      "d      James    NaN         3      no\n",
      "e      Emily    9.0         2      no\n",
      "f    Michael   20.0         3     yes\n",
      "g    Matthew   14.5         1     yes\n",
      "h      Laura    NaN         1      no\n",
      "i      Kevin    8.0         2      no\n",
      "j      Jonas   19.0         1     yes\n"
     ]
    }
   ],
   "execution_count": 84
  },
  {
   "metadata": {
    "ExecuteTime": {
     "end_time": "2025-07-13T08:27:39.654334Z",
     "start_time": "2025-07-13T08:27:39.640388Z"
    }
   },
   "cell_type": "code",
   "source": [
    "#3\n",
    "exam_df.info()"
   ],
   "id": "484363ac68556822",
   "outputs": [
    {
     "name": "stdout",
     "output_type": "stream",
     "text": [
      "<class 'pandas.core.frame.DataFrame'>\n",
      "Index: 10 entries, a to j\n",
      "Data columns (total 4 columns):\n",
      " #   Column    Non-Null Count  Dtype  \n",
      "---  ------    --------------  -----  \n",
      " 0   name      10 non-null     object \n",
      " 1   score     8 non-null      float64\n",
      " 2   attempts  10 non-null     int64  \n",
      " 3   qualify   10 non-null     object \n",
      "dtypes: float64(1), int64(1), object(2)\n",
      "memory usage: 400.0+ bytes\n"
     ]
    }
   ],
   "execution_count": 8
  },
  {
   "metadata": {
    "ExecuteTime": {
     "end_time": "2025-07-13T08:28:12.701516Z",
     "start_time": "2025-07-13T08:28:12.691561Z"
    }
   },
   "cell_type": "code",
   "source": [
    "#4\n",
    "exam_df.head(3)"
   ],
   "id": "1ffc41986c513545",
   "outputs": [
    {
     "data": {
      "text/plain": [
       "        name  score  attempts qualify\n",
       "a  Anastasia   12.5         1     yes\n",
       "b       Dima    9.0         3      no\n",
       "c  Katherine   16.5         2     yes"
      ],
      "text/html": [
       "<div>\n",
       "<style scoped>\n",
       "    .dataframe tbody tr th:only-of-type {\n",
       "        vertical-align: middle;\n",
       "    }\n",
       "\n",
       "    .dataframe tbody tr th {\n",
       "        vertical-align: top;\n",
       "    }\n",
       "\n",
       "    .dataframe thead th {\n",
       "        text-align: right;\n",
       "    }\n",
       "</style>\n",
       "<table border=\"1\" class=\"dataframe\">\n",
       "  <thead>\n",
       "    <tr style=\"text-align: right;\">\n",
       "      <th></th>\n",
       "      <th>name</th>\n",
       "      <th>score</th>\n",
       "      <th>attempts</th>\n",
       "      <th>qualify</th>\n",
       "    </tr>\n",
       "  </thead>\n",
       "  <tbody>\n",
       "    <tr>\n",
       "      <th>a</th>\n",
       "      <td>Anastasia</td>\n",
       "      <td>12.5</td>\n",
       "      <td>1</td>\n",
       "      <td>yes</td>\n",
       "    </tr>\n",
       "    <tr>\n",
       "      <th>b</th>\n",
       "      <td>Dima</td>\n",
       "      <td>9.0</td>\n",
       "      <td>3</td>\n",
       "      <td>no</td>\n",
       "    </tr>\n",
       "    <tr>\n",
       "      <th>c</th>\n",
       "      <td>Katherine</td>\n",
       "      <td>16.5</td>\n",
       "      <td>2</td>\n",
       "      <td>yes</td>\n",
       "    </tr>\n",
       "  </tbody>\n",
       "</table>\n",
       "</div>"
      ]
     },
     "execution_count": 9,
     "metadata": {},
     "output_type": "execute_result"
    }
   ],
   "execution_count": 9
  },
  {
   "metadata": {
    "ExecuteTime": {
     "end_time": "2025-07-13T08:28:58.202470Z",
     "start_time": "2025-07-13T08:28:58.194475Z"
    }
   },
   "cell_type": "code",
   "source": [
    "#5\n",
    "exam_df[['name', 'score']]"
   ],
   "id": "888a80e3c9010d02",
   "outputs": [
    {
     "data": {
      "text/plain": [
       "        name  score\n",
       "a  Anastasia   12.5\n",
       "b       Dima    9.0\n",
       "c  Katherine   16.5\n",
       "d      James    NaN\n",
       "e      Emily    9.0\n",
       "f    Michael   20.0\n",
       "g    Matthew   14.5\n",
       "h      Laura    NaN\n",
       "i      Kevin    8.0\n",
       "j      Jonas   19.0"
      ],
      "text/html": [
       "<div>\n",
       "<style scoped>\n",
       "    .dataframe tbody tr th:only-of-type {\n",
       "        vertical-align: middle;\n",
       "    }\n",
       "\n",
       "    .dataframe tbody tr th {\n",
       "        vertical-align: top;\n",
       "    }\n",
       "\n",
       "    .dataframe thead th {\n",
       "        text-align: right;\n",
       "    }\n",
       "</style>\n",
       "<table border=\"1\" class=\"dataframe\">\n",
       "  <thead>\n",
       "    <tr style=\"text-align: right;\">\n",
       "      <th></th>\n",
       "      <th>name</th>\n",
       "      <th>score</th>\n",
       "    </tr>\n",
       "  </thead>\n",
       "  <tbody>\n",
       "    <tr>\n",
       "      <th>a</th>\n",
       "      <td>Anastasia</td>\n",
       "      <td>12.5</td>\n",
       "    </tr>\n",
       "    <tr>\n",
       "      <th>b</th>\n",
       "      <td>Dima</td>\n",
       "      <td>9.0</td>\n",
       "    </tr>\n",
       "    <tr>\n",
       "      <th>c</th>\n",
       "      <td>Katherine</td>\n",
       "      <td>16.5</td>\n",
       "    </tr>\n",
       "    <tr>\n",
       "      <th>d</th>\n",
       "      <td>James</td>\n",
       "      <td>NaN</td>\n",
       "    </tr>\n",
       "    <tr>\n",
       "      <th>e</th>\n",
       "      <td>Emily</td>\n",
       "      <td>9.0</td>\n",
       "    </tr>\n",
       "    <tr>\n",
       "      <th>f</th>\n",
       "      <td>Michael</td>\n",
       "      <td>20.0</td>\n",
       "    </tr>\n",
       "    <tr>\n",
       "      <th>g</th>\n",
       "      <td>Matthew</td>\n",
       "      <td>14.5</td>\n",
       "    </tr>\n",
       "    <tr>\n",
       "      <th>h</th>\n",
       "      <td>Laura</td>\n",
       "      <td>NaN</td>\n",
       "    </tr>\n",
       "    <tr>\n",
       "      <th>i</th>\n",
       "      <td>Kevin</td>\n",
       "      <td>8.0</td>\n",
       "    </tr>\n",
       "    <tr>\n",
       "      <th>j</th>\n",
       "      <td>Jonas</td>\n",
       "      <td>19.0</td>\n",
       "    </tr>\n",
       "  </tbody>\n",
       "</table>\n",
       "</div>"
      ]
     },
     "execution_count": 10,
     "metadata": {},
     "output_type": "execute_result"
    }
   ],
   "execution_count": 10
  },
  {
   "metadata": {
    "ExecuteTime": {
     "end_time": "2025-07-13T08:35:40.684682Z",
     "start_time": "2025-07-13T08:35:40.677885Z"
    }
   },
   "cell_type": "code",
   "source": [
    "#6\n",
    "exam_df.iloc[[1, 3, 5, 6], [1, 3]]"
   ],
   "id": "77b645975e62e462",
   "outputs": [
    {
     "data": {
      "text/plain": [
       "   score qualify\n",
       "b    9.0      no\n",
       "d    NaN      no\n",
       "f   20.0     yes\n",
       "g   14.5     yes"
      ],
      "text/html": [
       "<div>\n",
       "<style scoped>\n",
       "    .dataframe tbody tr th:only-of-type {\n",
       "        vertical-align: middle;\n",
       "    }\n",
       "\n",
       "    .dataframe tbody tr th {\n",
       "        vertical-align: top;\n",
       "    }\n",
       "\n",
       "    .dataframe thead th {\n",
       "        text-align: right;\n",
       "    }\n",
       "</style>\n",
       "<table border=\"1\" class=\"dataframe\">\n",
       "  <thead>\n",
       "    <tr style=\"text-align: right;\">\n",
       "      <th></th>\n",
       "      <th>score</th>\n",
       "      <th>qualify</th>\n",
       "    </tr>\n",
       "  </thead>\n",
       "  <tbody>\n",
       "    <tr>\n",
       "      <th>b</th>\n",
       "      <td>9.0</td>\n",
       "      <td>no</td>\n",
       "    </tr>\n",
       "    <tr>\n",
       "      <th>d</th>\n",
       "      <td>NaN</td>\n",
       "      <td>no</td>\n",
       "    </tr>\n",
       "    <tr>\n",
       "      <th>f</th>\n",
       "      <td>20.0</td>\n",
       "      <td>yes</td>\n",
       "    </tr>\n",
       "    <tr>\n",
       "      <th>g</th>\n",
       "      <td>14.5</td>\n",
       "      <td>yes</td>\n",
       "    </tr>\n",
       "  </tbody>\n",
       "</table>\n",
       "</div>"
      ]
     },
     "execution_count": 13,
     "metadata": {},
     "output_type": "execute_result"
    }
   ],
   "execution_count": 13
  },
  {
   "metadata": {
    "ExecuteTime": {
     "end_time": "2025-07-13T08:41:27.347562Z",
     "start_time": "2025-07-13T08:41:27.337500Z"
    }
   },
   "cell_type": "code",
   "source": [
    "#7\n",
    "exam_df.loc[exam_df['attempts'] > 2]"
   ],
   "id": "d9cd60172884c860",
   "outputs": [
    {
     "data": {
      "text/plain": [
       "      name  score  attempts qualify\n",
       "b     Dima    9.0         3      no\n",
       "d    James    NaN         3      no\n",
       "f  Michael   20.0         3     yes"
      ],
      "text/html": [
       "<div>\n",
       "<style scoped>\n",
       "    .dataframe tbody tr th:only-of-type {\n",
       "        vertical-align: middle;\n",
       "    }\n",
       "\n",
       "    .dataframe tbody tr th {\n",
       "        vertical-align: top;\n",
       "    }\n",
       "\n",
       "    .dataframe thead th {\n",
       "        text-align: right;\n",
       "    }\n",
       "</style>\n",
       "<table border=\"1\" class=\"dataframe\">\n",
       "  <thead>\n",
       "    <tr style=\"text-align: right;\">\n",
       "      <th></th>\n",
       "      <th>name</th>\n",
       "      <th>score</th>\n",
       "      <th>attempts</th>\n",
       "      <th>qualify</th>\n",
       "    </tr>\n",
       "  </thead>\n",
       "  <tbody>\n",
       "    <tr>\n",
       "      <th>b</th>\n",
       "      <td>Dima</td>\n",
       "      <td>9.0</td>\n",
       "      <td>3</td>\n",
       "      <td>no</td>\n",
       "    </tr>\n",
       "    <tr>\n",
       "      <th>d</th>\n",
       "      <td>James</td>\n",
       "      <td>NaN</td>\n",
       "      <td>3</td>\n",
       "      <td>no</td>\n",
       "    </tr>\n",
       "    <tr>\n",
       "      <th>f</th>\n",
       "      <td>Michael</td>\n",
       "      <td>20.0</td>\n",
       "      <td>3</td>\n",
       "      <td>yes</td>\n",
       "    </tr>\n",
       "  </tbody>\n",
       "</table>\n",
       "</div>"
      ]
     },
     "execution_count": 20,
     "metadata": {},
     "output_type": "execute_result"
    }
   ],
   "execution_count": 20
  },
  {
   "metadata": {
    "ExecuteTime": {
     "end_time": "2025-07-13T08:44:42.842247Z",
     "start_time": "2025-07-13T08:44:42.839592Z"
    }
   },
   "cell_type": "code",
   "source": [
    "#8\n",
    "print(\"Rows:\" + str(exam_df.shape[0]))\n",
    "print(\"Columns:\" + str(exam_df.shape[1]))"
   ],
   "id": "d7866f3be5e786c0",
   "outputs": [
    {
     "name": "stdout",
     "output_type": "stream",
     "text": [
      "Rows:10\n",
      "Columns:4\n"
     ]
    }
   ],
   "execution_count": 24
  },
  {
   "metadata": {
    "ExecuteTime": {
     "end_time": "2025-07-13T08:49:30.120740Z",
     "start_time": "2025-07-13T08:49:30.112654Z"
    }
   },
   "cell_type": "code",
   "source": [
    "#9\n",
    "exam_df.loc[exam_df['score'].isnull()]"
   ],
   "id": "1a4381120626aa4a",
   "outputs": [
    {
     "data": {
      "text/plain": [
       "    name  score  attempts qualify\n",
       "d  James    NaN         3      no\n",
       "h  Laura    NaN         1      no"
      ],
      "text/html": [
       "<div>\n",
       "<style scoped>\n",
       "    .dataframe tbody tr th:only-of-type {\n",
       "        vertical-align: middle;\n",
       "    }\n",
       "\n",
       "    .dataframe tbody tr th {\n",
       "        vertical-align: top;\n",
       "    }\n",
       "\n",
       "    .dataframe thead th {\n",
       "        text-align: right;\n",
       "    }\n",
       "</style>\n",
       "<table border=\"1\" class=\"dataframe\">\n",
       "  <thead>\n",
       "    <tr style=\"text-align: right;\">\n",
       "      <th></th>\n",
       "      <th>name</th>\n",
       "      <th>score</th>\n",
       "      <th>attempts</th>\n",
       "      <th>qualify</th>\n",
       "    </tr>\n",
       "  </thead>\n",
       "  <tbody>\n",
       "    <tr>\n",
       "      <th>d</th>\n",
       "      <td>James</td>\n",
       "      <td>NaN</td>\n",
       "      <td>3</td>\n",
       "      <td>no</td>\n",
       "    </tr>\n",
       "    <tr>\n",
       "      <th>h</th>\n",
       "      <td>Laura</td>\n",
       "      <td>NaN</td>\n",
       "      <td>1</td>\n",
       "      <td>no</td>\n",
       "    </tr>\n",
       "  </tbody>\n",
       "</table>\n",
       "</div>"
      ]
     },
     "execution_count": 33,
     "metadata": {},
     "output_type": "execute_result"
    }
   ],
   "execution_count": 33
  },
  {
   "metadata": {
    "ExecuteTime": {
     "end_time": "2025-07-13T08:50:47.784333Z",
     "start_time": "2025-07-13T08:50:47.779906Z"
    }
   },
   "cell_type": "code",
   "source": [
    "#10\n",
    "print(\"Score between 15 and 20:\\n\", exam_df.loc[exam_df['score'].between(15, 20)])"
   ],
   "id": "7c95866933f0e00a",
   "outputs": [
    {
     "name": "stdout",
     "output_type": "stream",
     "text": [
      "Score between 15 and 20:\n",
      "         name  score  attempts qualify\n",
      "c  Katherine   16.5         2     yes\n",
      "f    Michael   20.0         3     yes\n",
      "j      Jonas   19.0         1     yes\n"
     ]
    }
   ],
   "execution_count": 34
  },
  {
   "metadata": {
    "ExecuteTime": {
     "end_time": "2025-07-13T08:55:09.153808Z",
     "start_time": "2025-07-13T08:55:09.148891Z"
    }
   },
   "cell_type": "code",
   "source": [
    "#11\n",
    "print(\"Attempts < 2 and score > 15:\\n\",\n",
    "      exam_df.loc[(exam_df['attempts'] < 2) & (exam_df['score'] > 15)])"
   ],
   "id": "c32460c8160b7cea",
   "outputs": [
    {
     "name": "stdout",
     "output_type": "stream",
     "text": [
      "Attempts < 2 and score > 15:\n",
      "     name  score  attempts qualify\n",
      "j  Jonas   19.0         1     yes\n"
     ]
    }
   ],
   "execution_count": 39
  },
  {
   "metadata": {
    "ExecuteTime": {
     "end_time": "2025-07-13T09:03:31.359608Z",
     "start_time": "2025-07-13T09:03:31.353703Z"
    }
   },
   "cell_type": "code",
   "source": [
    "#12\n",
    "print(\"Original df:\\n\", exam_df)\n",
    "exam_df.loc['d', 'score'] = 11.5\n",
    "print(\"Updated df:\\n\", exam_df)"
   ],
   "id": "ef04740c7d3941f6",
   "outputs": [
    {
     "name": "stdout",
     "output_type": "stream",
     "text": [
      "Original df:\n",
      "         name  score  attempts qualify\n",
      "a  Anastasia   12.5         1     yes\n",
      "b       Dima    9.0         3      no\n",
      "c  Katherine   16.5         2     yes\n",
      "d      James   11.5         3      no\n",
      "e      Emily    9.0         2      no\n",
      "f    Michael   20.0         3     yes\n",
      "g    Matthew   14.5         1     yes\n",
      "h      Laura    NaN         1      no\n",
      "i      Kevin    8.0         2      no\n",
      "j      Jonas   19.0         1     yes\n",
      "Updated df:\n",
      "         name  score  attempts qualify\n",
      "a  Anastasia   12.5         1     yes\n",
      "b       Dima    9.0         3      no\n",
      "c  Katherine   16.5         2     yes\n",
      "d      James   11.5         3      no\n",
      "e      Emily    9.0         2      no\n",
      "f    Michael   20.0         3     yes\n",
      "g    Matthew   14.5         1     yes\n",
      "h      Laura    NaN         1      no\n",
      "i      Kevin    8.0         2      no\n",
      "j      Jonas   19.0         1     yes\n"
     ]
    }
   ],
   "execution_count": 51
  },
  {
   "metadata": {
    "ExecuteTime": {
     "end_time": "2025-07-13T09:05:42.082934Z",
     "start_time": "2025-07-13T09:05:42.079545Z"
    }
   },
   "cell_type": "code",
   "source": [
    "#13\n",
    "print(\"Sum of examination attempts:\\n\",\n",
    "      sum(exam_df['attempts']))"
   ],
   "id": "740c25b5778c6312",
   "outputs": [
    {
     "name": "stdout",
     "output_type": "stream",
     "text": [
      "Sum of examination attempts:\n",
      " 19\n"
     ]
    }
   ],
   "execution_count": 55
  },
  {
   "metadata": {
    "ExecuteTime": {
     "end_time": "2025-07-13T09:06:24.978079Z",
     "start_time": "2025-07-13T09:06:24.974462Z"
    }
   },
   "cell_type": "code",
   "source": [
    "#14\n",
    "print(\"Mean of all scores:\\n\",\n",
    "      exam_df['score'].mean())"
   ],
   "id": "6d4b4b162b5fadfe",
   "outputs": [
    {
     "name": "stdout",
     "output_type": "stream",
     "text": [
      "Mean of all scores:\n",
      " 13.333333333333334\n"
     ]
    }
   ],
   "execution_count": 56
  },
  {
   "metadata": {
    "ExecuteTime": {
     "end_time": "2025-07-13T09:16:57.108327Z",
     "start_time": "2025-07-13T09:16:57.100887Z"
    }
   },
   "cell_type": "code",
   "source": [
    "#15\n",
    "print(\"Adding new row k to dataframe:\\n\")\n",
    "exam_df.loc['k'] = [1, 'Suresh', 'yes', 15.5]\n",
    "print(exam_df)\n",
    "print(\"\\nDeleting new row k from dataframe:\\n\")\n",
    "exam_df.drop('k', inplace=True)\n",
    "print(exam_df)"
   ],
   "id": "29bdb6a8664a3a96",
   "outputs": [
    {
     "name": "stdout",
     "output_type": "stream",
     "text": [
      "Adding new row k to dataframe:\n",
      "\n",
      "        name   score attempts qualify\n",
      "a  Anastasia    12.5        1     yes\n",
      "b       Dima     9.0        3      no\n",
      "c  Katherine    16.5        2     yes\n",
      "d      James     NaN        3      no\n",
      "e      Emily     9.0        2      no\n",
      "f    Michael    20.0        3     yes\n",
      "g    Matthew    14.5        1     yes\n",
      "h      Laura     NaN        1      no\n",
      "i      Kevin     8.0        2      no\n",
      "j      Jonas    19.0        1     yes\n",
      "k          1  Suresh      yes    15.5\n",
      "\n",
      "Deleting new row k from dataframe:\n",
      "\n",
      "        name score attempts qualify\n",
      "a  Anastasia  12.5        1     yes\n",
      "b       Dima   9.0        3      no\n",
      "c  Katherine  16.5        2     yes\n",
      "d      James   NaN        3      no\n",
      "e      Emily   9.0        2      no\n",
      "f    Michael  20.0        3     yes\n",
      "g    Matthew  14.5        1     yes\n",
      "h      Laura   NaN        1      no\n",
      "i      Kevin   8.0        2      no\n",
      "j      Jonas  19.0        1     yes\n"
     ]
    }
   ],
   "execution_count": 67
  },
  {
   "metadata": {
    "ExecuteTime": {
     "end_time": "2025-07-13T09:19:29.366923Z",
     "start_time": "2025-07-13T09:19:29.356403Z"
    }
   },
   "cell_type": "code",
   "source": [
    "#16\n",
    "print(\"Sorting dataframe by name in descending order, then score in ascending order:\\n\",\n",
    "      exam_df.sort_values(['name', 'score'], ascending=[False, True]))"
   ],
   "id": "671adb246e2569b7",
   "outputs": [
    {
     "name": "stdout",
     "output_type": "stream",
     "text": [
      "Sorting dataframe by name in descending order, then score in ascending order:\n",
      "         name score attempts qualify\n",
      "f    Michael  20.0        3     yes\n",
      "g    Matthew  14.5        1     yes\n",
      "h      Laura   NaN        1      no\n",
      "i      Kevin   8.0        2      no\n",
      "c  Katherine  16.5        2     yes\n",
      "j      Jonas  19.0        1     yes\n",
      "d      James   NaN        3      no\n",
      "e      Emily   9.0        2      no\n",
      "b       Dima   9.0        3      no\n",
      "a  Anastasia  12.5        1     yes\n"
     ]
    }
   ],
   "execution_count": 69
  },
  {
   "metadata": {
    "ExecuteTime": {
     "end_time": "2025-07-13T09:26:47.896096Z",
     "start_time": "2025-07-13T09:26:47.890309Z"
    }
   },
   "cell_type": "code",
   "source": [
    "#17\n",
    "print(\"Replacing 'qualify' column with True and False:\\n\")\n",
    "exam_df['qualify'] = exam_df['qualify'].map({'yes': True, 'no': False})\n",
    "print(exam_df)"
   ],
   "id": "91ac7375c04363f",
   "outputs": [
    {
     "name": "stdout",
     "output_type": "stream",
     "text": [
      "Replacing 'qualify' column with True and False:\n",
      "\n",
      "        name  score  attempts  qualify\n",
      "a  Anastasia   12.5         1     True\n",
      "b       Dima    9.0         3    False\n",
      "c  Katherine   16.5         2     True\n",
      "d      James    NaN         3    False\n",
      "e      Emily    9.0         2    False\n",
      "f    Michael   20.0         3     True\n",
      "g    Matthew   14.5         1     True\n",
      "h      Laura    NaN         1    False\n",
      "i      Kevin    8.0         2    False\n",
      "j      Jonas   19.0         1     True\n"
     ]
    }
   ],
   "execution_count": 81
  },
  {
   "metadata": {
    "ExecuteTime": {
     "end_time": "2025-07-13T09:31:40.450800Z",
     "start_time": "2025-07-13T09:31:40.444979Z"
    }
   },
   "cell_type": "code",
   "source": [
    "#18\n",
    "print(\"Changing name from James to Suresh:\\n\" )\n",
    "exam_df.loc[exam_df['name'] == 'James', 'name'] = 'Suresh'\n",
    "print(exam_df)"
   ],
   "id": "f5d5fdb04f77637a",
   "outputs": [
    {
     "name": "stdout",
     "output_type": "stream",
     "text": [
      "Changing name from James to Suresh:\n",
      "\n",
      "        name  score  attempts qualify\n",
      "a  Anastasia   12.5         1     yes\n",
      "b       Dima    9.0         3      no\n",
      "c  Katherine   16.5         2     yes\n",
      "d     Suresh    NaN         3      no\n",
      "e      Emily    9.0         2      no\n",
      "f    Michael   20.0         3     yes\n",
      "g    Matthew   14.5         1     yes\n",
      "h      Laura    NaN         1      no\n",
      "i      Kevin    8.0         2      no\n",
      "j      Jonas   19.0         1     yes\n"
     ]
    }
   ],
   "execution_count": 86
  },
  {
   "metadata": {
    "ExecuteTime": {
     "end_time": "2025-07-13T09:37:27.356748Z",
     "start_time": "2025-07-13T09:37:27.348991Z"
    }
   },
   "cell_type": "code",
   "source": [
    "#19 #20\n",
    "print(\"Adding a new column to dataframe:\\n\")\n",
    "exam_df['temp'] = [13, 42, 64, 6, 4, 5235, 66, 5, 34 ,53]\n",
    "print(exam_df)\n",
    "print(\"Deleting new column from dataframe:\\n\")\n",
    "exam_df.drop('temp', axis=1, inplace=True)\n",
    "print(exam_df)"
   ],
   "id": "18c22ff1252bbbae",
   "outputs": [
    {
     "name": "stdout",
     "output_type": "stream",
     "text": [
      "Adding a new column to dataframe:\n",
      "\n",
      "        name  score  attempts qualify  temp\n",
      "a  Anastasia   12.5         1     yes    13\n",
      "b       Dima    9.0         3      no    42\n",
      "c  Katherine   16.5         2     yes    64\n",
      "d     Suresh    NaN         3      no     6\n",
      "e      Emily    9.0         2      no     4\n",
      "f    Michael   20.0         3     yes  5235\n",
      "g    Matthew   14.5         1     yes    66\n",
      "h      Laura    NaN         1      no     5\n",
      "i      Kevin    8.0         2      no    34\n",
      "j      Jonas   19.0         1     yes    53\n",
      "Deleting new column from dataframe:\n",
      "\n",
      "        name  score  attempts qualify\n",
      "a  Anastasia   12.5         1     yes\n",
      "b       Dima    9.0         3      no\n",
      "c  Katherine   16.5         2     yes\n",
      "d     Suresh    NaN         3      no\n",
      "e      Emily    9.0         2      no\n",
      "f    Michael   20.0         3     yes\n",
      "g    Matthew   14.5         1     yes\n",
      "h      Laura    NaN         1      no\n",
      "i      Kevin    8.0         2      no\n",
      "j      Jonas   19.0         1     yes\n"
     ]
    }
   ],
   "execution_count": 89
  },
  {
   "metadata": {
    "ExecuteTime": {
     "end_time": "2025-07-13T09:49:50.593985Z",
     "start_time": "2025-07-13T09:49:50.589991Z"
    }
   },
   "cell_type": "code",
   "source": [
    "#21\n",
    "def display_name_score(rows):\n",
    "    return f\"{rows['name']} {rows['score']}\"\n",
    "\n",
    "result = exam_df.apply(display_name_score, axis=1)\n",
    "for res in result:\n",
    "    print(res)"
   ],
   "id": "cea39d92f3bc9b03",
   "outputs": [
    {
     "name": "stdout",
     "output_type": "stream",
     "text": [
      "Anastasia 12.5\n",
      "Dima 9.0\n",
      "Katherine 16.5\n",
      "Suresh nan\n",
      "Emily 9.0\n",
      "Michael 20.0\n",
      "Matthew 14.5\n",
      "Laura nan\n",
      "Kevin 8.0\n",
      "Jonas 19.0\n"
     ]
    }
   ],
   "execution_count": 93
  },
  {
   "metadata": {
    "ExecuteTime": {
     "end_time": "2025-07-13T10:21:59.498993Z",
     "start_time": "2025-07-13T10:21:59.495977Z"
    }
   },
   "cell_type": "code",
   "source": [
    "#22\n",
    "print(\"Column headers:\\n\", exam_df.columns.tolist())"
   ],
   "id": "3556d770fee8325f",
   "outputs": [
    {
     "name": "stdout",
     "output_type": "stream",
     "text": [
      "Column headers:\n",
      " ['name', 'score', 'attempts', 'qualify']\n"
     ]
    }
   ],
   "execution_count": 95
  },
  {
   "metadata": {
    "ExecuteTime": {
     "end_time": "2025-07-13T10:27:43.019277Z",
     "start_time": "2025-07-13T10:27:43.014559Z"
    }
   },
   "cell_type": "code",
   "source": [
    "#23\n",
    "print(\"Original dataframe:\\n\", temp_df)\n",
    "temp_df.columns = ['Column1', 'Column2', 'Column3']\n",
    "print(\"New column headers:\\n\", temp_df)"
   ],
   "id": "2fb45d9e2fc16964",
   "outputs": [
    {
     "name": "stdout",
     "output_type": "stream",
     "text": [
      "Original dataframe:\n",
      "    col1  col2  col3\n",
      "0     1     4     7\n",
      "1     2     5     8\n",
      "2     3     6     9\n",
      "New column headers:\n",
      "    Column1  Column2  Column3\n",
      "0        1        4        7\n",
      "1        2        5        8\n",
      "2        3        6        9\n"
     ]
    }
   ],
   "execution_count": 106
  },
  {
   "metadata": {
    "ExecuteTime": {
     "end_time": "2025-07-13T10:31:29.334231Z",
     "start_time": "2025-07-13T10:31:29.328999Z"
    }
   },
   "cell_type": "code",
   "source": [
    "#24\n",
    "print(\"Original dataframe:\\n\", temp_df1)\n",
    "print(\"Rows with column1 = 4:\\n\", temp_df1.loc[temp_df1['col1'] == 4])"
   ],
   "id": "861b164081e4a1e",
   "outputs": [
    {
     "name": "stdout",
     "output_type": "stream",
     "text": [
      "Original dataframe:\n",
      "    col1  col2  col3\n",
      "0     1     4     7\n",
      "1     4     5     8\n",
      "2     3     6     9\n",
      "3     4     7     0\n",
      "4     5     8     1\n",
      "Rows with column1 = 4:\n",
      "    col1  col2  col3\n",
      "1     4     5     8\n",
      "3     4     7     0\n"
     ]
    }
   ],
   "execution_count": 111
  },
  {
   "metadata": {
    "ExecuteTime": {
     "end_time": "2025-07-13T10:34:32.293272Z",
     "start_time": "2025-07-13T10:34:32.288511Z"
    }
   },
   "cell_type": "code",
   "source": [
    "#25\n",
    "print(\"Original dataframe:\\n\", temp_df1)\n",
    "temp_df1_reordered = temp_df1.iloc[:, [0, 2, 1]]\n",
    "print(temp_df1_reordered)"
   ],
   "id": "43795e208919ee3c",
   "outputs": [
    {
     "name": "stdout",
     "output_type": "stream",
     "text": [
      "Original dataframe:\n",
      "    col1  col2  col3\n",
      "0     1     4     7\n",
      "1     4     5     8\n",
      "2     3     6     9\n",
      "3     4     7     0\n",
      "4     5     8     1\n",
      "   col1  col3  col2\n",
      "0     1     7     4\n",
      "1     4     8     5\n",
      "2     3     9     6\n",
      "3     4     0     7\n",
      "4     5     1     8\n"
     ]
    }
   ],
   "execution_count": 113
  },
  {
   "metadata": {
    "ExecuteTime": {
     "end_time": "2025-07-13T10:42:48.939866Z",
     "start_time": "2025-07-13T10:42:48.933604Z"
    }
   },
   "cell_type": "code",
   "source": [
    "#26\n",
    "print(\"Original dataframe:\\n\", temp_df1)\n",
    "new_row = pd.DataFrame([{'col1': 12, 'col2': 44, 'col3': 5}])\n",
    "temp_df1 = pd.concat([temp_df1, new_row], ignore_index=True)\n",
    "print(temp_df1)"
   ],
   "id": "d49d9166f4e7fb95",
   "outputs": [
    {
     "name": "stdout",
     "output_type": "stream",
     "text": [
      "Original dataframe:\n",
      "    col1  col2  col3\n",
      "0     1     4     7\n",
      "1     4     5     8\n",
      "2     3     6     9\n",
      "3     4     7     0\n",
      "4     5     8     1\n",
      "   col1  col2  col3\n",
      "0     1     4     7\n",
      "1     4     5     8\n",
      "2     3     6     9\n",
      "3     4     7     0\n",
      "4     5     8     1\n",
      "5    12    44     5\n"
     ]
    }
   ],
   "execution_count": 121
  },
  {
   "metadata": {
    "ExecuteTime": {
     "end_time": "2025-07-13T10:50:00.812445Z",
     "start_time": "2025-07-13T10:50:00.804324Z"
    }
   },
   "cell_type": "code",
   "source": [
    "#27\n",
    "print(\"Original dataframe:\\n\", temp_df1)\n",
    "new_csv = temp_df1.to_csv('new_file.csv', index=False, sep='\\t')\n",
    "new_tempdf1 = pd.read_csv('new_file.csv')\n",
    "print(new_tempdf1)"
   ],
   "id": "919beb68201ced1d",
   "outputs": [
    {
     "name": "stdout",
     "output_type": "stream",
     "text": [
      "Original dataframe:\n",
      "    col1  col2  col3\n",
      "0     1     4     7\n",
      "1     4     5     8\n",
      "2     3     6     9\n",
      "3     4     7     0\n",
      "4     5     8     1\n",
      "5    12    44     5\n",
      "  col1\\tcol2\\tcol3\n",
      "0          1\\t4\\t7\n",
      "1          4\\t5\\t8\n",
      "2          3\\t6\\t9\n",
      "3          4\\t7\\t0\n",
      "4          5\\t8\\t1\n",
      "5        12\\t44\\t5\n"
     ]
    }
   ],
   "execution_count": 128
  },
  {
   "metadata": {
    "ExecuteTime": {
     "end_time": "2025-07-13T10:53:10.501671Z",
     "start_time": "2025-07-13T10:53:10.494571Z"
    }
   },
   "cell_type": "code",
   "source": [
    "#28\n",
    "print(\"City wise number of people:\\n\")\n",
    "sample_city_data.groupby('city')['name'].count()"
   ],
   "id": "d6b370d15f90414f",
   "outputs": [
    {
     "name": "stdout",
     "output_type": "stream",
     "text": [
      "City wise number of people:\n",
      "\n"
     ]
    },
    {
     "data": {
      "text/plain": [
       "city\n",
       "California     4\n",
       "Georgia        2\n",
       "Los Angeles    4\n",
       "Name: name, dtype: int64"
      ]
     },
     "execution_count": 132,
     "metadata": {},
     "output_type": "execute_result"
    }
   ],
   "execution_count": 132
  },
  {
   "metadata": {
    "ExecuteTime": {
     "end_time": "2025-07-13T11:00:54.429940Z",
     "start_time": "2025-07-13T11:00:54.422872Z"
    }
   },
   "cell_type": "code",
   "source": [
    "#29\n",
    "print(\"Original dataframe:\\n\", temp_df1)\n",
    "temp_df1.drop(temp_df1[temp_df1['col3'] == 8].index, inplace=True)\n",
    "print(temp_df1)"
   ],
   "id": "c223b42e28fdb1d3",
   "outputs": [
    {
     "name": "stdout",
     "output_type": "stream",
     "text": [
      "Original dataframe:\n",
      "    col1  col2  col3\n",
      "0     1     4     7\n",
      "1     4     5     8\n",
      "2     3     6     9\n",
      "3     4     7     0\n",
      "4     5     8     1\n",
      "   col1  col2  col3\n",
      "0     1     4     7\n",
      "2     3     6     9\n",
      "3     4     7     0\n",
      "4     5     8     1\n"
     ]
    }
   ],
   "execution_count": 141
  },
  {
   "metadata": {
    "ExecuteTime": {
     "end_time": "2025-07-13T11:03:44.896870Z",
     "start_time": "2025-07-13T11:03:44.892034Z"
    }
   },
   "cell_type": "code",
   "source": [
    "#30\n",
    "print(\"Original dataframe:\\n\", temp_df1)\n",
    "pd.set_option('display.max_columns', 100)\n",
    "pd.set_option('display.max_rows', 100)\n",
    "pd.set_option('display.width', 1000)\n",
    "print(temp_df1)\n",
    "\n"
   ],
   "id": "f2d008a104a6c678",
   "outputs": [
    {
     "name": "stdout",
     "output_type": "stream",
     "text": [
      "Original dataframe:\n",
      "    col1  col2  col3\n",
      "0     1     4     7\n",
      "2     3     6     9\n",
      "3     4     7     0\n",
      "4     5     8     1\n",
      "   col1  col2  col3\n",
      "0     1     4     7\n",
      "2     3     6     9\n",
      "3     4     7     0\n",
      "4     5     8     1\n"
     ]
    }
   ],
   "execution_count": 143
  },
  {
   "metadata": {},
   "cell_type": "code",
   "outputs": [],
   "execution_count": null,
   "source": "",
   "id": "173c141aa2afc5b2"
  }
 ],
 "metadata": {
  "kernelspec": {
   "display_name": "Python 3",
   "language": "python",
   "name": "python3"
  },
  "language_info": {
   "codemirror_mode": {
    "name": "ipython",
    "version": 2
   },
   "file_extension": ".py",
   "mimetype": "text/x-python",
   "name": "python",
   "nbconvert_exporter": "python",
   "pygments_lexer": "ipython2",
   "version": "2.7.6"
  }
 },
 "nbformat": 4,
 "nbformat_minor": 5
}
