{
 "cells": [
  {
   "cell_type": "code",
   "id": "initial_id",
   "metadata": {
    "collapsed": true,
    "ExecuteTime": {
     "end_time": "2025-06-13T04:19:22.965670Z",
     "start_time": "2025-06-13T04:19:22.962981Z"
    }
   },
   "source": [
    "#INT AND FLOAT\n",
    "import random\n",
    "from itertools import count\n",
    "from operator import index\n",
    "\n",
    "FLOAT_NUMBER = round(random.uniform(1, 100), 3)\n",
    "INT_NUMBER = random.randrange(1, 1000)"
   ],
   "outputs": [],
   "execution_count": 91
  },
  {
   "metadata": {
    "ExecuteTime": {
     "end_time": "2025-06-13T04:17:31.687008Z",
     "start_time": "2025-06-13T04:17:23.592441Z"
    }
   },
   "cell_type": "code",
   "source": [
    "#1\n",
    "print(\"Difference = \", int(input(\"Enter random num1: \")) -\n",
    "                        int(input(\"Enter random num2: \")))"
   ],
   "id": "e5feb8394b5bc620",
   "outputs": [
    {
     "name": "stdout",
     "output_type": "stream",
     "text": [
      "Difference =  -4553\n"
     ]
    }
   ],
   "execution_count": 84
  },
  {
   "metadata": {
    "ExecuteTime": {
     "end_time": "2025-06-13T04:19:30.116406Z",
     "start_time": "2025-06-13T04:19:26.267307Z"
    }
   },
   "cell_type": "code",
   "source": [
    "#2\n",
    "print(\"Result = \", FLOAT_NUMBER * INT_NUMBER)\n",
    "print(\"Result = \", float(input(\"Enter random num1: \")) *\n",
    "                    int(input(\"Enter random num2: \")))"
   ],
   "id": "d1cba726bf06c122",
   "outputs": [
    {
     "name": "stdout",
     "output_type": "stream",
     "text": [
      "Result =  8532.875\n",
      "Result =  1710.0\n"
     ]
    }
   ],
   "execution_count": 92
  },
  {
   "metadata": {
    "ExecuteTime": {
     "end_time": "2025-06-13T03:30:24.008494Z",
     "start_time": "2025-06-13T03:30:24.005311Z"
    }
   },
   "cell_type": "code",
   "source": [
    "#3\n",
    "print(\"Remainder = \", random.randint(0, 100) % 2)"
   ],
   "id": "23cc4e8422f382be",
   "outputs": [
    {
     "name": "stdout",
     "output_type": "stream",
     "text": [
      "Remainder =  1\n"
     ]
    }
   ],
   "execution_count": 12
  },
  {
   "metadata": {
    "ExecuteTime": {
     "end_time": "2025-06-13T03:32:16.723477Z",
     "start_time": "2025-06-13T03:32:14.501168Z"
    }
   },
   "cell_type": "code",
   "source": [
    "#4\n",
    "print(\"Divisible by 7 = \", True if int(input(\"Enter random num: \")) % 7 == 0 else False)"
   ],
   "id": "627e378d5d2580d7",
   "outputs": [
    {
     "name": "stdout",
     "output_type": "stream",
     "text": [
      "Divisible by 7 =  False\n"
     ]
    }
   ],
   "execution_count": 16
  },
  {
   "metadata": {
    "ExecuteTime": {
     "end_time": "2025-06-13T04:19:50.248630Z",
     "start_time": "2025-06-13T04:19:50.246026Z"
    }
   },
   "cell_type": "code",
   "source": [
    "#5\n",
    "print(\"Rounded to 1 decimal place = \", round(FLOAT_NUMBER, 1))"
   ],
   "id": "90a76f36f5cff19",
   "outputs": [
    {
     "name": "stdout",
     "output_type": "stream",
     "text": [
      "Rounded to 1 decimal place =  26.3\n"
     ]
    }
   ],
   "execution_count": 95
  },
  {
   "metadata": {
    "ExecuteTime": {
     "end_time": "2025-06-13T04:20:30.961604Z",
     "start_time": "2025-06-13T04:20:30.958898Z"
    }
   },
   "cell_type": "code",
   "source": [
    "#6\n",
    "int_num = 10\n",
    "print(f\"Integer number = {INT_NUMBER}\\nFloat number = {float(INT_NUMBER)}\")\n"
   ],
   "id": "1c06b9897eb39739",
   "outputs": [
    {
     "name": "stdout",
     "output_type": "stream",
     "text": [
      "Integer number = 325\n",
      "Float number = 325.0\n"
     ]
    }
   ],
   "execution_count": 97
  },
  {
   "metadata": {
    "ExecuteTime": {
     "end_time": "2025-06-13T04:20:39.724980Z",
     "start_time": "2025-06-13T04:20:39.721829Z"
    }
   },
   "cell_type": "code",
   "source": [
    "#7\n",
    "print(f\"Integer part of {FLOAT_NUMBER} = \", int(FLOAT_NUMBER))"
   ],
   "id": "dd1e23b42f49d84f",
   "outputs": [
    {
     "name": "stdout",
     "output_type": "stream",
     "text": [
      "Integer part of 26.255 =  26\n"
     ]
    }
   ],
   "execution_count": 99
  },
  {
   "metadata": {
    "ExecuteTime": {
     "end_time": "2025-06-13T04:20:48.441642Z",
     "start_time": "2025-06-13T04:20:44.557105Z"
    }
   },
   "cell_type": "code",
   "source": [
    "#8\n",
    "print(\"Last digit of a number 35727 = \", INT_NUMBER % 10)\n",
    "print(\"Last digit of a number = \", int(input(\"Enter random num: \")) % 10)"
   ],
   "id": "739f16a4998bb426",
   "outputs": [
    {
     "name": "stdout",
     "output_type": "stream",
     "text": [
      "Last digit of a number 35727 =  5\n",
      "Last digit of a number =  4\n"
     ]
    }
   ],
   "execution_count": 100
  },
  {
   "metadata": {
    "ExecuteTime": {
     "end_time": "2025-06-13T04:21:01.838607Z",
     "start_time": "2025-06-13T04:21:01.836032Z"
    }
   },
   "cell_type": "code",
   "source": [
    "#9\n",
    "print(\"Result = \", (INT_NUMBER + 10) - 5)"
   ],
   "id": "6e5e78d24e5644f9",
   "outputs": [
    {
     "name": "stdout",
     "output_type": "stream",
     "text": [
      "Result =  330\n"
     ]
    }
   ],
   "execution_count": 101
  },
  {
   "metadata": {
    "ExecuteTime": {
     "end_time": "2025-06-13T04:21:07.566515Z",
     "start_time": "2025-06-13T04:21:07.562933Z"
    }
   },
   "cell_type": "code",
   "source": [
    "#10\n",
    "principal_amount = 10000\n",
    "time_period = 2\n",
    "rate_of_interest = 7\n",
    "\n",
    "print(\"Simple Interest = \",\n",
    "      (principal_amount * time_period * rate_of_interest) / 100)\n"
   ],
   "id": "de9ac2b6affc5fa",
   "outputs": [
    {
     "name": "stdout",
     "output_type": "stream",
     "text": [
      "Simple Interest =  1400.0\n"
     ]
    }
   ],
   "execution_count": 102
  },
  {
   "metadata": {
    "ExecuteTime": {
     "end_time": "2025-06-13T04:23:20.358822Z",
     "start_time": "2025-06-13T04:23:20.356419Z"
    }
   },
   "cell_type": "code",
   "source": [
    "#STRING\n",
    "RANDOM_STRING = \"Encyclopedia\"\n",
    "RANDOM_STRING2 = \"Shadow\""
   ],
   "id": "e29ba6c252fcb68f",
   "outputs": [],
   "execution_count": 106
  },
  {
   "metadata": {
    "ExecuteTime": {
     "end_time": "2025-06-13T03:51:16.884381Z",
     "start_time": "2025-06-13T03:51:14.086384Z"
    }
   },
   "cell_type": "code",
   "source": [
    "#11\n",
    "name = input(\"Enter your name: \")\n",
    "print(f\"First char = {name[0]}\\nLast char = {name[-1]}\")"
   ],
   "id": "8f9f4303de6c892d",
   "outputs": [
    {
     "name": "stdout",
     "output_type": "stream",
     "text": [
      "First char = s\n",
      "Last char = w\n"
     ]
    }
   ],
   "execution_count": 37
  },
  {
   "metadata": {
    "ExecuteTime": {
     "end_time": "2025-06-13T03:52:26.365191Z",
     "start_time": "2025-06-13T03:52:26.362388Z"
    }
   },
   "cell_type": "code",
   "source": [
    "#12\n",
    "print(\"Upper case = \", RANDOM_STRING.upper())"
   ],
   "id": "193d4c30abde01f1",
   "outputs": [
    {
     "name": "stdout",
     "output_type": "stream",
     "text": [
      "SHADOW\n"
     ]
    }
   ],
   "execution_count": 40
  },
  {
   "metadata": {
    "ExecuteTime": {
     "end_time": "2025-06-13T03:52:41.215707Z",
     "start_time": "2025-06-13T03:52:41.212982Z"
    }
   },
   "cell_type": "code",
   "source": [
    "#13\n",
    "print(\"Lower case = \", RANDOM_STRING.lower())"
   ],
   "id": "aa1e3e6206bd27d0",
   "outputs": [
    {
     "name": "stdout",
     "output_type": "stream",
     "text": [
      "shadow\n"
     ]
    }
   ],
   "execution_count": 41
  },
  {
   "metadata": {
    "ExecuteTime": {
     "end_time": "2025-06-13T03:55:32.546735Z",
     "start_time": "2025-06-13T03:55:32.543943Z"
    }
   },
   "cell_type": "code",
   "source": [
    "#14\n",
    "print(\"First occurrence of a = \",\n",
    "      RANDOM_STRING.index('a') if 'a' in RANDOM_STRING else -1)"
   ],
   "id": "750ae1336e24066",
   "outputs": [
    {
     "name": "stdout",
     "output_type": "stream",
     "text": [
      "2\n"
     ]
    }
   ],
   "execution_count": 45
  },
  {
   "metadata": {
    "ExecuteTime": {
     "end_time": "2025-06-13T03:57:25.747779Z",
     "start_time": "2025-06-13T03:57:25.744528Z"
    }
   },
   "cell_type": "code",
   "source": [
    "#15\n",
    "print(RANDOM_STRING.lower().replace('e', '@'))"
   ],
   "id": "d6282b499e028096",
   "outputs": [
    {
     "name": "stdout",
     "output_type": "stream",
     "text": [
      "@ncyclop@dia\n"
     ]
    }
   ],
   "execution_count": 49
  },
  {
   "metadata": {
    "ExecuteTime": {
     "end_time": "2025-06-13T04:02:49.454584Z",
     "start_time": "2025-06-13T04:02:49.451097Z"
    }
   },
   "cell_type": "code",
   "source": [
    "#16\n",
    "print(RANDOM_STRING + ' ' + RANDOM_STRING2)"
   ],
   "id": "80257573472c5b22",
   "outputs": [
    {
     "name": "stdout",
     "output_type": "stream",
     "text": [
      "Encyclopedia Shadow\n"
     ]
    }
   ],
   "execution_count": 52
  },
  {
   "metadata": {
    "ExecuteTime": {
     "end_time": "2025-06-13T04:03:16.997128Z",
     "start_time": "2025-06-13T04:03:16.994500Z"
    }
   },
   "cell_type": "code",
   "source": [
    "#17\n",
    "print(f\"Length of {RANDOM_STRING} = \", len(RANDOM_STRING))"
   ],
   "id": "4afc75b292814b0",
   "outputs": [
    {
     "name": "stdout",
     "output_type": "stream",
     "text": [
      "12\n"
     ]
    }
   ],
   "execution_count": 53
  },
  {
   "metadata": {
    "ExecuteTime": {
     "end_time": "2025-06-13T04:05:27.914028Z",
     "start_time": "2025-06-13T04:05:27.911281Z"
    }
   },
   "cell_type": "code",
   "source": [
    "#18\n",
    "print(f\"First 3 characters from {RANDOM_STRING}: {RANDOM_STRING[:3]}\")\n"
   ],
   "id": "30215a7e77f9ca35",
   "outputs": [
    {
     "name": "stdout",
     "output_type": "stream",
     "text": [
      "First 3 characters from Encyclopedia: Enc\n"
     ]
    }
   ],
   "execution_count": 54
  },
  {
   "metadata": {
    "ExecuteTime": {
     "end_time": "2025-06-13T04:07:55.061444Z",
     "start_time": "2025-06-13T04:07:55.058041Z"
    }
   },
   "cell_type": "code",
   "source": [
    "#19\n",
    "print(f\"If {RANDOM_STRING} contains 'hello': \",\n",
    "      True if 'hello' in RANDOM_STRING else False)"
   ],
   "id": "72dbc89e3ad81bbe",
   "outputs": [
    {
     "name": "stdout",
     "output_type": "stream",
     "text": [
      "If Encyclopedia contains 'hello':  False\n"
     ]
    }
   ],
   "execution_count": 61
  },
  {
   "metadata": {
    "ExecuteTime": {
     "end_time": "2025-06-13T04:08:58.632997Z",
     "start_time": "2025-06-13T04:08:58.629964Z"
    }
   },
   "cell_type": "code",
   "source": [
    "#20\n",
    "print(f\"Count of 'i' in {RANDOM_STRING} = \", RANDOM_STRING.count('i'))"
   ],
   "id": "fe5e38350c7b9a1b",
   "outputs": [
    {
     "name": "stdout",
     "output_type": "stream",
     "text": [
      "Count of 'i' in Encyclopedia =  1\n"
     ]
    }
   ],
   "execution_count": 62
  },
  {
   "metadata": {
    "ExecuteTime": {
     "end_time": "2025-06-13T04:27:19.770011Z",
     "start_time": "2025-06-13T04:27:19.767519Z"
    }
   },
   "cell_type": "code",
   "source": [
    "#LIST\n",
    "RANDOM_LIST = [INT_NUMBER, RANDOM_STRING, FLOAT_NUMBER]\n",
    "INT_LIST = [random.randrange(1, 1000),\n",
    "            random.randrange(1, 1000),\n",
    "            random.randrange(1, 1000)]"
   ],
   "id": "b96d4f3a8b7e151e",
   "outputs": [],
   "execution_count": 120
  },
  {
   "metadata": {
    "ExecuteTime": {
     "end_time": "2025-06-13T04:12:54.083378Z",
     "start_time": "2025-06-13T04:12:54.080221Z"
    }
   },
   "cell_type": "code",
   "source": [
    "#21\n",
    "print(\"Random list = \", RANDOM_LIST)"
   ],
   "id": "6dd1de955329e43f",
   "outputs": [
    {
     "name": "stdout",
     "output_type": "stream",
     "text": [
      "Random list =  [906, 'Encyclopedia', 10.55]\n"
     ]
    }
   ],
   "execution_count": 72
  },
  {
   "metadata": {
    "ExecuteTime": {
     "end_time": "2025-06-13T04:13:25.922433Z",
     "start_time": "2025-06-13T04:13:25.919201Z"
    }
   },
   "cell_type": "code",
   "source": [
    "#22\n",
    "print(\"Second element in a list: \", RANDOM_LIST[1])"
   ],
   "id": "af37d580b938a58",
   "outputs": [
    {
     "name": "stdout",
     "output_type": "stream",
     "text": [
      "Second element in a list:  Encyclopedia\n"
     ]
    }
   ],
   "execution_count": 74
  },
  {
   "metadata": {
    "ExecuteTime": {
     "end_time": "2025-06-13T04:14:48.157225Z",
     "start_time": "2025-06-13T04:14:48.154195Z"
    }
   },
   "cell_type": "code",
   "source": [
    "#23\n",
    "RANDOM_LIST[-1] = RANDOM_STRING2\n",
    "print(\"Replace last item: \", RANDOM_LIST)"
   ],
   "id": "7d8f9e6ffffc84fc",
   "outputs": [
    {
     "name": "stdout",
     "output_type": "stream",
     "text": [
      "Replace last item:  [906, 'Encyclopedia', 'Shadow']\n"
     ]
    }
   ],
   "execution_count": 76
  },
  {
   "metadata": {
    "ExecuteTime": {
     "end_time": "2025-06-13T04:16:02.922090Z",
     "start_time": "2025-06-13T04:16:02.919139Z"
    }
   },
   "cell_type": "code",
   "source": [
    "#24\n",
    "RANDOM_LIST.append(RANDOM_STRING2)\n",
    "print(\"Append new value: \", RANDOM_LIST)"
   ],
   "id": "fb0bf9371cc3e312",
   "outputs": [
    {
     "name": "stdout",
     "output_type": "stream",
     "text": [
      "Append new value:  [906, 'Encyclopedia', 10.55, 'Shadow']\n"
     ]
    }
   ],
   "execution_count": 80
  },
  {
   "metadata": {
    "ExecuteTime": {
     "end_time": "2025-06-13T04:16:53.354597Z",
     "start_time": "2025-06-13T04:16:53.351329Z"
    }
   },
   "cell_type": "code",
   "source": [
    "#25\n",
    "RANDOM_LIST.insert(1, RANDOM_STRING2)\n",
    "print(\"Inserted item at 2nd position: \", RANDOM_LIST)"
   ],
   "id": "a3ab6c472a70f70d",
   "outputs": [
    {
     "name": "stdout",
     "output_type": "stream",
     "text": [
      "Inserted item at 2nd position:  [906, 'Shadow', 'Encyclopedia', 10.55, 'Shadow']\n"
     ]
    }
   ],
   "execution_count": 81
  },
  {
   "metadata": {
    "ExecuteTime": {
     "end_time": "2025-06-13T04:23:43.585587Z",
     "start_time": "2025-06-13T04:23:43.582697Z"
    }
   },
   "cell_type": "code",
   "source": [
    "#26\n",
    "RANDOM_LIST.remove(RANDOM_STRING)\n",
    "print(f\"Removed '{RANDOM_STRING}' from list: {RANDOM_LIST}\")"
   ],
   "id": "88bd9c56759dfce1",
   "outputs": [
    {
     "name": "stdout",
     "output_type": "stream",
     "text": [
      "Removed 'Encyclopedia' from list: [325, 10.55]\n"
     ]
    }
   ],
   "execution_count": 109
  },
  {
   "metadata": {
    "ExecuteTime": {
     "end_time": "2025-06-13T04:24:11.648023Z",
     "start_time": "2025-06-13T04:24:11.645405Z"
    }
   },
   "cell_type": "code",
   "source": [
    "#27\n",
    "print(f\"Length of {RANDOM_LIST} = {len(RANDOM_LIST)}\")"
   ],
   "id": "aab59cd75e0335b1",
   "outputs": [
    {
     "name": "stdout",
     "output_type": "stream",
     "text": [
      "Length of [325, 10.55] = 2\n"
     ]
    }
   ],
   "execution_count": 110
  },
  {
   "metadata": {
    "ExecuteTime": {
     "end_time": "2025-06-13T04:27:24.759847Z",
     "start_time": "2025-06-13T04:27:24.757025Z"
    }
   },
   "cell_type": "code",
   "source": [
    "#28\n",
    "INT_LIST.sort()\n",
    "print(\"Ascending order: \", INT_LIST)"
   ],
   "id": "a85855938aca1a92",
   "outputs": [
    {
     "name": "stdout",
     "output_type": "stream",
     "text": [
      "Ascending order:  [4, 145, 443]\n"
     ]
    }
   ],
   "execution_count": 121
  },
  {
   "metadata": {
    "ExecuteTime": {
     "end_time": "2025-06-13T04:28:10.763969Z",
     "start_time": "2025-06-13T04:28:10.761064Z"
    }
   },
   "cell_type": "code",
   "source": [
    "#29\n",
    "print(f\"Reversed order of {RANDOM_LIST}:\\n{RANDOM_LIST[::-1]}\")"
   ],
   "id": "ce934cc7abb34c17",
   "outputs": [
    {
     "name": "stdout",
     "output_type": "stream",
     "text": [
      "Reversed order of [325, 'Encyclopedia', 10.55]:\n",
      "[10.55, 'Encyclopedia', 325]\n"
     ]
    }
   ],
   "execution_count": 125
  },
  {
   "metadata": {
    "ExecuteTime": {
     "end_time": "2025-06-13T05:13:48.457001Z",
     "start_time": "2025-06-13T05:13:48.454273Z"
    }
   },
   "cell_type": "code",
   "source": [
    "#30\n",
    "string_list = [\"apple\", \"banana\", \"cherry\"]\n",
    "result = \", \".join(string_list)\n",
    "print(result)"
   ],
   "id": "cd0a7c38fe7dab61",
   "outputs": [
    {
     "name": "stdout",
     "output_type": "stream",
     "text": [
      "apple, banana, cherry\n"
     ]
    }
   ],
   "execution_count": 203
  },
  {
   "metadata": {
    "ExecuteTime": {
     "end_time": "2025-06-13T04:31:05.585461Z",
     "start_time": "2025-06-13T04:31:05.582565Z"
    }
   },
   "cell_type": "code",
   "source": [
    "#TUPLE\n",
    "INT_TUPLE = (random.randrange(1, 1000),\n",
    "             random.randrange(1, 1000),\n",
    "             random.randrange(1, 1000))\n",
    "RANDOM_TUPLE = (INT_NUMBER, RANDOM_STRING, FLOAT_NUMBER)"
   ],
   "id": "fc68c0210c0120d7",
   "outputs": [],
   "execution_count": 126
  },
  {
   "metadata": {
    "ExecuteTime": {
     "end_time": "2025-06-13T04:31:24.217013Z",
     "start_time": "2025-06-13T04:31:24.213697Z"
    }
   },
   "cell_type": "code",
   "source": [
    "#31\n",
    "print(\"Integer tuple = \", INT_TUPLE)"
   ],
   "id": "bf23e3eb8973704d",
   "outputs": [
    {
     "name": "stdout",
     "output_type": "stream",
     "text": [
      "Integer tuple =  (239, 245, 916)\n"
     ]
    }
   ],
   "execution_count": 127
  },
  {
   "metadata": {
    "ExecuteTime": {
     "end_time": "2025-06-13T04:31:50.312406Z",
     "start_time": "2025-06-13T04:31:50.309147Z"
    }
   },
   "cell_type": "code",
   "source": [
    "#32\n",
    "print(\"First element: \", RANDOM_TUPLE[0])"
   ],
   "id": "4e674be91609bbfd",
   "outputs": [
    {
     "name": "stdout",
     "output_type": "stream",
     "text": [
      "First element:  325\n"
     ]
    }
   ],
   "execution_count": 128
  },
  {
   "metadata": {
    "ExecuteTime": {
     "end_time": "2025-06-13T04:32:22.443102Z",
     "start_time": "2025-06-13T04:32:22.440410Z"
    }
   },
   "cell_type": "code",
   "source": [
    "#33\n",
    "print(\"Last 2 elements: \", RANDOM_TUPLE[-2:])"
   ],
   "id": "4c99a2810b381901",
   "outputs": [
    {
     "name": "stdout",
     "output_type": "stream",
     "text": [
      "Last 2 elements:  ('Encyclopedia', 26.255)\n"
     ]
    }
   ],
   "execution_count": 129
  },
  {
   "metadata": {
    "ExecuteTime": {
     "end_time": "2025-06-13T04:34:36.732931Z",
     "start_time": "2025-06-13T04:34:36.730296Z"
    }
   },
   "cell_type": "code",
   "source": [
    "#34\n",
    "print(f\"{INT_NUMBER} Exists in {RANDOM_TUPLE}\"\n",
    "      if INT_NUMBER in RANDOM_TUPLE else False)"
   ],
   "id": "3a5ba3325f70c11a",
   "outputs": [
    {
     "name": "stdout",
     "output_type": "stream",
     "text": [
      "325 Exists in (325, 'Encyclopedia', 26.255)\n"
     ]
    }
   ],
   "execution_count": 132
  },
  {
   "metadata": {
    "ExecuteTime": {
     "end_time": "2025-06-13T04:34:59.557385Z",
     "start_time": "2025-06-13T04:34:59.554834Z"
    }
   },
   "cell_type": "code",
   "source": [
    "#35\n",
    "print(f\"Length of {RANDOM_TUPLE} = {len(RANDOM_TUPLE)}\")"
   ],
   "id": "caf0e67b09700bde",
   "outputs": [
    {
     "name": "stdout",
     "output_type": "stream",
     "text": [
      "Length of (325, 'Encyclopedia', 26.255) = 3\n"
     ]
    }
   ],
   "execution_count": 133
  },
  {
   "metadata": {
    "ExecuteTime": {
     "end_time": "2025-06-13T04:35:36.324553Z",
     "start_time": "2025-06-13T04:35:36.321795Z"
    }
   },
   "cell_type": "code",
   "source": [
    "#36\n",
    "print(f\"{RANDOM_TUPLE} to list: \", list(RANDOM_TUPLE))"
   ],
   "id": "a3848c958d880d25",
   "outputs": [
    {
     "name": "stdout",
     "output_type": "stream",
     "text": [
      "(325, 'Encyclopedia', 26.255) to list:  [325, 'Encyclopedia', 26.255]\n"
     ]
    }
   ],
   "execution_count": 135
  },
  {
   "metadata": {
    "ExecuteTime": {
     "end_time": "2025-06-13T04:36:41.239096Z",
     "start_time": "2025-06-13T04:36:41.236238Z"
    }
   },
   "cell_type": "code",
   "source": [
    "#37\n",
    "print(f\"Count of {INT_NUMBER} in {RANDOM_TUPLE} = \",\n",
    "      RANDOM_TUPLE.count(INT_NUMBER))"
   ],
   "id": "1adead97d0abfa85",
   "outputs": [
    {
     "name": "stdout",
     "output_type": "stream",
     "text": [
      "Count of 325 in (325, 'Encyclopedia', 26.255) =  1\n"
     ]
    }
   ],
   "execution_count": 136
  },
  {
   "metadata": {
    "ExecuteTime": {
     "end_time": "2025-06-13T04:37:19.861313Z",
     "start_time": "2025-06-13T04:37:19.858687Z"
    }
   },
   "cell_type": "code",
   "source": [
    "#38\n",
    "print(f\"Index of {INT_NUMBER} in {RANDOM_TUPLE} = \",\n",
    "      RANDOM_TUPLE.index(INT_NUMBER))"
   ],
   "id": "64e2935173888b45",
   "outputs": [
    {
     "name": "stdout",
     "output_type": "stream",
     "text": [
      "Index of 325 in (325, 'Encyclopedia', 26.255) =  0\n"
     ]
    }
   ],
   "execution_count": 137
  },
  {
   "metadata": {
    "ExecuteTime": {
     "end_time": "2025-06-13T04:38:34.205701Z",
     "start_time": "2025-06-13T04:38:34.202534Z"
    }
   },
   "cell_type": "code",
   "source": [
    "#39\n",
    "print(f\"Concatenation of {RANDOM_TUPLE} and {INT_TUPLE}: \",\n",
    "      tuple(list(RANDOM_TUPLE) + list(INT_TUPLE)))"
   ],
   "id": "1f5f4be12590ae5a",
   "outputs": [
    {
     "name": "stdout",
     "output_type": "stream",
     "text": [
      "Concatenation of (325, 'Encyclopedia', 26.255) and (239, 245, 916):  (325, 'Encyclopedia', 26.255, 239, 245, 916)\n"
     ]
    }
   ],
   "execution_count": 139
  },
  {
   "metadata": {
    "ExecuteTime": {
     "end_time": "2025-06-13T04:39:32.980768Z",
     "start_time": "2025-06-13T04:39:32.977657Z"
    }
   },
   "cell_type": "code",
   "source": [
    "#40\n",
    "print(f\"{RANDOM_TUPLE} is equal to {INT_TUPLE}: \"\n",
    "      f\"{RANDOM_TUPLE == INT_TUPLE}\")"
   ],
   "id": "a5b3fa40fd1556",
   "outputs": [
    {
     "name": "stdout",
     "output_type": "stream",
     "text": [
      "(325, 'Encyclopedia', 26.255) is equal to (239, 245, 916): False\n"
     ]
    }
   ],
   "execution_count": 140
  },
  {
   "metadata": {
    "ExecuteTime": {
     "end_time": "2025-06-13T04:42:27.973585Z",
     "start_time": "2025-06-13T04:42:27.970993Z"
    }
   },
   "cell_type": "code",
   "source": [
    "#DICTIONARY\n",
    "RANDOM_DICTIONARY = {\n",
    "    \"name\": RANDOM_STRING2,\n",
    "    \"age\": INT_NUMBER,\n",
    "    \"city\": \"Tokyo\",\n",
    "}\n",
    "\n",
    "RANDOM_DICTIONARY1 = {\n",
    "    \"element1\": INT_NUMBER,\n",
    "    \"element2\": FLOAT_NUMBER,\n",
    "    \"element3\": RANDOM_STRING,\n",
    "    \"element4\": RANDOM_LIST,\n",
    "}\n"
   ],
   "id": "721ccfb7028a51a2",
   "outputs": [],
   "execution_count": 144
  },
  {
   "metadata": {
    "ExecuteTime": {
     "end_time": "2025-06-13T04:42:49.704509Z",
     "start_time": "2025-06-13T04:42:49.701877Z"
    }
   },
   "cell_type": "code",
   "source": [
    "#41\n",
    "print(RANDOM_DICTIONARY)"
   ],
   "id": "ca3e053a340d34d6",
   "outputs": [
    {
     "name": "stdout",
     "output_type": "stream",
     "text": [
      "{'name': 'Shadow', 'age': 325, 'city': 'Tokyo'}\n"
     ]
    }
   ],
   "execution_count": 145
  },
  {
   "metadata": {
    "ExecuteTime": {
     "end_time": "2025-06-13T04:43:34.555450Z",
     "start_time": "2025-06-13T04:43:34.552672Z"
    }
   },
   "cell_type": "code",
   "source": [
    "#42\n",
    "print(\"Value of key 'name': \", RANDOM_DICTIONARY[\"name\"])"
   ],
   "id": "91df9a6008d64cc5",
   "outputs": [
    {
     "name": "stdout",
     "output_type": "stream",
     "text": [
      "Value of key 'name':  Shadow\n"
     ]
    }
   ],
   "execution_count": 147
  },
  {
   "metadata": {
    "ExecuteTime": {
     "end_time": "2025-06-13T04:46:09.380528Z",
     "start_time": "2025-06-13T04:46:09.377227Z"
    }
   },
   "cell_type": "code",
   "source": [
    "#43\n",
    "RANDOM_DICTIONARY.update({\"age\": random.randrange(1, 100)})\n",
    "print(\"Update age: \", RANDOM_DICTIONARY)"
   ],
   "id": "18cf7e81832a11f6",
   "outputs": [
    {
     "name": "stdout",
     "output_type": "stream",
     "text": [
      "Update age:  {'name': 'Shadow', 'age': 5, 'city': 'Tokyo'}\n"
     ]
    }
   ],
   "execution_count": 151
  },
  {
   "metadata": {
    "ExecuteTime": {
     "end_time": "2025-06-13T04:47:12.880841Z",
     "start_time": "2025-06-13T04:47:12.878307Z"
    }
   },
   "cell_type": "code",
   "source": [
    "#44\n",
    "RANDOM_DICTIONARY['email'] = 'abc@gmail.com'\n",
    "print(RANDOM_DICTIONARY)"
   ],
   "id": "890a817ce178e5c9",
   "outputs": [
    {
     "name": "stdout",
     "output_type": "stream",
     "text": [
      "{'name': 'Shadow', 'age': 5, 'city': 'Tokyo', 'email': 'abc@gmail.com'}\n"
     ]
    }
   ],
   "execution_count": 153
  },
  {
   "metadata": {
    "ExecuteTime": {
     "end_time": "2025-06-13T04:48:16.229060Z",
     "start_time": "2025-06-13T04:48:16.226043Z"
    }
   },
   "cell_type": "code",
   "source": [
    "#45\n",
    "RANDOM_DICTIONARY.pop('city')\n",
    "print(RANDOM_DICTIONARY)"
   ],
   "id": "abd4b2bb44bf3084",
   "outputs": [
    {
     "name": "stdout",
     "output_type": "stream",
     "text": [
      "{'name': 'Shadow', 'age': 5, 'email': 'abc@gmail.com'}\n"
     ]
    }
   ],
   "execution_count": 154
  },
  {
   "metadata": {
    "ExecuteTime": {
     "end_time": "2025-06-13T04:49:00.825682Z",
     "start_time": "2025-06-13T04:49:00.823005Z"
    }
   },
   "cell_type": "code",
   "source": [
    "#46\n",
    "print(\"All keys: \", list(RANDOM_DICTIONARY.keys()))"
   ],
   "id": "e26619183d71c160",
   "outputs": [
    {
     "name": "stdout",
     "output_type": "stream",
     "text": [
      "All keys:  ['name', 'age', 'email']\n"
     ]
    }
   ],
   "execution_count": 156
  },
  {
   "metadata": {
    "ExecuteTime": {
     "end_time": "2025-06-13T04:53:03.723638Z",
     "start_time": "2025-06-13T04:53:03.720720Z"
    }
   },
   "cell_type": "code",
   "source": [
    "#46\n",
    "print(\"All values: \", list(RANDOM_DICTIONARY.values()))"
   ],
   "id": "11a0118c8e8a90c0",
   "outputs": [
    {
     "name": "stdout",
     "output_type": "stream",
     "text": [
      "All keys:  ['Shadow', 5, 'abc@gmail.com']\n"
     ]
    }
   ],
   "execution_count": 166
  },
  {
   "metadata": {
    "ExecuteTime": {
     "end_time": "2025-06-13T04:52:35.611098Z",
     "start_time": "2025-06-13T04:52:35.608540Z"
    }
   },
   "cell_type": "code",
   "source": [
    "#48\n",
    "key = 'age'\n",
    "print(f\" '{key}' exists in {RANDOM_DICTIONARY}\",\n",
    "      key in RANDOM_DICTIONARY)"
   ],
   "id": "4a4ca8555237e53b",
   "outputs": [
    {
     "name": "stdout",
     "output_type": "stream",
     "text": [
      " 'age' exists in {'name': 'Shadow', 'age': 5, 'email': 'abc@gmail.com'} True\n"
     ]
    }
   ],
   "execution_count": 165
  },
  {
   "metadata": {
    "ExecuteTime": {
     "end_time": "2025-06-13T04:53:54.250899Z",
     "start_time": "2025-06-13T04:53:54.248261Z"
    }
   },
   "cell_type": "code",
   "source": [
    "#49\n",
    "print(\"Value of key 'age': \", RANDOM_DICTIONARY.get(key))"
   ],
   "id": "35ba279e4e4570b7",
   "outputs": [
    {
     "name": "stdout",
     "output_type": "stream",
     "text": [
      "Value of key 'age':  5\n"
     ]
    }
   ],
   "execution_count": 167
  },
  {
   "metadata": {
    "ExecuteTime": {
     "end_time": "2025-06-13T04:54:52.197894Z",
     "start_time": "2025-06-13T04:54:52.195038Z"
    }
   },
   "cell_type": "code",
   "source": [
    "#50\n",
    "RANDOM_DICTIONARY.clear()\n",
    "print(\"Clear dictionary: \", RANDOM_DICTIONARY)"
   ],
   "id": "19b70bda730bb450",
   "outputs": [
    {
     "name": "stdout",
     "output_type": "stream",
     "text": [
      "Clear dictionary:  {}\n"
     ]
    }
   ],
   "execution_count": 169
  },
  {
   "metadata": {
    "ExecuteTime": {
     "end_time": "2025-06-13T05:05:54.648323Z",
     "start_time": "2025-06-13T05:05:54.645850Z"
    }
   },
   "cell_type": "code",
   "source": [
    "#SET\n",
    "RANDOM_SET = {INT_NUMBER, RANDOM_STRING, FLOAT_NUMBER}\n",
    "INT_SET = (random.randrange(1, 1000),\n",
    "             random.randrange(1, 1000),\n",
    "             random.randrange(1, 1000),\n",
    "           INT_NUMBER)"
   ],
   "id": "c1acb1caa835bf7c",
   "outputs": [],
   "execution_count": 194
  },
  {
   "metadata": {
    "ExecuteTime": {
     "end_time": "2025-06-13T04:56:30.707618Z",
     "start_time": "2025-06-13T04:56:30.704561Z"
    }
   },
   "cell_type": "code",
   "source": [
    "#51\n",
    "print(INT_SET)"
   ],
   "id": "a98df054c9800453",
   "outputs": [
    {
     "name": "stdout",
     "output_type": "stream",
     "text": [
      "(245, 5, 224)\n"
     ]
    }
   ],
   "execution_count": 173
  },
  {
   "metadata": {
    "ExecuteTime": {
     "end_time": "2025-06-13T04:58:48.151711Z",
     "start_time": "2025-06-13T04:58:48.148710Z"
    }
   },
   "cell_type": "code",
   "source": [
    "#52\n",
    "RANDOM_SET.add(RANDOM_STRING2)\n",
    "print(RANDOM_SET)"
   ],
   "id": "b7213c64beada97",
   "outputs": [
    {
     "name": "stdout",
     "output_type": "stream",
     "text": [
      "{'Encyclopedia', 26.255, 325, 'Shadow'}\n"
     ]
    }
   ],
   "execution_count": 181
  },
  {
   "metadata": {
    "ExecuteTime": {
     "end_time": "2025-06-13T05:01:30.116784Z",
     "start_time": "2025-06-13T05:01:30.113978Z"
    }
   },
   "cell_type": "code",
   "source": [
    "#53\n",
    "RANDOM_SET.remove(RANDOM_STRING)\n",
    "print(f\"Removed {RANDOM_STRING}: {RANDOM_SET}\")"
   ],
   "id": "23025e1213a4833b",
   "outputs": [
    {
     "name": "stdout",
     "output_type": "stream",
     "text": [
      "Removed Encyclopedia: {26.255, 325}\n"
     ]
    }
   ],
   "execution_count": 188
  },
  {
   "metadata": {
    "ExecuteTime": {
     "end_time": "2025-06-13T05:02:39.485224Z",
     "start_time": "2025-06-13T05:02:39.482543Z"
    }
   },
   "cell_type": "code",
   "source": [
    "#54\n",
    "print(f\"'{RANDOM_STRING}' exists\"\n",
    "      if RANDOM_STRING in RANDOM_SET else False)"
   ],
   "id": "6d7358146a534fc",
   "outputs": [
    {
     "name": "stdout",
     "output_type": "stream",
     "text": [
      "'Encyclopedia' exists\n"
     ]
    }
   ],
   "execution_count": 191
  },
  {
   "metadata": {
    "ExecuteTime": {
     "end_time": "2025-06-13T05:03:29.059009Z",
     "start_time": "2025-06-13T05:03:29.055994Z"
    }
   },
   "cell_type": "code",
   "source": [
    "#55\n",
    "print(\"Union: \", RANDOM_SET.union(INT_SET))"
   ],
   "id": "ca3d525c6c49ef72",
   "outputs": [
    {
     "name": "stdout",
     "output_type": "stream",
     "text": [
      "Union:  {'Encyclopedia', 325, 654, 48, 533, 26.255}\n"
     ]
    }
   ],
   "execution_count": 192
  },
  {
   "metadata": {
    "ExecuteTime": {
     "end_time": "2025-06-13T05:07:09.099381Z",
     "start_time": "2025-06-13T05:07:09.096347Z"
    }
   },
   "cell_type": "code",
   "source": [
    "#56\n",
    "print(\"Intersection: \", RANDOM_SET.intersection(INT_SET))"
   ],
   "id": "227bc69d1d3f6f48",
   "outputs": [
    {
     "name": "stdout",
     "output_type": "stream",
     "text": [
      "Intersection:  {325}\n"
     ]
    }
   ],
   "execution_count": 195
  },
  {
   "metadata": {
    "ExecuteTime": {
     "end_time": "2025-06-13T05:08:50.021621Z",
     "start_time": "2025-06-13T05:08:50.018739Z"
    }
   },
   "cell_type": "code",
   "source": [
    "#57\n",
    "print(\"Difference: \", RANDOM_SET.difference(INT_SET))"
   ],
   "id": "7de3103f83ac1e80",
   "outputs": [
    {
     "name": "stdout",
     "output_type": "stream",
     "text": [
      "Difference:  {'Encyclopedia', 26.255}\n"
     ]
    }
   ],
   "execution_count": 196
  },
  {
   "metadata": {
    "ExecuteTime": {
     "end_time": "2025-06-13T05:09:24.218739Z",
     "start_time": "2025-06-13T05:09:24.214694Z"
    }
   },
   "cell_type": "code",
   "source": [
    "#58\n",
    "new_set = RANDOM_SET\n",
    "print(new_set)"
   ],
   "id": "adcbf5fc0eec8deb",
   "outputs": [
    {
     "name": "stdout",
     "output_type": "stream",
     "text": [
      "{'Encyclopedia', 26.255, 325}\n"
     ]
    }
   ],
   "execution_count": 197
  },
  {
   "metadata": {
    "ExecuteTime": {
     "end_time": "2025-06-13T05:10:10.928760Z",
     "start_time": "2025-06-13T05:10:10.925973Z"
    }
   },
   "cell_type": "code",
   "source": [
    "#59\n",
    "print(RANDOM_SET.issubset(INT_SET))"
   ],
   "id": "32e8bc1bc68330e6",
   "outputs": [
    {
     "name": "stdout",
     "output_type": "stream",
     "text": [
      "False\n"
     ]
    }
   ],
   "execution_count": 198
  },
  {
   "metadata": {
    "ExecuteTime": {
     "end_time": "2025-06-13T05:10:33.253435Z",
     "start_time": "2025-06-13T05:10:33.250975Z"
    }
   },
   "cell_type": "code",
   "source": [
    "#60\n",
    "RANDOM_SET.clear()\n",
    "print(RANDOM_SET)"
   ],
   "id": "4960566ee3d93939",
   "outputs": [
    {
     "name": "stdout",
     "output_type": "stream",
     "text": [
      "set()\n"
     ]
    }
   ],
   "execution_count": 199
  },
  {
   "metadata": {},
   "cell_type": "code",
   "outputs": [],
   "execution_count": null,
   "source": "",
   "id": "b8c6df7be7128ff6"
  }
 ],
 "metadata": {
  "kernelspec": {
   "display_name": "Python 3",
   "language": "python",
   "name": "python3"
  },
  "language_info": {
   "codemirror_mode": {
    "name": "ipython",
    "version": 2
   },
   "file_extension": ".py",
   "mimetype": "text/x-python",
   "name": "python",
   "nbconvert_exporter": "python",
   "pygments_lexer": "ipython2",
   "version": "2.7.6"
  }
 },
 "nbformat": 4,
 "nbformat_minor": 5
}
